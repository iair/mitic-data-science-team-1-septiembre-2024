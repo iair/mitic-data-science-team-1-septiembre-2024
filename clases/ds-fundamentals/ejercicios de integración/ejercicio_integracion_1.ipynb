{
 "cells": [
  {
   "cell_type": "markdown",
   "metadata": {},
   "source": [
    "### **Ejercicio:** Análisis y Limpieza de Datos de Ventas\n",
    "\n",
    "**Contexto:**\n",
    "\n",
    "Tienes un conjunto de datos que representa las ventas diarias de una tienda en línea. Este conjunto contiene información sobre los productos vendidos, la cantidad, el precio por unidad, y la fecha de venta. Sin embargo, algunos de los datos están incompletos o tienen valores nulos. El objetivo de este ejercicio es limpiar y analizar los datos, y calcular algunas medidas clave para entender mejor las ventas.\n",
    "\n",
    "\n",
    "\n",
    "**Objetivos:**\n",
    "- **Manipular arrays con numpy:** Para operaciones matemáticas básicas con los datos.\n",
    "- **Manejar datos con pandas:** Para cargar el dataset, analizar su estructura y calcular medidas de tendencia central.\n",
    "- **Trabajar con archivos JSON:** Para guardar y leer la información transformada.\n",
    "- **Manejar datos nulos:** Para identificar y lidiar con valores faltantes.\n",
    "- **Aplicar ciclos, condicionales y operadores lógicos/matemáticos:** Para realizar cálculos y aplicar reglas de negocio."
   ]
  },
  {
   "cell_type": "code",
   "execution_count": 5,
   "metadata": {},
   "outputs": [
    {
     "name": "stdout",
     "output_type": "stream",
     "text": [
      "Valores nulos en cada columna antes de la limpieza:\n",
      "fecha              0\n",
      "producto           0\n",
      "cantidad           4\n",
      "precio_unitario    4\n",
      "total              8\n",
      "dtype: int64\n",
      "\n",
      "Valores nulos después de la limpieza:\n",
      "fecha              0\n",
      "producto           0\n",
      "cantidad           0\n",
      "precio_unitario    0\n",
      "total              0\n",
      "dtype: int64\n",
      "\n",
      "Estadísticas de ventas totales:\n",
      "count     20.000000\n",
      "mean      74.600000\n",
      "std       37.733693\n",
      "min       12.000000\n",
      "25%       39.750000\n",
      "50%       90.000000\n",
      "75%      100.000000\n",
      "max      132.000000\n",
      "Name: total, dtype: float64\n",
      "\n",
      "Resumen de ventas por producto:\n",
      "            total_ventas  promedio_ventas  mediana_ventas  cantidad_ventas\n",
      "producto                                                                  \n",
      "Producto_A         233.0             46.6            21.0                5\n",
      "Producto_B         414.0             82.8            90.0                5\n",
      "Producto_C         461.0             92.2            99.0                5\n",
      "Producto_D         384.0             76.8            90.0                5\n",
      "\n",
      "Archivo limpio guardado en: C:\\Users\\Andy\\Documents\\mitic-data-science-team-1-septiembre-2024\\clases\\ds-fundamentals\\data\\ejercicios_integracion\\ventas_tienda_limpias.csv\n"
     ]
    }
   ],
   "source": [
    "import pandas as pd\n",
    "\n",
    "# Ruta del archivo CSV en Windows\n",
    "file_path = r\"C:\\Users\\Andy\\Documents\\mitic-data-science-team-1-septiembre-2024\\clases\\ds-fundamentals\\data\\ejercicios_integracion\\ventas_tienda_simulada.csv\"\n",
    "\n",
    "# 1. Cargar el archivo CSV\n",
    "df = pd.read_csv(file_path)\n",
    "\n",
    "# 2. Verificar valores nulos en cada columna\n",
    "print(\"Valores nulos en cada columna antes de la limpieza:\")\n",
    "print(df.isnull().sum())\n",
    "\n",
    "# 3. Completar la columna 'total' cuando sea posible (cantidad * precio_unitario)\n",
    "df['total'] = df.apply(\n",
    "    lambda row: row['cantidad'] * row['precio_unitario'] \n",
    "    if pd.isnull(row['total']) and not pd.isnull(row['cantidad']) and not pd.isnull(row['precio_unitario']) \n",
    "    else row['total'],\n",
    "    axis=1\n",
    ")\n",
    "\n",
    "# 4. Rellenar valores nulos en 'cantidad' y 'precio_unitario' con la mediana por producto\n",
    "df['cantidad'] = df.groupby('producto')['cantidad'].transform(lambda x: x.fillna(x.median()))\n",
    "df['precio_unitario'] = df.groupby('producto')['precio_unitario'].transform(lambda x: x.fillna(x.median()))\n",
    "\n",
    "# 5. Recalcular 'total' en caso de que se hayan completado 'cantidad' o 'precio_unitario'\n",
    "df['total'] = df.apply(\n",
    "    lambda row: row['cantidad'] * row['precio_unitario'] \n",
    "    if pd.isnull(row['total']) \n",
    "    else row['total'],\n",
    "    axis=1\n",
    ")\n",
    "\n",
    "# 6. Verificación de valores nulos\n",
    "print(\"\\nValores nulos después de la limpieza:\")\n",
    "print(df.isnull().sum())\n",
    "\n",
    "# 7. Estadísticas descriptivas generales de las ventas totales\n",
    "print(\"\\nEstadísticas de ventas totales:\")\n",
    "print(df['total'].describe())\n",
    "\n",
    "# 8. Resumen de ventas por producto (total, promedio, mediana, cantidad)\n",
    "ventas_por_producto = df.groupby('producto')['total'].agg(\n",
    "    total_ventas='sum', \n",
    "    promedio_ventas='mean', \n",
    "    mediana_ventas='median', \n",
    "    cantidad_ventas='count'\n",
    ")\n",
    "print(\"\\nResumen de ventas por producto:\")\n",
    "print(ventas_por_producto)\n",
    "\n",
    "# 9. Guardar el DataFrame limpio en un nuevo archivo CSV\n",
    "output_path = r\"C:\\Users\\Andy\\Documents\\mitic-data-science-team-1-septiembre-2024\\clases\\ds-fundamentals\\data\\ejercicios_integracion\\ventas_tienda_limpias.csv\"\n",
    "df.to_csv(output_path, index=False)\n",
    "\n",
    "print(f\"\\nArchivo limpio guardado en: {output_path}\")"
   ]
  },
  {
   "cell_type": "markdown",
   "metadata": {},
   "source": [
    "### Algunos Análisis Adicionales"
   ]
  },
  {
   "cell_type": "code",
   "execution_count": 6,
   "metadata": {},
   "outputs": [
    {
     "name": "stdout",
     "output_type": "stream",
     "text": [
      "\n",
      "Promedio y mediana del precio unitario:\n",
      "mean    17.15\n",
      "50%     18.00\n",
      "Name: precio_unitario, dtype: float64\n",
      "\n",
      "Producto más vendido: Producto_C con 24.5 unidades vendidas.\n",
      "\n",
      "Correlación entre precio unitario y total de ventas: 0.67\n",
      "\n",
      "Promedio de ventas diarias: 74.60\n"
     ]
    }
   ],
   "source": [
    "# 1. Promedio y mediana de precio unitario\n",
    "print(\"\\nPromedio y mediana del precio unitario:\")\n",
    "print(df['precio_unitario'].describe()[['mean', '50%']])  # 50% es la mediana\n",
    "\n",
    "# 2. Producto más vendido en términos de cantidad total\n",
    "producto_mas_vendido = df.groupby('producto')['cantidad'].sum().idxmax()\n",
    "cantidad_producto_mas_vendido = df.groupby('producto')['cantidad'].sum().max()\n",
    "print(f\"\\nProducto más vendido: {producto_mas_vendido} con {cantidad_producto_mas_vendido} unidades vendidas.\")\n",
    "\n",
    "# 3. Correlación entre precio unitario y total de ventas\n",
    "correlacion_precio_ventas = df['precio_unitario'].corr(df['total'])\n",
    "print(f\"\\nCorrelación entre precio unitario y total de ventas: {correlacion_precio_ventas:.2f}\")\n",
    "\n",
    "# 4. Promedio de ventas totales por día (si la columna 'fecha' está disponible)\n",
    "if 'fecha' in df.columns:\n",
    "    df['fecha'] = pd.to_datetime(df['fecha'], errors='coerce')\n",
    "    ventas_diarias = df.groupby(df['fecha'].dt.date)['total'].sum()\n",
    "    promedio_ventas_diarias = ventas_diarias.mean()\n",
    "    print(f\"\\nPromedio de ventas diarias: {promedio_ventas_diarias:.2f}\")\n"
   ]
  }
 ],
 "metadata": {
  "kernelspec": {
   "display_name": "Python 3",
   "language": "python",
   "name": "python3"
  },
  "language_info": {
   "codemirror_mode": {
    "name": "ipython",
    "version": 3
   },
   "file_extension": ".py",
   "mimetype": "text/x-python",
   "name": "python",
   "nbconvert_exporter": "python",
   "pygments_lexer": "ipython3",
   "version": "3.12.6"
  }
 },
 "nbformat": 4,
 "nbformat_minor": 2
}
