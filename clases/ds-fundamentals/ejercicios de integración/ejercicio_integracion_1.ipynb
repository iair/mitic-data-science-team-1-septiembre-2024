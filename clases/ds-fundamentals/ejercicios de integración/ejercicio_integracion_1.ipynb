{
 "cells": [
  {
   "cell_type": "markdown",
   "metadata": {},
   "source": [
    "# **Análisis y Limpieza de Datos de Ventas**"
   ]
  },
  {
   "cell_type": "markdown",
   "metadata": {},
   "source": [
    "### **DATASET:**\n",
    "Se tiene un conjunto de datos que representa las ventas diarias de una tienda en línea. Este conjunto contiene información sobre los productos vendidos, la cantidad, el precio por unidad, y la fecha de venta. Sin embargo, algunos de los datos están incompletos o tienen valores nulos. \n",
    "\n",
    "### **OBJETIVOS:**\n",
    "El objetivo es limpiar y analizar los datos, y calcular algunas medidas clave para entender mejor las ventas.\n",
    "* Manipular arrays con numpy: Para operaciones matemáticas básicas con los datos.\n",
    "* Manejar datos con pandas: Para cargar el dataset, analizar su estructura y calcular medidas de tendencia central.\n",
    "* Trabajar con archivos JSON: Para guardar y leer la información transformada.\n",
    "* Manejar datos nulos: Para identificar y lidiar con valores faltantes.\n",
    "* Aplicar ciclos, condicionales y operadores lógicos/matemáticos: Para realizar cálculos y aplicar reglas de negocio."
   ]
  },
  {
   "cell_type": "code",
   "execution_count": null,
   "metadata": {
    "vscode": {
     "languageId": "plaintext"
    }
   },
   "outputs": [],
   "source": [
    "# Importar las librerías necesarias\n",
    "import numpy as np\n",
    "import pandas as pd\n",
    "import os\n",
    "import json"
   ]
  },
  {
   "cell_type": "code",
   "execution_count": null,
   "metadata": {
    "vscode": {
     "languageId": "plaintext"
    }
   },
   "outputs": [],
   "source": [
    "# Cargar el archivo CSV\n",
    "file_path = 'clases/ds-fundamentals/data/ejercicios_integracion/ventas_tienda_simulada.csv'\n",
    "df = pd.read_csv(file_path)\n",
    "\n",
    "# Mostrar los primeros registros del dataframe para visualizar los datos\n",
    "print(\"Datos originales:\")\n",
    "display(df)"
   ]
  },
  {
   "cell_type": "code",
   "execution_count": null,
   "metadata": {
    "vscode": {
     "languageId": "plaintext"
    }
   },
   "outputs": [],
   "source": [
    "# Identificar datos nulos\n",
    "print(\"\\nDatos nulos por columna:\")\n",
    "print(df.isnull().sum())\n",
    "\n",
    "# Manejo de datos nulos:\n",
    "# 1. Rellenar 'cantidad' y 'precio_unitario' con la media de la columna.\n",
    "df['cantidad'].fillna(df['cantidad'].mean(), inplace=True)\n",
    "df['precio_unitario'].fillna(df['precio_unitario'].mean(), inplace=True)\n",
    "\n",
    "# 2. Calcular el valor de 'total' faltante como cantidad * precio_unitario\n",
    "df['total'] = df['total'].fillna(df['cantidad'] * df['precio_unitario'])\n",
    "\n",
    "# Verificar los datos luego del manejo de nulos\n",
    "print(\"\\nDatos luego de manejar valores nulos:\")\n",
    "display(df)"
   ]
  },
  {
   "cell_type": "code",
   "execution_count": null,
   "metadata": {
    "vscode": {
     "languageId": "plaintext"
    }
   },
   "outputs": [],
   "source": [
    "# Guardar el dataframe limpio en un archivo JSON\n",
    "output_file_path = os.path.join(os.path.dirname(file_path), 'ventas_tienda_simulada_limpio.json')\n",
    "df.to_json(output_file_path, orient='records', lines=True)\n",
    "\n",
    "# Leer el archivo JSON para verificar que se haya guardado correctamente\n",
    "with open(output_file_path, 'r') as f:\n",
    "    data_json = f.readlines()\n",
    "\n",
    "print(f\"\\nArchivo JSON guardado en: {output_file_path}\")\n",
    "print(\"\\nPrimeros 3 registros en el archivo JSON:\")\n",
    "print(data_json[:3])"
   ]
  },
  {
   "cell_type": "code",
   "execution_count": null,
   "metadata": {
    "vscode": {
     "languageId": "plaintext"
    }
   },
   "outputs": [],
   "source": [
    "# Medidas de tendencia central usando numpy\n",
    "cantidad_array = np.array(df['cantidad'])\n",
    "precio_array = np.array(df['precio_unitario'])\n",
    "total_array = np.array(df['total'])\n",
    "\n",
    "print(\"\\nMedidas de tendencia central:\")\n",
    "print(f\"Media de la cantidad vendida: {np.mean(cantidad_array)}\")\n",
    "print(f\"Media del precio unitario: {np.mean(precio_array)}\")\n",
    "print(f\"Media del total de ventas: {np.mean(total_array)}\")\n",
    "\n",
    "# Estadísticas descriptivas generales usando pandas\n",
    "print(\"\\nEstadísticas descriptivas:\")\n",
    "print(df.describe())\n"
   ]
  }
 ],
 "metadata": {
  "language_info": {
   "name": "python"
  }
 },
 "nbformat": 4,
 "nbformat_minor": 2
}
