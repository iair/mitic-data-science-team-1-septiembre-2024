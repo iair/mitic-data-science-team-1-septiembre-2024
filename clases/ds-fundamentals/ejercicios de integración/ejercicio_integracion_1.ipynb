{
 "cells": [
  {
   "cell_type": "code",
   "execution_count": 3,
   "metadata": {},
   "outputs": [],
   "source": [
    "import pandas as pd\n",
    "import numpy as np\n",
    "import json"
   ]
  },
  {
   "cell_type": "markdown",
   "metadata": {},
   "source": [
    "#Ahora cargamos los datos"
   ]
  },
  {
   "cell_type": "code",
   "execution_count": 4,
   "metadata": {},
   "outputs": [
    {
     "name": "stdout",
     "output_type": "stream",
     "text": [
      "        fecha    producto  cantidad  precio_unitario  total\n",
      "0  2023-01-01  Producto_A       2.0             10.5   21.0\n",
      "1  2023-01-02  Producto_B       NaN             20.0    NaN\n",
      "2  2023-01-03  Producto_C       5.0              NaN    NaN\n",
      "3  2023-01-04  Producto_D       7.0             15.0  105.0\n",
      "4  2023-01-05  Producto_A       1.0             12.0   12.0\n"
     ]
    }
   ],
   "source": [
    "path = '../data/ejercicios_integracion/ventas_tienda_simulada.csv'\n",
    "datos = pd.read_csv(filepath_or_buffer=path, sep= ',', header=0)\n",
    "\n",
    "\n",
    "print(datos.head())"
   ]
  },
  {
   "cell_type": "markdown",
   "metadata": {},
   "source": [
    "# Obtener información sobre las columnas y los tipos de datos"
   ]
  },
  {
   "cell_type": "code",
   "execution_count": 5,
   "metadata": {},
   "outputs": [
    {
     "name": "stdout",
     "output_type": "stream",
     "text": [
      "<class 'pandas.core.frame.DataFrame'>\n",
      "RangeIndex: 20 entries, 0 to 19\n",
      "Data columns (total 5 columns):\n",
      " #   Column           Non-Null Count  Dtype  \n",
      "---  ------           --------------  -----  \n",
      " 0   fecha            20 non-null     object \n",
      " 1   producto         20 non-null     object \n",
      " 2   cantidad         16 non-null     float64\n",
      " 3   precio_unitario  16 non-null     float64\n",
      " 4   total            12 non-null     float64\n",
      "dtypes: float64(3), object(2)\n",
      "memory usage: 932.0+ bytes\n",
      "None\n",
      "        cantidad  precio_unitario       total\n",
      "count  16.000000        16.000000   12.000000\n",
      "mean    4.250000        16.656250   67.250000\n",
      "std     2.175623         6.436145   41.569493\n",
      "min     1.000000         9.000000   12.000000\n",
      "25%     2.750000        10.875000   25.500000\n",
      "50%     4.000000        15.000000   81.000000\n",
      "75%     6.000000        20.500000  100.000000\n",
      "max     8.000000        30.000000  132.000000\n"
     ]
    }
   ],
   "source": [
    "print(datos.info())\n",
    "print(datos.describe())"
   ]
  },
  {
   "cell_type": "code",
   "execution_count": 6,
   "metadata": {},
   "outputs": [
    {
     "name": "stdout",
     "output_type": "stream",
     "text": [
      "fecha              0\n",
      "producto           0\n",
      "cantidad           4\n",
      "precio_unitario    4\n",
      "total              8\n",
      "dtype: int64\n"
     ]
    },
    {
     "data": {
      "text/html": [
       "<div>\n",
       "<style scoped>\n",
       "    .dataframe tbody tr th:only-of-type {\n",
       "        vertical-align: middle;\n",
       "    }\n",
       "\n",
       "    .dataframe tbody tr th {\n",
       "        vertical-align: top;\n",
       "    }\n",
       "\n",
       "    .dataframe thead th {\n",
       "        text-align: right;\n",
       "    }\n",
       "</style>\n",
       "<table border=\"1\" class=\"dataframe\">\n",
       "  <thead>\n",
       "    <tr style=\"text-align: right;\">\n",
       "      <th></th>\n",
       "      <th>fecha</th>\n",
       "      <th>producto</th>\n",
       "      <th>cantidad</th>\n",
       "      <th>precio_unitario</th>\n",
       "      <th>total</th>\n",
       "    </tr>\n",
       "  </thead>\n",
       "  <tbody>\n",
       "    <tr>\n",
       "      <th>0</th>\n",
       "      <td>2023-01-01</td>\n",
       "      <td>Producto_A</td>\n",
       "      <td>2.0</td>\n",
       "      <td>10.5</td>\n",
       "      <td>21.0</td>\n",
       "    </tr>\n",
       "    <tr>\n",
       "      <th>1</th>\n",
       "      <td>2023-01-02</td>\n",
       "      <td>Producto_B</td>\n",
       "      <td>0.0</td>\n",
       "      <td>20.0</td>\n",
       "      <td>0.0</td>\n",
       "    </tr>\n",
       "    <tr>\n",
       "      <th>2</th>\n",
       "      <td>2023-01-03</td>\n",
       "      <td>Producto_C</td>\n",
       "      <td>5.0</td>\n",
       "      <td>0.0</td>\n",
       "      <td>0.0</td>\n",
       "    </tr>\n",
       "    <tr>\n",
       "      <th>3</th>\n",
       "      <td>2023-01-04</td>\n",
       "      <td>Producto_D</td>\n",
       "      <td>7.0</td>\n",
       "      <td>15.0</td>\n",
       "      <td>105.0</td>\n",
       "    </tr>\n",
       "    <tr>\n",
       "      <th>4</th>\n",
       "      <td>2023-01-05</td>\n",
       "      <td>Producto_A</td>\n",
       "      <td>1.0</td>\n",
       "      <td>12.0</td>\n",
       "      <td>12.0</td>\n",
       "    </tr>\n",
       "    <tr>\n",
       "      <th>5</th>\n",
       "      <td>2023-01-06</td>\n",
       "      <td>Producto_B</td>\n",
       "      <td>4.0</td>\n",
       "      <td>25.0</td>\n",
       "      <td>100.0</td>\n",
       "    </tr>\n",
       "    <tr>\n",
       "      <th>6</th>\n",
       "      <td>2023-01-07</td>\n",
       "      <td>Producto_C</td>\n",
       "      <td>0.0</td>\n",
       "      <td>0.0</td>\n",
       "      <td>0.0</td>\n",
       "    </tr>\n",
       "    <tr>\n",
       "      <th>7</th>\n",
       "      <td>2023-01-08</td>\n",
       "      <td>Producto_D</td>\n",
       "      <td>3.0</td>\n",
       "      <td>30.0</td>\n",
       "      <td>90.0</td>\n",
       "    </tr>\n",
       "    <tr>\n",
       "      <th>8</th>\n",
       "      <td>2023-01-09</td>\n",
       "      <td>Producto_A</td>\n",
       "      <td>2.0</td>\n",
       "      <td>10.0</td>\n",
       "      <td>20.0</td>\n",
       "    </tr>\n",
       "    <tr>\n",
       "      <th>9</th>\n",
       "      <td>2023-01-10</td>\n",
       "      <td>Producto_B</td>\n",
       "      <td>0.0</td>\n",
       "      <td>0.0</td>\n",
       "      <td>0.0</td>\n",
       "    </tr>\n",
       "    <tr>\n",
       "      <th>10</th>\n",
       "      <td>2023-01-11</td>\n",
       "      <td>Producto_C</td>\n",
       "      <td>6.0</td>\n",
       "      <td>22.0</td>\n",
       "      <td>132.0</td>\n",
       "    </tr>\n",
       "    <tr>\n",
       "      <th>11</th>\n",
       "      <td>2023-01-12</td>\n",
       "      <td>Producto_D</td>\n",
       "      <td>4.0</td>\n",
       "      <td>18.0</td>\n",
       "      <td>72.0</td>\n",
       "    </tr>\n",
       "    <tr>\n",
       "      <th>12</th>\n",
       "      <td>2023-01-13</td>\n",
       "      <td>Producto_A</td>\n",
       "      <td>5.0</td>\n",
       "      <td>20.0</td>\n",
       "      <td>100.0</td>\n",
       "    </tr>\n",
       "    <tr>\n",
       "      <th>13</th>\n",
       "      <td>2023-01-14</td>\n",
       "      <td>Producto_B</td>\n",
       "      <td>0.0</td>\n",
       "      <td>25.0</td>\n",
       "      <td>0.0</td>\n",
       "    </tr>\n",
       "    <tr>\n",
       "      <th>14</th>\n",
       "      <td>2023-01-15</td>\n",
       "      <td>Producto_C</td>\n",
       "      <td>1.0</td>\n",
       "      <td>14.0</td>\n",
       "      <td>14.0</td>\n",
       "    </tr>\n",
       "    <tr>\n",
       "      <th>15</th>\n",
       "      <td>2023-01-16</td>\n",
       "      <td>Producto_D</td>\n",
       "      <td>3.0</td>\n",
       "      <td>9.0</td>\n",
       "      <td>27.0</td>\n",
       "    </tr>\n",
       "    <tr>\n",
       "      <th>16</th>\n",
       "      <td>2023-01-17</td>\n",
       "      <td>Producto_A</td>\n",
       "      <td>8.0</td>\n",
       "      <td>10.0</td>\n",
       "      <td>80.0</td>\n",
       "    </tr>\n",
       "    <tr>\n",
       "      <th>17</th>\n",
       "      <td>2023-01-18</td>\n",
       "      <td>Producto_B</td>\n",
       "      <td>4.0</td>\n",
       "      <td>11.0</td>\n",
       "      <td>44.0</td>\n",
       "    </tr>\n",
       "    <tr>\n",
       "      <th>18</th>\n",
       "      <td>2023-01-19</td>\n",
       "      <td>Producto_C</td>\n",
       "      <td>7.0</td>\n",
       "      <td>0.0</td>\n",
       "      <td>0.0</td>\n",
       "    </tr>\n",
       "    <tr>\n",
       "      <th>19</th>\n",
       "      <td>2023-01-20</td>\n",
       "      <td>Producto_D</td>\n",
       "      <td>6.0</td>\n",
       "      <td>15.0</td>\n",
       "      <td>90.0</td>\n",
       "    </tr>\n",
       "  </tbody>\n",
       "</table>\n",
       "</div>"
      ],
      "text/plain": [
       "         fecha    producto  cantidad  precio_unitario  total\n",
       "0   2023-01-01  Producto_A       2.0             10.5   21.0\n",
       "1   2023-01-02  Producto_B       0.0             20.0    0.0\n",
       "2   2023-01-03  Producto_C       5.0              0.0    0.0\n",
       "3   2023-01-04  Producto_D       7.0             15.0  105.0\n",
       "4   2023-01-05  Producto_A       1.0             12.0   12.0\n",
       "5   2023-01-06  Producto_B       4.0             25.0  100.0\n",
       "6   2023-01-07  Producto_C       0.0              0.0    0.0\n",
       "7   2023-01-08  Producto_D       3.0             30.0   90.0\n",
       "8   2023-01-09  Producto_A       2.0             10.0   20.0\n",
       "9   2023-01-10  Producto_B       0.0              0.0    0.0\n",
       "10  2023-01-11  Producto_C       6.0             22.0  132.0\n",
       "11  2023-01-12  Producto_D       4.0             18.0   72.0\n",
       "12  2023-01-13  Producto_A       5.0             20.0  100.0\n",
       "13  2023-01-14  Producto_B       0.0             25.0    0.0\n",
       "14  2023-01-15  Producto_C       1.0             14.0   14.0\n",
       "15  2023-01-16  Producto_D       3.0              9.0   27.0\n",
       "16  2023-01-17  Producto_A       8.0             10.0   80.0\n",
       "17  2023-01-18  Producto_B       4.0             11.0   44.0\n",
       "18  2023-01-19  Producto_C       7.0              0.0    0.0\n",
       "19  2023-01-20  Producto_D       6.0             15.0   90.0"
      ]
     },
     "execution_count": 6,
     "metadata": {},
     "output_type": "execute_result"
    }
   ],
   "source": [
    "#nulos?\n",
    "print(datos.isnull().sum())\n",
    "#no se vendio, no considero:\n",
    "datos = datos[datos['cantidad'] != 0]\n",
    "# Rellenar valores nulos en las columnas 'cantidad' y 'precio_por_unidad' con 0\n",
    "datos['cantidad'] = datos['cantidad'].fillna(0)\n",
    "datos['precio_unitario'] = datos['precio_unitario'].fillna(0)\n",
    "\n",
    "# Calcular la columna total y sobrescribirla\n",
    "datos['total'] = datos['cantidad'] * datos['precio_unitario']\n",
    "\n",
    "datos.head(20) #para validar\n"
   ]
  },
  {
   "cell_type": "markdown",
   "metadata": {},
   "source": [
    "medidas de Tendencia central"
   ]
  },
  {
   "cell_type": "code",
   "execution_count": 7,
   "metadata": {},
   "outputs": [
    {
     "name": "stdout",
     "output_type": "stream",
     "text": [
      "Media de cantidad: 3.4, Mediana de cantidad: 3.5, Moda de cantidad: 0.0\n",
      "Media de precio: 13.325, Mediana de precio: 13.0, Moda de precio: 0.0\n"
     ]
    }
   ],
   "source": [
    "# Calcular la media, mediana y moda de las ventas (cantidad y precio)\n",
    "media_cantidad = datos['cantidad'].mean()\n",
    "mediana_cantidad = datos['cantidad'].median()\n",
    "moda_cantidad = datos['cantidad'].mode()[0]\n",
    "\n",
    "media_precio = datos['precio_unitario'].mean()\n",
    "mediana_precio = datos['precio_unitario'].median()\n",
    "moda_precio = datos['precio_unitario'].mode()[0]\n",
    "\n",
    "print(f'Media de cantidad: {media_cantidad}, Mediana de cantidad: {mediana_cantidad}, Moda de cantidad: {moda_cantidad}')\n",
    "print(f'Media de precio: {media_precio}, Mediana de precio: {mediana_precio}, Moda de precio: {moda_precio}')\n"
   ]
  },
  {
   "cell_type": "markdown",
   "metadata": {},
   "source": [
    "operaciones matemáticas básicas con numpy"
   ]
  },
  {
   "cell_type": "code",
   "execution_count": 8,
   "metadata": {},
   "outputs": [
    {
     "name": "stdout",
     "output_type": "stream",
     "text": [
      "Las ventas por día son de:  [ 21.   0.   0. 105.  12. 100.   0.  90.  20.   0. 132.  72. 100.   0.\n",
      "  14.  27.  80.  44.   0.  90.]\n"
     ]
    }
   ],
   "source": [
    "cantidad_array = datos['cantidad'].to_numpy()\n",
    "precio_array = datos['precio_unitario'].to_numpy()\n",
    "\n",
    "#ventas x día\n",
    "total_ventas = np.multiply(cantidad_array, precio_array)\n",
    "print(\"Las ventas por día son de: \", total_ventas)\n",
    "\n"
   ]
  },
  {
   "cell_type": "code",
   "execution_count": 9,
   "metadata": {},
   "outputs": [
    {
     "name": "stdout",
     "output_type": "stream",
     "text": [
      "Promedio de ventas por día:  45.35\n",
      "Promedio de precio unitario:  13.325\n"
     ]
    }
   ],
   "source": [
    "# promedio de ventas por día\n",
    "promedio_ventas_por_dia = np.mean(total_ventas)\n",
    "print(\"Promedio de ventas por día: \", promedio_ventas_por_dia)\n",
    "\n",
    "#promedio del precio unitario\n",
    "promedio_precio_unitario = np.mean(precio_array)\n",
    "print(\"Promedio de precio unitario: \", promedio_precio_unitario)"
   ]
  },
  {
   "cell_type": "markdown",
   "metadata": {},
   "source": [
    "guardamos tipo json"
   ]
  },
  {
   "cell_type": "code",
   "execution_count": 12,
   "metadata": {},
   "outputs": [
    {
     "name": "stdout",
     "output_type": "stream",
     "text": [
      "[{'fecha': '2023-01-01', 'producto': 'Producto_A', 'cantidad': 2.0, 'precio_unitario': 10.5, 'total': 21.0}, {'fecha': '2023-01-03', 'producto': 'Producto_C', 'cantidad': 5.0, 'precio_unitario': 0.0, 'total': None}, {'fecha': '2023-01-04', 'producto': 'Producto_D', 'cantidad': 7.0, 'precio_unitario': 15.0, 'total': 105.0}, {'fecha': '2023-01-05', 'producto': 'Producto_A', 'cantidad': 1.0, 'precio_unitario': 12.0, 'total': 12.0}, {'fecha': '2023-01-06', 'producto': 'Producto_B', 'cantidad': 4.0, 'precio_unitario': 25.0, 'total': 100.0}]\n"
     ]
    }
   ],
   "source": [
    "\n",
    "path2 = '../data/ejercicios_integracion/ventas_limpias.json'\n",
    "\n",
    "datos.to_json(path2, orient='records', lines=True)\n",
    "\n",
    "# Leer el archivo JSON línea por línea\n",
    "with open('ventas_limpias.json', 'r') as f:\n",
    "    datos_json = [json.loads(line) for line in f]\n",
    "\n",
    "# Mostrar algunos registros\n",
    "print(datos_json[:5])\n"
   ]
  },
  {
   "cell_type": "markdown",
   "metadata": {},
   "source": [
    "imprimir"
   ]
  }
 ],
 "metadata": {
  "kernelspec": {
   "display_name": "Python 3",
   "language": "python",
   "name": "python3"
  },
  "language_info": {
   "codemirror_mode": {
    "name": "ipython",
    "version": 3
   },
   "file_extension": ".py",
   "mimetype": "text/x-python",
   "name": "python",
   "nbconvert_exporter": "python",
   "pygments_lexer": "ipython3",
   "version": "3.12.6"
  }
 },
 "nbformat": 4,
 "nbformat_minor": 2
}
