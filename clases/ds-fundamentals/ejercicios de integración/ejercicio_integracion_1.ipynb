{
 "cells": [
  {
   "cell_type": "code",
   "execution_count": 16,
   "metadata": {},
   "outputs": [
    {
     "name": "stdout",
     "output_type": "stream",
     "text": [
      "\n",
      "--- Estructura del DataFrame ---\n",
      "<class 'pandas.core.frame.DataFrame'>\n",
      "RangeIndex: 20 entries, 0 to 19\n",
      "Data columns (total 5 columns):\n",
      " #   Column           Non-Null Count  Dtype  \n",
      "---  ------           --------------  -----  \n",
      " 0   fecha            20 non-null     object \n",
      " 1   producto         20 non-null     object \n",
      " 2   cantidad         16 non-null     float64\n",
      " 3   precio_unitario  16 non-null     float64\n",
      " 4   total            12 non-null     float64\n",
      "dtypes: float64(3), object(2)\n",
      "memory usage: 932.0+ bytes\n",
      "None\n",
      "\n",
      "--- Primeras filas del Dataframe ---\n",
      "        fecha    producto  cantidad  precio_unitario  total\n",
      "0  2023-01-01  Producto_A       2.0             10.5   21.0\n",
      "1  2023-01-02  Producto_B       NaN             20.0    NaN\n",
      "2  2023-01-03  Producto_C       5.0              NaN    NaN\n",
      "3  2023-01-04  Producto_D       7.0             15.0  105.0\n",
      "4  2023-01-05  Producto_A       1.0             12.0   12.0\n",
      "\n",
      "--- Valores nulos del Dataframe ---\n",
      "fecha              0\n",
      "producto           0\n",
      "cantidad           4\n",
      "precio_unitario    4\n",
      "total              8\n",
      "dtype: int64\n"
     ]
    }
   ],
   "source": [
    "import numpy as np\n",
    "import pandas as pd\n",
    "import json\n",
    "\n",
    "df = pd.read_csv(\"./ventas_tienda_simulada.csv\")\n",
    "\n",
    "#Ver la extructura del dataframe y verificar si tiene archivos nulos\n",
    "print(\"\\n--- Estructura del DataFrame ---\")\n",
    "print(df.info())\n",
    "\n",
    "print(\"\\n--- Primeras filas del Dataframe ---\")\n",
    "print(df.head())\n",
    "\n",
    "#Identificación de valores nulos\n",
    "print(\"\\n--- Valores nulos del Dataframe ---\")\n",
    "print(df.isnull().sum())\n",
    "\n",
    "# Rellenar con 0 (opción alternativa)\n",
    "df['cantidad'] = df['cantidad'].fillna(0)\n",
    "df['precio_unitario'] = df['precio_unitario'].fillna(0)\n",
    "df['total'] = df['total'].fillna(0)\n",
    "\n",
    "\n"
   ]
  }
 ],
 "metadata": {
  "kernelspec": {
   "display_name": "Python 3",
   "language": "python",
   "name": "python3"
  },
  "language_info": {
   "codemirror_mode": {
    "name": "ipython",
    "version": 3
   },
   "file_extension": ".py",
   "mimetype": "text/x-python",
   "name": "python",
   "nbconvert_exporter": "python",
   "pygments_lexer": "ipython3",
   "version": "3.12.2"
  }
 },
 "nbformat": 4,
 "nbformat_minor": 2
}
