{
 "cells": [
  {
   "cell_type": "markdown",
   "metadata": {},
   "source": [
    "aa"
   ]
  },
  {
   "cell_type": "code",
   "execution_count": 1,
   "metadata": {},
   "outputs": [
    {
     "name": "stdout",
     "output_type": "stream",
     "text": [
      "Fechas: ['2023-01-01' '2023-01-02' '2023-01-03' '2023-01-04' '2023-01-05'\n",
      " '2023-01-06' '2023-01-07' '2023-01-08' '2023-01-09' '2023-01-10'\n",
      " '2023-01-11' '2023-01-12' '2023-01-13' '2023-01-14' '2023-01-15'\n",
      " '2023-01-16' '2023-01-17' '2023-01-18' '2023-01-19' '2023-01-20']\n",
      "Productos: ['Producto_A' 'Producto_B' 'Producto_C' 'Producto_D' 'Producto_A'\n",
      " 'Producto_B' 'Producto_C' 'Producto_D' 'Producto_A' 'Producto_B'\n",
      " 'Producto_C' 'Producto_D' 'Producto_A' 'Producto_B' 'Producto_C'\n",
      " 'Producto_D' 'Producto_A' 'Producto_B' 'Producto_C' 'Producto_D']\n",
      "Cantidades: [ 2. nan  5.  7.  1.  4. nan  3.  2. nan  6.  4.  5. nan  1.  3.  8.  4.\n",
      "  7.  6.]\n",
      "Precios: [10.5 20.   nan 15.  12.  25.   nan 30.  10.   nan 22.  18.  20.  25.\n",
      " 14.   9.  10.  11.   nan 15. ]\n",
      "Totales: [ 21.  nan  nan 105.  12. 100.  nan  90.  nan  nan 132.  72. 100.  nan\n",
      "  14.  27.  nan  44.  nan  90.]\n"
     ]
    }
   ],
   "source": [
    "import numpy as np\n",
    "\n",
    "# Definir los tipos de datos de las columnas\n",
    "data = np.genfromtxt('../data/ejercicios_integracion/ventas_tienda_simulada.csv', delimiter=',', skip_header=1, \n",
    "                     dtype=[('fecha', 'U10'), ('producto', 'U20'), ('cantidad', 'f8'), \n",
    "                            ('precio_unitario', 'f8'), ('total', 'f8')], encoding='utf-8')\n",
    "\n",
    "# Separar las columnas\n",
    "fechas = data['fecha']\n",
    "productos = data['producto']\n",
    "cantidades = data['cantidad']\n",
    "precios = data['precio_unitario']\n",
    "totales = data['total']\n",
    "\n",
    "# Mostrar cada columna por separado\n",
    "print(\"Fechas:\", fechas)\n",
    "print(\"Productos:\", productos)\n",
    "print(\"Cantidades:\", cantidades)\n",
    "print(\"Precios:\", precios)\n",
    "print(\"Totales:\", totales)\n"
   ]
  },
  {
   "cell_type": "code",
   "execution_count": 2,
   "metadata": {},
   "outputs": [
    {
     "name": "stdout",
     "output_type": "stream",
     "text": [
      "\n",
      "Total de la columna 'total': 807.0\n"
     ]
    }
   ],
   "source": [
    "\n",
    "# Calcular la suma de la columna 'total'\n",
    "suma_total = np.nansum(data['total'])  # Usamos nansum para ignorar NaN\n",
    "\n",
    "print(\"\\nTotal de la columna 'total':\", suma_total)"
   ]
  },
  {
   "cell_type": "code",
   "execution_count": 3,
   "metadata": {},
   "outputs": [
    {
     "name": "stdout",
     "output_type": "stream",
     "text": [
      "\n",
      "Resultados de los cálculos:\n",
      "Precio máximo: 30.0\n",
      "Precio mínimo: 9.0\n",
      "Precio promedio: 16.65625\n",
      "Precio mediana: 15.0\n"
     ]
    }
   ],
   "source": [
    "\n",
    "# Calcular el precio máximo, mínimo, promedio y mediana de la columna 'precio_unitario'\n",
    "precio_maximo = np.nanmax(data['precio_unitario'])  # Ignora NaN\n",
    "precio_minimo = np.nanmin(data['precio_unitario'])  # Ignora NaN\n",
    "precio_promedio = np.nanmean(data['precio_unitario'])  # Ignora NaN\n",
    "precio_mediana = np.nanmedian(data['precio_unitario'])  # Ignora NaN\n",
    "\n",
    "# Mostrar los resultados\n",
    "print(\"\\nResultados de los cálculos:\")\n",
    "print(\"Precio máximo:\", precio_maximo)\n",
    "print(\"Precio mínimo:\", precio_minimo)\n",
    "print(\"Precio promedio:\", precio_promedio)\n",
    "print(\"Precio mediana:\", precio_mediana)"
   ]
  },
  {
   "cell_type": "code",
   "execution_count": 4,
   "metadata": {},
   "outputs": [
    {
     "name": "stdout",
     "output_type": "stream",
     "text": [
      "\n",
      "Producto con mayor venta:\n",
      "Producto: Producto_C\n",
      "Total vendido: 132.0\n",
      "\n",
      "Producto con menor venta:\n",
      "Producto: Producto_A\n",
      "Total vendido: 12.0\n"
     ]
    }
   ],
   "source": [
    "\n",
    "# Encontrar el índice del producto con la mayor y menor venta\n",
    "indice_max_venta = np.nanargmax(data['total'])  # Ignora NaN\n",
    "indice_min_venta = np.nanargmin(data['total'])  # Ignora NaN\n",
    "\n",
    "# Obtener el producto correspondiente\n",
    "producto_max_venta = data[indice_max_venta]\n",
    "producto_min_venta = data[indice_min_venta]\n",
    "\n",
    "# Mostrar resultados\n",
    "print(\"\\nProducto con mayor venta:\")\n",
    "print(\"Producto:\", producto_max_venta['producto'])\n",
    "print(\"Total vendido:\", producto_max_venta['total'])\n",
    "\n",
    "print(\"\\nProducto con menor venta:\")\n",
    "print(\"Producto:\", producto_min_venta['producto'])\n",
    "print(\"Total vendido:\", producto_min_venta['total'])"
   ]
  },
  {
   "cell_type": "markdown",
   "metadata": {},
   "source": []
  },
  {
   "cell_type": "code",
   "execution_count": 5,
   "metadata": {},
   "outputs": [
    {
     "name": "stdout",
     "output_type": "stream",
     "text": [
      "Primeras filas del dataset:\n",
      "        fecha    producto  cantidad  precio_unitario  total\n",
      "0  2023-01-01  Producto_A       2.0             10.5   21.0\n",
      "1  2023-01-02  Producto_B       NaN             20.0    NaN\n",
      "2  2023-01-03  Producto_C       5.0              NaN    NaN\n",
      "3  2023-01-04  Producto_D       7.0             15.0  105.0\n",
      "4  2023-01-05  Producto_A       1.0             12.0   12.0\n",
      "\n",
      "Dimensiones del dataset: (20, 5)\n",
      "\n",
      "Nombres de las columnas: Index(['fecha', 'producto', 'cantidad', 'precio_unitario', 'total'], dtype='object')\n",
      "\n",
      "Información del dataset:\n",
      "<class 'pandas.core.frame.DataFrame'>\n",
      "RangeIndex: 20 entries, 0 to 19\n",
      "Data columns (total 5 columns):\n",
      " #   Column           Non-Null Count  Dtype  \n",
      "---  ------           --------------  -----  \n",
      " 0   fecha            20 non-null     object \n",
      " 1   producto         20 non-null     object \n",
      " 2   cantidad         16 non-null     float64\n",
      " 3   precio_unitario  16 non-null     float64\n",
      " 4   total            12 non-null     float64\n",
      "dtypes: float64(3), object(2)\n",
      "memory usage: 932.0+ bytes\n",
      "None\n",
      "\n",
      "Estadísticas descriptivas:\n",
      "        cantidad  precio_unitario       total\n",
      "count  16.000000        16.000000   12.000000\n",
      "mean    4.250000        16.656250   67.250000\n",
      "std     2.175623         6.436145   41.569493\n",
      "min     1.000000         9.000000   12.000000\n",
      "25%     2.750000        10.875000   25.500000\n",
      "50%     4.000000        15.000000   81.000000\n",
      "75%     6.000000        20.500000  100.000000\n",
      "max     8.000000        30.000000  132.000000\n"
     ]
    }
   ],
   "source": [
    "import pandas as pd\n",
    "\n",
    "# Leer el archivo CSV\n",
    "df = pd.read_csv('../data/ejercicios_integracion/ventas_tienda_simulada.csv')\n",
    "\n",
    "# Mostrar las primeras filas del DataFrame para entender su estructura\n",
    "print(\"Primeras filas del dataset:\")\n",
    "print(df.head())\n",
    "\n",
    "print(\"\\nDimensiones del dataset:\", df.shape)  # (filas, columnas)\n",
    "\n",
    "print(\"\\nNombres de las columnas:\", df.columns)\n",
    "\n",
    "print(\"\\nInformación del dataset:\")\n",
    "print(df.info())\n",
    "\n",
    "print(\"\\nEstadísticas descriptivas:\")\n",
    "print(df.describe())\n"
   ]
  },
  {
   "cell_type": "code",
   "execution_count": 6,
   "metadata": {},
   "outputs": [
    {
     "name": "stdout",
     "output_type": "stream",
     "text": [
      "\n",
      "Media de la cantidad: 4.25\n",
      "Media del precio unitario: 16.65625\n",
      "Media del total: 67.25\n"
     ]
    }
   ],
   "source": [
    "media_cantidad = df['cantidad'].mean()\n",
    "media_precio_unitario = df['precio_unitario'].mean()\n",
    "media_total = df['total'].mean()\n",
    "\n",
    "print(\"\\nMedia de la cantidad:\", media_cantidad)\n",
    "print(\"Media del precio unitario:\", media_precio_unitario)\n",
    "print(\"Media del total:\", media_total)\n"
   ]
  },
  {
   "cell_type": "code",
   "execution_count": 7,
   "metadata": {},
   "outputs": [
    {
     "name": "stdout",
     "output_type": "stream",
     "text": [
      "\n",
      "Mediana de la cantidad: 4.0\n",
      "Mediana del precio unitario: 15.0\n",
      "Mediana del total: 81.0\n"
     ]
    }
   ],
   "source": [
    "mediana_cantidad = df['cantidad'].median()\n",
    "mediana_precio_unitario = df['precio_unitario'].median()\n",
    "mediana_total = df['total'].median()\n",
    "\n",
    "print(\"\\nMediana de la cantidad:\", mediana_cantidad)\n",
    "print(\"Mediana del precio unitario:\", mediana_precio_unitario)\n",
    "print(\"Mediana del total:\", mediana_total)\n"
   ]
  },
  {
   "cell_type": "code",
   "execution_count": null,
   "metadata": {},
   "outputs": [],
   "source": []
  },
  {
   "cell_type": "code",
   "execution_count": 8,
   "metadata": {},
   "outputs": [
    {
     "name": "stdout",
     "output_type": "stream",
     "text": [
      "\n",
      "Moda de los productos: ['Producto_A', 'Producto_B', 'Producto_C', 'Producto_D']\n"
     ]
    }
   ],
   "source": [
    "moda_producto = df['producto'].mode()\n",
    "\n",
    "print(\"\\nModa de los productos:\", moda_producto.tolist())  # Puede haber más de una moda\n"
   ]
  },
  {
   "cell_type": "code",
   "execution_count": 9,
   "metadata": {},
   "outputs": [
    {
     "name": "stdout",
     "output_type": "stream",
     "text": [
      "Primeras filas del dataset:\n",
      "        fecha    producto  cantidad  precio_unitario  total\n",
      "0  2023-01-01  Producto_A       2.0             10.5   21.0\n",
      "1  2023-01-02  Producto_B       NaN             20.0    NaN\n",
      "2  2023-01-03  Producto_C       5.0              NaN    NaN\n",
      "3  2023-01-04  Producto_D       7.0             15.0  105.0\n",
      "4  2023-01-05  Producto_A       1.0             12.0   12.0\n",
      "\n",
      "Estructura del dataframe:\n",
      "<class 'pandas.core.frame.DataFrame'>\n",
      "RangeIndex: 20 entries, 0 to 19\n",
      "Data columns (total 5 columns):\n",
      " #   Column           Non-Null Count  Dtype  \n",
      "---  ------           --------------  -----  \n",
      " 0   fecha            20 non-null     object \n",
      " 1   producto         20 non-null     object \n",
      " 2   cantidad         16 non-null     float64\n",
      " 3   precio_unitario  16 non-null     float64\n",
      " 4   total            12 non-null     float64\n",
      "dtypes: float64(3), object(2)\n",
      "memory usage: 932.0+ bytes\n",
      "None\n",
      "\n",
      "Resultados de las medidas de tendencia central:\n",
      "Precio máximo: 30.0\n",
      "Precio mínimo: 9.0\n",
      "Precio promedio: 16.65625\n",
      "Precio mediana: 15.0\n",
      "\n",
      "Resultados para la columna 'total':\n",
      "Total máximo: 132.0\n",
      "Total mínimo: 12.0\n",
      "Total promedio: 67.25\n",
      "Total mediana: 81.0\n"
     ]
    }
   ],
   "source": [
    "import pandas as pd\n",
    "\n",
    "# Cargar el archivo CSV\n",
    "df = pd.read_csv('../data/ejercicios_integracion/ventas_tienda_simulada.csv')\n",
    "\n",
    "# Mostrar las primeras filas del dataframe\n",
    "print(\"Primeras filas del dataset:\")\n",
    "print(df.head())\n",
    "\n",
    "# Mostrar la estructura del dataframe\n",
    "print(\"\\nEstructura del dataframe:\")\n",
    "print(df.info())\n",
    "\n",
    "# Calcular medidas de tendencia central para la columna 'precio_unitario' y 'total'\n",
    "precio_maximo = df['precio_unitario'].max()  # Máximo\n",
    "precio_minimo = df['precio_unitario'].min()  # Mínimo\n",
    "precio_promedio = df['precio_unitario'].mean()  # Promedio\n",
    "precio_mediana = df['precio_unitario'].median()  # Mediana\n",
    "\n",
    "# Mostrar los resultados\n",
    "print(\"\\nResultados de las medidas de tendencia central:\")\n",
    "print(\"Precio máximo:\", precio_maximo)\n",
    "print(\"Precio mínimo:\", precio_minimo)\n",
    "print(\"Precio promedio:\", precio_promedio)\n",
    "print(\"Precio mediana:\", precio_mediana)\n",
    "\n",
    "# También puedes calcular lo mismo para la columna 'total'\n",
    "total_maximo = df['total'].max()\n",
    "total_minimo = df['total'].min()\n",
    "total_promedio = df['total'].mean()\n",
    "total_mediana = df['total'].median()\n",
    "\n",
    "print(\"\\nResultados para la columna 'total':\")\n",
    "print(\"Total máximo:\", total_maximo)\n",
    "print(\"Total mínimo:\", total_minimo)\n",
    "print(\"Total promedio:\", total_promedio)\n",
    "print(\"Total mediana:\", total_mediana)\n"
   ]
  },
  {
   "cell_type": "code",
   "execution_count": 10,
   "metadata": {},
   "outputs": [
    {
     "name": "stdout",
     "output_type": "stream",
     "text": [
      "Datos cargados desde el archivo JSON:\n",
      "{'id_participante': 1, 'nombre': 'Participante_A', 'intentos': 5, 'tiempo_total_horas': 12, 'puntuaciones': [80, 85, 90, 88, None]}\n",
      "{'id_participante': 2, 'nombre': 'Participante_B', 'intentos': 3, 'tiempo_total_horas': None, 'puntuaciones': [70, 75, None]}\n",
      "{'id_participante': 3, 'nombre': 'Participante_C', 'intentos': 4, 'tiempo_total_horas': 10, 'puntuaciones': [85, 90, 95, 93]}\n",
      "{'id_participante': 4, 'nombre': 'Participante_D', 'intentos': 2, 'tiempo_total_horas': 5, 'puntuaciones': [60, None]}\n",
      "{'id_participante': 5, 'nombre': 'Participante_E', 'intentos': 6, 'tiempo_total_horas': 14, 'puntuaciones': [78, 82, None, None, 80, 85]}\n"
     ]
    }
   ],
   "source": [
    "import json\n",
    "\n",
    "# Leer el archivo JSON\n",
    "with open('../data/ejercicios_integracion/competencia_kaggle.json', 'r') as file:\n",
    "    datos = json.load(file)\n",
    "\n",
    "# Mostrar los datos cargados\n",
    "print(\"Datos cargados desde el archivo JSON:\")\n",
    "for item in datos:\n",
    "    print(item)\n"
   ]
  },
  {
   "cell_type": "code",
   "execution_count": 11,
   "metadata": {},
   "outputs": [
    {
     "name": "stdout",
     "output_type": "stream",
     "text": [
      "DataFrame cargado desde el archivo JSON:\n",
      "   id_participante          nombre  intentos  tiempo_total_horas  \\\n",
      "0                1  Participante_A         5                12.0   \n",
      "1                2  Participante_B         3                 NaN   \n",
      "2                3  Participante_C         4                10.0   \n",
      "3                4  Participante_D         2                 5.0   \n",
      "4                5  Participante_E         6                14.0   \n",
      "\n",
      "                   puntuaciones  \n",
      "0        [80, 85, 90, 88, None]  \n",
      "1                [70, 75, None]  \n",
      "2              [85, 90, 95, 93]  \n",
      "3                    [60, None]  \n",
      "4  [78, 82, None, None, 80, 85]  \n"
     ]
    }
   ],
   "source": [
    "import pandas as pd\n",
    "\n",
    "# Cargar el archivo JSON en un DataFrame\n",
    "df = pd.read_json('../data/ejercicios_integracion/competencia_kaggle.json')\n",
    "\n",
    "# Mostrar el DataFrame\n",
    "print(\"DataFrame cargado desde el archivo JSON:\")\n",
    "print(df)\n"
   ]
  },
  {
   "cell_type": "code",
   "execution_count": 12,
   "metadata": {},
   "outputs": [
    {
     "name": "stdout",
     "output_type": "stream",
     "text": [
      "datos faltantes\n"
     ]
    },
    {
     "data": {
      "text/plain": [
       "id_participante       0\n",
       "nombre                0\n",
       "intentos              0\n",
       "tiempo_total_horas    1\n",
       "puntuaciones          0\n",
       "dtype: int64"
      ]
     },
     "execution_count": 12,
     "metadata": {},
     "output_type": "execute_result"
    }
   ],
   "source": [
    "print(\"datos faltantes\")\n",
    "df.isnull().sum()"
   ]
  },
  {
   "cell_type": "code",
   "execution_count": 13,
   "metadata": {},
   "outputs": [
    {
     "name": "stdout",
     "output_type": "stream",
     "text": [
      "DataFrame original:\n",
      "   id_participante          nombre  intentos  tiempo_total_horas  \\\n",
      "0                1  Participante_A         5                12.0   \n",
      "1                2  Participante_B         3                 NaN   \n",
      "2                3  Participante_C         4                10.0   \n",
      "3                4  Participante_D         2                 5.0   \n",
      "4                5  Participante_E         6                14.0   \n",
      "\n",
      "                   puntuaciones  \n",
      "0        [80, 85, 90, 88, None]  \n",
      "1                [70, 75, None]  \n",
      "2              [85, 90, 95, 93]  \n",
      "3                    [60, None]  \n",
      "4  [78, 82, None, None, 80, 85]  \n",
      "\n",
      "DataFrame después de rellenar valores nulos y calcular promedios:\n",
      "   id_participante          nombre  intentos  tiempo_total_horas  \\\n",
      "0                1  Participante_A         5             12.0000   \n",
      "1                2  Participante_B         3              7.6875   \n",
      "2                3  Participante_C         4             10.0000   \n",
      "3                4  Participante_D         2              5.0000   \n",
      "4                5  Participante_E         6             14.0000   \n",
      "\n",
      "                   puntuaciones  promedio_puntuaciones  \n",
      "0        [80, 85, 90, 88, None]                  85.75  \n",
      "1                [70, 75, None]                  72.50  \n",
      "2              [85, 90, 95, 93]                  90.75  \n",
      "3                    [60, None]                  60.00  \n",
      "4  [78, 82, None, None, 80, 85]                  81.25  \n",
      "\n",
      "Verificación de valores nulos:\n",
      "id_participante          0\n",
      "nombre                   0\n",
      "intentos                 0\n",
      "tiempo_total_horas       0\n",
      "puntuaciones             0\n",
      "promedio_puntuaciones    0\n",
      "dtype: int64\n"
     ]
    }
   ],
   "source": [
    "import pandas as pd\n",
    "import numpy as np\n",
    "\n",
    "# Cargar el archivo JSON en un DataFrame\n",
    "df = pd.read_json('../data/ejercicios_integracion/competencia_kaggle.json')\n",
    "\n",
    "\n",
    "# Mostrar el DataFrame original\n",
    "print(\"DataFrame original:\")\n",
    "print(df)\n",
    "\n",
    "# Calcular el promedio de tiempo_total_horas por intentos (excluyendo los nulos)\n",
    "promedio_tiempo_total_horas = df['tiempo_total_horas'].mean()\n",
    "\n",
    "# Calcular el promedio por intento\n",
    "if pd.notna(promedio_tiempo_total_horas):\n",
    "    promedio_por_intento = promedio_tiempo_total_horas / df['intentos'].mean()\n",
    "\n",
    "    # Rellenar los valores nulos en tiempo_total_horas\n",
    "    df['tiempo_total_horas'] = df['tiempo_total_horas'].fillna(df['intentos'] * promedio_por_intento)\n",
    "\n",
    "# Calcular el promedio de puntuaciones\n",
    "def calcular_promedio_puntuaciones(puntuaciones):\n",
    "    # Asegurarse de que se trabaje con una lista y eliminar None\n",
    "    if isinstance(puntuaciones, list):\n",
    "        # Filtrar valores nulos y calcular el promedio\n",
    "        puntuaciones_filtradas = [p for p in puntuaciones if p is not None]\n",
    "        return np.nanmean(puntuaciones_filtradas) if puntuaciones_filtradas else np.nan\n",
    "    return np.nan\n",
    "\n",
    "# Aplicar la función para calcular el promedio de puntuaciones\n",
    "df['promedio_puntuaciones'] = df['puntuaciones'].apply(calcular_promedio_puntuaciones)\n",
    "\n",
    "# Mostrar el DataFrame actualizado\n",
    "print(\"\\nDataFrame después de rellenar valores nulos y calcular promedios:\")\n",
    "print(df)\n",
    "\n",
    "# Verificar si hay valores nulos restantes\n",
    "print(\"\\nVerificación de valores nulos:\")\n",
    "print(df.isnull().sum())\n"
   ]
  },
  {
   "cell_type": "code",
   "execution_count": 14,
   "metadata": {},
   "outputs": [
    {
     "name": "stdout",
     "output_type": "stream",
     "text": [
      "\n",
      "DataFrame con bonificaciones:\n",
      "   id_participante          nombre  intentos  tiempo_total_horas  \\\n",
      "0                1  Participante_A         5             12.0000   \n",
      "1                2  Participante_B         3              7.6875   \n",
      "2                3  Participante_C         4             10.0000   \n",
      "3                4  Participante_D         2              5.0000   \n",
      "4                5  Participante_E         6             14.0000   \n",
      "\n",
      "                   puntuaciones  promedio_puntuaciones  bonificacion  \n",
      "0        [80, 85, 90, 88, None]                  85.75            10  \n",
      "1                [70, 75, None]                  72.50             5  \n",
      "2              [85, 90, 95, 93]                  90.75            10  \n",
      "3                    [60, None]                  60.00             0  \n",
      "4  [78, 82, None, None, 80, 85]                  81.25             5  \n"
     ]
    }
   ],
   "source": [
    "\n",
    "# Calcular el promedio de puntuaciones\n",
    "def calcular_promedio_puntuaciones(puntuaciones):\n",
    "    if isinstance(puntuaciones, list):\n",
    "        puntuaciones_filtradas = [p for p in puntuaciones if p is not None]\n",
    "        return np.nanmean(puntuaciones_filtradas) if puntuaciones_filtradas else np.nan\n",
    "    return np.nan\n",
    "\n",
    "df['promedio_puntuaciones'] = df['puntuaciones'].apply(calcular_promedio_puntuaciones)\n",
    "\n",
    "# Aplicar reglas de negocio usando ciclos y condicionales\n",
    "bonificaciones = []\n",
    "for index, row in df.iterrows():\n",
    "    promedio = row['promedio_puntuaciones']\n",
    "    if promedio > 85:\n",
    "        bonificaciones.append(10)\n",
    "    elif 70 < promedio <= 85:\n",
    "        bonificaciones.append(5)\n",
    "    else:\n",
    "        bonificaciones.append(0)\n",
    "\n",
    "# Agregar la columna de bonificaciones al DataFrame\n",
    "df['bonificacion'] = bonificaciones\n",
    "\n",
    "# Mostrar el DataFrame actualizado\n",
    "print(\"\\nDataFrame con bonificaciones:\")\n",
    "print(df)"
   ]
  }
 ],
 "metadata": {
  "kernelspec": {
   "display_name": "Python (bootcamp_mitic)",
   "language": "python",
   "name": "bootcamp_mitic"
  },
  "language_info": {
   "codemirror_mode": {
    "name": "ipython",
    "version": 3
   },
   "file_extension": ".py",
   "mimetype": "text/x-python",
   "name": "python",
   "nbconvert_exporter": "python",
   "pygments_lexer": "ipython3",
   "version": "3.11.10"
  }
 },
 "nbformat": 4,
 "nbformat_minor": 2
}
