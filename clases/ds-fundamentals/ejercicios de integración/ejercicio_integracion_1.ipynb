{
 "cells": [
  {
   "cell_type": "code",
   "execution_count": null,
   "metadata": {},
   "outputs": [],
   "source": [
    "import pandas as pd\n",
    "import numpy as np\n",
    "\n",
    "# Ruta del archivo CSV proporcionado por el usuario\n",
    "ruta_csv = r\"C:\\Users\\59598\\Downloads\\ventas_tienda_simulada.csv\"\n",
    "\n",
    "# Cargar el archivo CSV\n",
    "df = pd.read_csv(ruta_csv)\n",
    "\n",
    "# Visualizar el DataFrame original\n",
    "print(\"Datos originales:\")\n",
    "print(df.head())\n",
    "\n",
    "# 1. Rellenar valores nulos en la columna \"total\" con la multiplicación de \"cantidad\" y \"precio_unitario\"\n",
    "df['total'] = df['total'].fillna(df['cantidad'] * df['precio_unitario'])\n",
    "\n",
    "# 2. Rellenar valores nulos en \"cantidad\" o \"precio_unitario\" según el contexto. \n",
    "# Por ejemplo, si \"total\" y \"precio_unitario\" están presentes, podemos calcular la \"cantidad\":\n",
    "df['cantidad'] = df['cantidad'].fillna(df['total'] / df['precio_unitario'])\n",
    "\n",
    "# Si \"total\" y \"cantidad\" están presentes, calculamos \"precio_unitario\":\n",
    "df['precio_unitario'] = df['precio_unitario'].fillna(df['total'] / df['cantidad'])\n",
    "\n",
    "# Mostrar los datos limpios\n",
    "print(\"\\nDatos después de la limpieza:\")\n",
    "print(df.head())\n",
    "\n",
    "# Guardar los datos limpios en un archivo CSV\n",
    "df.to_csv(r'C:\\Users\\59598\\Downloads\\ventas_limpias.csv', index=False)\n",
    "\n",
    "# Mostrar el proceso completado\n",
    "print(\"\\nDatos limpios guardados como 'ventas_limpias.csv' en la carpeta Downloads.\")\n"
   ]
  }
 ],
 "metadata": {
  "language_info": {
   "name": "python"
  }
 },
 "nbformat": 4,
 "nbformat_minor": 2
}
