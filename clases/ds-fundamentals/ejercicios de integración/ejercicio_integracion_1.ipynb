{
 "cells": [
  {
   "cell_type": "markdown",
   "id": "879d9f84",
   "metadata": {},
   "source": [
    "Practica -- notas tratar de entender mejor NaN y none tipos de datos de python\n",
    "Tengo que repasar la clase anterior"
   ]
  },
  {
   "cell_type": "code",
   "execution_count": 1,
   "id": "85c6a0c6",
   "metadata": {},
   "outputs": [
    {
     "data": {
      "text/html": [
       "<div>\n",
       "<style scoped>\n",
       "    .dataframe tbody tr th:only-of-type {\n",
       "        vertical-align: middle;\n",
       "    }\n",
       "\n",
       "    .dataframe tbody tr th {\n",
       "        vertical-align: top;\n",
       "    }\n",
       "\n",
       "    .dataframe thead th {\n",
       "        text-align: right;\n",
       "    }\n",
       "</style>\n",
       "<table border=\"1\" class=\"dataframe\">\n",
       "  <thead>\n",
       "    <tr style=\"text-align: right;\">\n",
       "      <th></th>\n",
       "      <th>fecha</th>\n",
       "      <th>producto</th>\n",
       "      <th>cantidad</th>\n",
       "      <th>precio_unitario</th>\n",
       "      <th>total</th>\n",
       "    </tr>\n",
       "  </thead>\n",
       "  <tbody>\n",
       "    <tr>\n",
       "      <th>0</th>\n",
       "      <td>2023-01-01</td>\n",
       "      <td>Producto_A</td>\n",
       "      <td>2.0</td>\n",
       "      <td>10.5</td>\n",
       "      <td>21.0</td>\n",
       "    </tr>\n",
       "    <tr>\n",
       "      <th>1</th>\n",
       "      <td>2023-01-02</td>\n",
       "      <td>Producto_B</td>\n",
       "      <td>NaN</td>\n",
       "      <td>20.0</td>\n",
       "      <td>NaN</td>\n",
       "    </tr>\n",
       "    <tr>\n",
       "      <th>2</th>\n",
       "      <td>2023-01-03</td>\n",
       "      <td>Producto_C</td>\n",
       "      <td>5.0</td>\n",
       "      <td>NaN</td>\n",
       "      <td>NaN</td>\n",
       "    </tr>\n",
       "    <tr>\n",
       "      <th>3</th>\n",
       "      <td>2023-01-04</td>\n",
       "      <td>Producto_D</td>\n",
       "      <td>7.0</td>\n",
       "      <td>15.0</td>\n",
       "      <td>105.0</td>\n",
       "    </tr>\n",
       "    <tr>\n",
       "      <th>4</th>\n",
       "      <td>2023-01-05</td>\n",
       "      <td>Producto_A</td>\n",
       "      <td>1.0</td>\n",
       "      <td>12.0</td>\n",
       "      <td>12.0</td>\n",
       "    </tr>\n",
       "  </tbody>\n",
       "</table>\n",
       "</div>"
      ],
      "text/plain": [
       "        fecha    producto  cantidad  precio_unitario  total\n",
       "0  2023-01-01  Producto_A       2.0             10.5   21.0\n",
       "1  2023-01-02  Producto_B       NaN             20.0    NaN\n",
       "2  2023-01-03  Producto_C       5.0              NaN    NaN\n",
       "3  2023-01-04  Producto_D       7.0             15.0  105.0\n",
       "4  2023-01-05  Producto_A       1.0             12.0   12.0"
      ]
     },
     "execution_count": 1,
     "metadata": {},
     "output_type": "execute_result"
    }
   ],
   "source": [
    "import pandas as pd\n",
    "\n",
    "archivo = '../data/ejercicios_integracion/ventas_tienda_simulada.csv'\n",
    "ventas_df = pd.read_csv(archivo)\n",
    "\n",
    "ventas_df.head()"
   ]
  },
  {
   "cell_type": "code",
   "execution_count": 2,
   "id": "4bdc54cd",
   "metadata": {},
   "outputs": [
    {
     "data": {
      "text/plain": [
       "fecha              0\n",
       "producto           0\n",
       "cantidad           4\n",
       "precio_unitario    4\n",
       "total              8\n",
       "dtype: int64"
      ]
     },
     "execution_count": 2,
     "metadata": {},
     "output_type": "execute_result"
    }
   ],
   "source": [
    "ventas_nulos = ventas_df.isnull().sum()\n",
    "\n",
    "ventas_nulos"
   ]
  },
  {
   "cell_type": "markdown",
   "id": "f13e88df",
   "metadata": {},
   "source": [
    "Aqui hubo un warning que no logre comprender entre versiones de pandas"
   ]
  },
  {
   "cell_type": "code",
   "execution_count": 9,
   "id": "e68a1cc1",
   "metadata": {},
   "outputs": [
    {
     "data": {
      "text/plain": [
       "fecha              0\n",
       "producto           0\n",
       "cantidad           0\n",
       "precio_unitario    0\n",
       "total              0\n",
       "dtype: int64"
      ]
     },
     "execution_count": 9,
     "metadata": {},
     "output_type": "execute_result"
    }
   ],
   "source": [
    "ventas_df['cantidad'] = ventas_df['cantidad'].fillna(ventas_df['cantidad'].median())\n",
    "ventas_df['precio_unitario'] = ventas_df['precio_unitario'].fillna(ventas_df['precio_unitario'].median())\n",
    "\n",
    "ventas_df['total'] = ventas_df['cantidad'] * ventas_df['precio_unitario']\n",
    "\n",
    "ventas_df.isnull().sum()\n",
    "\n",
    "\n",
    "#Verificar en que consisten los warnings de pandas podria ser un problema entre versiones"
   ]
  },
  {
   "cell_type": "code",
   "execution_count": 4,
   "id": "0b80645f",
   "metadata": {},
   "outputs": [
    {
     "name": "stdout",
     "output_type": "stream",
     "text": [
      "Media de ventas: 69.35\n",
      "Mediana de ventas: 77.5\n",
      "Suma total de ventas: 1387.0\n"
     ]
    }
   ],
   "source": [
    "import numpy as np\n",
    "\n",
    "media_ventas = ventas_df['total'].mean()\n",
    "mediana_ventas = ventas_df['total'].median()\n",
    "suma_total_ventas = ventas_df['total'].sum()\n",
    "\n",
    "print(f\"Media de ventas: {media_ventas}\")\n",
    "print(f\"Mediana de ventas: {mediana_ventas}\")\n",
    "print(f\"Suma total de ventas: {suma_total_ventas}\")"
   ]
  },
  {
   "cell_type": "markdown",
   "id": "4c1374ba",
   "metadata": {},
   "source": []
  },
  {
   "cell_type": "code",
   "execution_count": 5,
   "id": "d5df8a4b",
   "metadata": {},
   "outputs": [],
   "source": [
    "ventas_df.to_json('../data/ejercicios_integracion/ventas_limpias.json', orient='records', lines=True)"
   ]
  },
  {
   "cell_type": "code",
   "execution_count": 8,
   "id": "8cf49b6c",
   "metadata": {},
   "outputs": [
    {
     "data": {
      "text/html": [
       "<div>\n",
       "<style scoped>\n",
       "    .dataframe tbody tr th:only-of-type {\n",
       "        vertical-align: middle;\n",
       "    }\n",
       "\n",
       "    .dataframe tbody tr th {\n",
       "        vertical-align: top;\n",
       "    }\n",
       "\n",
       "    .dataframe thead th {\n",
       "        text-align: right;\n",
       "    }\n",
       "</style>\n",
       "<table border=\"1\" class=\"dataframe\">\n",
       "  <thead>\n",
       "    <tr style=\"text-align: right;\">\n",
       "      <th></th>\n",
       "      <th>nombre</th>\n",
       "      <th>puntuacion_media</th>\n",
       "    </tr>\n",
       "  </thead>\n",
       "  <tbody>\n",
       "    <tr>\n",
       "      <th>0</th>\n",
       "      <td>Participante_A</td>\n",
       "      <td>85.75</td>\n",
       "    </tr>\n",
       "    <tr>\n",
       "      <th>1</th>\n",
       "      <td>Participante_B</td>\n",
       "      <td>72.50</td>\n",
       "    </tr>\n",
       "    <tr>\n",
       "      <th>2</th>\n",
       "      <td>Participante_C</td>\n",
       "      <td>90.75</td>\n",
       "    </tr>\n",
       "    <tr>\n",
       "      <th>3</th>\n",
       "      <td>Participante_D</td>\n",
       "      <td>60.00</td>\n",
       "    </tr>\n",
       "    <tr>\n",
       "      <th>4</th>\n",
       "      <td>Participante_E</td>\n",
       "      <td>81.25</td>\n",
       "    </tr>\n",
       "  </tbody>\n",
       "</table>\n",
       "</div>"
      ],
      "text/plain": [
       "           nombre  puntuacion_media\n",
       "0  Participante_A             85.75\n",
       "1  Participante_B             72.50\n",
       "2  Participante_C             90.75\n",
       "3  Participante_D             60.00\n",
       "4  Participante_E             81.25"
      ]
     },
     "execution_count": 8,
     "metadata": {},
     "output_type": "execute_result"
    }
   ],
   "source": [
    "competencia_data = pd.read_json('../data/ejercicios_integracion/competencia_kaggle.json')\n",
    "\n",
    "competencia_data.head()\n",
    "competencia_data['puntuaciones'] = competencia_data['puntuaciones'].apply(lambda x: [np.nan if i is None else i for i in x]) # aca tengo un detalle None y NaN antender para estudiar mas\n",
    "\n",
    "competencia_data['puntuacion_media'] = competencia_data['puntuaciones'].apply(lambda x: np.nanmean(x)) #manejando NaN\n",
    "\n",
    "competencia_data[['nombre', 'puntuacion_media']]\n",
    "#Anotaciones entender mas sobre tipos de datos en python"
   ]
  }
 ],
 "metadata": {
  "language_info": {
   "name": "python"
  }
 },
 "nbformat": 4,
 "nbformat_minor": 5
}
