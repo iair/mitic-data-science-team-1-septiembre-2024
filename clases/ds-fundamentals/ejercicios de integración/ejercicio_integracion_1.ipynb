{
 "cells": [
  {
   "cell_type": "markdown",
   "metadata": {},
   "source": [
    "### Ejercicio: Análisis y Limpieza de Datos de Ventas\n",
    "### Contexto:\n",
    "Tienes un conjunto de datos que representa las ventas diarias de una tienda en línea. Este conjunto contiene información sobre los productos vendidos, la cantidad, el precio por unidad, y la fecha de venta. Sin embargo, algunos de los datos están incompletos o tienen valores nulos. El objetivo de este ejercicio es limpiar y analizar los datos, y calcular algunas medidas clave para entender mejor las ventas.\n",
    "### Objetivos:\n",
    "- Manipular arrays con numpy: Para operaciones matemáticas básicas con los datos.\n",
    "- Manejar datos con pandas: Para cargar el dataset, analizar su estructura y calcular medidas de tendencia central.\n",
    "- Trabajar con archivos JSON: Para guardar y leer la información transformada.\n",
    "- Manejar datos nulos: Para identificar y lidiar con valores faltantes.\n",
    "- Aplicar ciclos, condicionales y operadores lógicos/matemáticos: Para realizar cálculos y aplicar reglas de negocio."
   ]
  },
  {
   "cell_type": "code",
   "execution_count": 1,
   "metadata": {},
   "outputs": [],
   "source": [
    "import pandas as pd\n",
    "import numpy as pd"
   ]
  },
  {
   "cell_type": "code",
   "execution_count": 3,
   "metadata": {},
   "outputs": [
    {
     "name": "stdout",
     "output_type": "stream",
     "text": [
      "        fecha    producto  cantidad  precio_unitario  total\n",
      "0  2023-01-01  Producto_A       2.0             10.5   21.0\n",
      "1  2023-01-02  Producto_B       NaN             20.0    NaN\n",
      "2  2023-01-03  Producto_C       5.0              NaN    NaN\n",
      "3  2023-01-04  Producto_D       7.0             15.0  105.0\n",
      "4  2023-01-05  Producto_A       1.0             12.0   12.0\n"
     ]
    }
   ],
   "source": [
    "df = pd.read_csv('../data/ejercicios_integracion/ventas_tienda_simulada.csv')\n",
    "print(df.head())"
   ]
  }
 ],
 "metadata": {
  "kernelspec": {
   "display_name": "mitic",
   "language": "python",
   "name": "python3"
  },
  "language_info": {
   "codemirror_mode": {
    "name": "ipython",
    "version": 3
   },
   "file_extension": ".py",
   "mimetype": "text/x-python",
   "name": "python",
   "nbconvert_exporter": "python",
   "pygments_lexer": "ipython3",
   "version": "3.12.7"
  }
 },
 "nbformat": 4,
 "nbformat_minor": 2
}
