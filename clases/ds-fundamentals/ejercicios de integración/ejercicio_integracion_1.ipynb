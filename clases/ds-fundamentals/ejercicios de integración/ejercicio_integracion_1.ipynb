{
 "cells": [
  {
   "cell_type": "markdown",
   "metadata": {},
   "source": [
    "#Análisis y Limpieza de Datos de Ventas"
   ]
  },
  {
   "cell_type": "markdown",
   "metadata": {},
   "source": [
    "###Tienes un conjunto de datos que representa las ventas diarias de una tienda en línea. Este conjunto contiene información sobre los productos vendidos, la cantidad, el precio por unidad, y la fecha de venta. Sin embargo, algunos de los datos están incompletos o tienen valores nulos. El objetivo de este ejercicio es limpiar y analizar los datos, y calcular algunas medidas clave para entender mejor las ventas"
   ]
  },
  {
   "cell_type": "markdown",
   "metadata": {},
   "source": [
    "##Objetivos:"
   ]
  },
  {
   "cell_type": "markdown",
   "metadata": {},
   "source": [
    "Manipular arrays con numpy: Para operaciones matemáticas básicas con los datos.\n",
    "Manejar datos con pandas: Para cargar el dataset, analizar su estructura y calcular medidas de tendencia central.\n",
    "Trabajar con archivos JSON: Para guardar y leer la información transformada.\n",
    "Manejar datos nulos: Para identificar y lidiar con valores faltantes.\n",
    "Aplicar ciclos, condicionales y operadores lógicos/matemáticos: Para realizar cálculos y aplicar reglas de negocio."
   ]
  },
  {
   "cell_type": "code",
   "execution_count": 21,
   "metadata": {},
   "outputs": [
    {
     "name": "stdout",
     "output_type": "stream",
     "text": [
      "(20, 5)\n"
     ]
    },
    {
     "data": {
      "text/html": [
       "<div>\n",
       "<style scoped>\n",
       "    .dataframe tbody tr th:only-of-type {\n",
       "        vertical-align: middle;\n",
       "    }\n",
       "\n",
       "    .dataframe tbody tr th {\n",
       "        vertical-align: top;\n",
       "    }\n",
       "\n",
       "    .dataframe thead th {\n",
       "        text-align: right;\n",
       "    }\n",
       "</style>\n",
       "<table border=\"1\" class=\"dataframe\">\n",
       "  <thead>\n",
       "    <tr style=\"text-align: right;\">\n",
       "      <th></th>\n",
       "      <th>fecha</th>\n",
       "      <th>producto</th>\n",
       "      <th>cantidad</th>\n",
       "      <th>precio_unitario</th>\n",
       "      <th>total</th>\n",
       "    </tr>\n",
       "  </thead>\n",
       "  <tbody>\n",
       "    <tr>\n",
       "      <th>0</th>\n",
       "      <td>2023-01-01</td>\n",
       "      <td>Producto_A</td>\n",
       "      <td>2.0</td>\n",
       "      <td>10.5</td>\n",
       "      <td>21.0</td>\n",
       "    </tr>\n",
       "    <tr>\n",
       "      <th>1</th>\n",
       "      <td>2023-01-02</td>\n",
       "      <td>Producto_B</td>\n",
       "      <td>NaN</td>\n",
       "      <td>20.0</td>\n",
       "      <td>NaN</td>\n",
       "    </tr>\n",
       "    <tr>\n",
       "      <th>2</th>\n",
       "      <td>2023-01-03</td>\n",
       "      <td>Producto_C</td>\n",
       "      <td>5.0</td>\n",
       "      <td>NaN</td>\n",
       "      <td>NaN</td>\n",
       "    </tr>\n",
       "    <tr>\n",
       "      <th>3</th>\n",
       "      <td>2023-01-04</td>\n",
       "      <td>Producto_D</td>\n",
       "      <td>7.0</td>\n",
       "      <td>15.0</td>\n",
       "      <td>105.0</td>\n",
       "    </tr>\n",
       "    <tr>\n",
       "      <th>4</th>\n",
       "      <td>2023-01-05</td>\n",
       "      <td>Producto_A</td>\n",
       "      <td>1.0</td>\n",
       "      <td>12.0</td>\n",
       "      <td>12.0</td>\n",
       "    </tr>\n",
       "    <tr>\n",
       "      <th>5</th>\n",
       "      <td>2023-01-06</td>\n",
       "      <td>Producto_B</td>\n",
       "      <td>4.0</td>\n",
       "      <td>25.0</td>\n",
       "      <td>100.0</td>\n",
       "    </tr>\n",
       "    <tr>\n",
       "      <th>6</th>\n",
       "      <td>2023-01-07</td>\n",
       "      <td>Producto_C</td>\n",
       "      <td>NaN</td>\n",
       "      <td>NaN</td>\n",
       "      <td>NaN</td>\n",
       "    </tr>\n",
       "    <tr>\n",
       "      <th>7</th>\n",
       "      <td>2023-01-08</td>\n",
       "      <td>Producto_D</td>\n",
       "      <td>3.0</td>\n",
       "      <td>30.0</td>\n",
       "      <td>90.0</td>\n",
       "    </tr>\n",
       "    <tr>\n",
       "      <th>8</th>\n",
       "      <td>2023-01-09</td>\n",
       "      <td>Producto_A</td>\n",
       "      <td>2.0</td>\n",
       "      <td>10.0</td>\n",
       "      <td>NaN</td>\n",
       "    </tr>\n",
       "    <tr>\n",
       "      <th>9</th>\n",
       "      <td>2023-01-10</td>\n",
       "      <td>Producto_B</td>\n",
       "      <td>NaN</td>\n",
       "      <td>NaN</td>\n",
       "      <td>NaN</td>\n",
       "    </tr>\n",
       "  </tbody>\n",
       "</table>\n",
       "</div>"
      ],
      "text/plain": [
       "        fecha    producto  cantidad  precio_unitario  total\n",
       "0  2023-01-01  Producto_A       2.0             10.5   21.0\n",
       "1  2023-01-02  Producto_B       NaN             20.0    NaN\n",
       "2  2023-01-03  Producto_C       5.0              NaN    NaN\n",
       "3  2023-01-04  Producto_D       7.0             15.0  105.0\n",
       "4  2023-01-05  Producto_A       1.0             12.0   12.0\n",
       "5  2023-01-06  Producto_B       4.0             25.0  100.0\n",
       "6  2023-01-07  Producto_C       NaN              NaN    NaN\n",
       "7  2023-01-08  Producto_D       3.0             30.0   90.0\n",
       "8  2023-01-09  Producto_A       2.0             10.0    NaN\n",
       "9  2023-01-10  Producto_B       NaN              NaN    NaN"
      ]
     },
     "execution_count": 21,
     "metadata": {},
     "output_type": "execute_result"
    }
   ],
   "source": [
    "import numpy as np\n",
    "import pandas as pd\n",
    "path = '../data/ejercicios_integracion/ventas_tienda_simulada.csv'\n",
    "df1 = pd.read_csv(filepath_or_buffer=path, sep= ',')\n",
    "print(df1.shape)\n",
    "df1.head(10)"
   ]
  },
  {
   "cell_type": "code",
   "execution_count": 24,
   "metadata": {},
   "outputs": [
    {
     "name": "stdout",
     "output_type": "stream",
     "text": [
      "fecha              0\n",
      "producto           0\n",
      "cantidad           4\n",
      "precio_unitario    4\n",
      "total              8\n",
      "dtype: int64\n",
      "(12, 5)\n",
      "         fecha    producto  cantidad  precio_unitario  total\n",
      "0   2023-01-01  Producto_A       2.0             10.5   21.0\n",
      "3   2023-01-04  Producto_D       7.0             15.0  105.0\n",
      "4   2023-01-05  Producto_A       1.0             12.0   12.0\n",
      "5   2023-01-06  Producto_B       4.0             25.0  100.0\n",
      "7   2023-01-08  Producto_D       3.0             30.0   90.0\n",
      "10  2023-01-11  Producto_C       6.0             22.0  132.0\n",
      "11  2023-01-12  Producto_D       4.0             18.0   72.0\n",
      "12  2023-01-13  Producto_A       5.0             20.0  100.0\n",
      "14  2023-01-15  Producto_C       1.0             14.0   14.0\n",
      "15  2023-01-16  Producto_D       3.0              9.0   27.0\n"
     ]
    }
   ],
   "source": [
    "print(df1.isnull().sum())\n",
    "df1_sin_nulos = df1.dropna(axis=0)\n",
    "print(df1_sin_nulos.shape)\n",
    "print(df1_sin_nulos.head(10))"
   ]
  },
  {
   "cell_type": "code",
   "execution_count": 23,
   "metadata": {},
   "outputs": [],
   "source": [
    "#manipulando con numpy\n",
    "precio_unitario = np.array(df1_sin_nulos['precio_unitario'])\n",
    "cantidad = np.array(df1_sin_nulos['cantidad'])\n",
    "total = np.array(df1_sin_nulos['total'])\n",
    "print('Media de precio_unitario: ', np.mean(precio_unitario))\n",
    "print('Suma de total de productos: ', np.sum(total))\n",
    "print('desviación estándar de precio_unitario: ', np.std(precio_unitario))"
   ]
  },
  {
   "cell_type": "code",
   "execution_count": 28,
   "metadata": {},
   "outputs": [
    {
     "name": "stdout",
     "output_type": "stream",
     "text": [
      "Media de precio_unitario:  16.791666666666668\n"
     ]
    }
   ],
   "source": [
    "# Medidas de tendencia central con pandas\n",
    "media_precios = df1_sin_nulos['precio_unitario'].mean()\n",
    "mediana_precios = df1_sin_nulos['precio_unitario'].median()\n",
    "std_precios = df1_sin_nulos['precio_unitario'].std()\n",
    "\n",
    "print('Media de precio_unitario: ', media_precios)"
   ]
  }
 ],
 "metadata": {
  "kernelspec": {
   "display_name": "Python 3",
   "language": "python",
   "name": "python3"
  },
  "language_info": {
   "codemirror_mode": {
    "name": "ipython",
    "version": 3
   },
   "file_extension": ".py",
   "mimetype": "text/x-python",
   "name": "python",
   "nbconvert_exporter": "python",
   "pygments_lexer": "ipython3",
   "version": "3.12.7"
  }
 },
 "nbformat": 4,
 "nbformat_minor": 2
}
