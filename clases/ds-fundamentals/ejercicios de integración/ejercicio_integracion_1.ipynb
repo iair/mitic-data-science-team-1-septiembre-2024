{
 "cells": [
  {
   "cell_type": "markdown",
   "metadata": {},
   "source": [
    "## Ejercicio: Análisis y Limpieza de Datos de \n",
    "\n",
    "### Contexto:\n",
    "\n",
    "Tienes un conjunto de datos que representa las ventas diarias de una tienda en línea. Este conjunto contiene información sobre los productos vendidos, la cantidad, el precio por unidad, y la fecha de venta. Sin embargo, algunos de los datos están incompletos o tienen valores nulos. El objetivo de este ejercicio es limpiar y analizar los datos, y calcular algunas medidas clave para entender mejor las ventas.\n",
    "\n",
    "### Objetivos:\n",
    "\n",
    "1.\tManipular arrays con numpy: Para operaciones matemáticas básicas con los datos.\n",
    "2.\tManejar datos con pandas: Para cargar el dataset, analizar su estructura y calcular medidas de tendencia central.\n",
    "3.\tTrabajar con archivos JSON: Para guardar y leer la información transformada.\n",
    "4.\tManejar datos nulos: Para identificar y lidiar con valores faltantes.\n",
    "5.\tAplicar ciclos, condicionales y operadores lógicos/matemáticos: Para realizar cálculos y aplicar reglas de negocio.\n"
   ]
  },
  {
   "cell_type": "code",
   "execution_count": 2,
   "metadata": {},
   "outputs": [
    {
     "name": "stdout",
     "output_type": "stream",
     "text": [
      "(20, 5)\n"
     ]
    },
    {
     "data": {
      "text/html": [
       "<div>\n",
       "<style scoped>\n",
       "    .dataframe tbody tr th:only-of-type {\n",
       "        vertical-align: middle;\n",
       "    }\n",
       "\n",
       "    .dataframe tbody tr th {\n",
       "        vertical-align: top;\n",
       "    }\n",
       "\n",
       "    .dataframe thead th {\n",
       "        text-align: right;\n",
       "    }\n",
       "</style>\n",
       "<table border=\"1\" class=\"dataframe\">\n",
       "  <thead>\n",
       "    <tr style=\"text-align: right;\">\n",
       "      <th></th>\n",
       "      <th>fecha</th>\n",
       "      <th>producto</th>\n",
       "      <th>cantidad</th>\n",
       "      <th>precio_unitario</th>\n",
       "      <th>total</th>\n",
       "    </tr>\n",
       "  </thead>\n",
       "  <tbody>\n",
       "    <tr>\n",
       "      <th>0</th>\n",
       "      <td>2023-01-01</td>\n",
       "      <td>Producto_A</td>\n",
       "      <td>2.0</td>\n",
       "      <td>10.5</td>\n",
       "      <td>21.0</td>\n",
       "    </tr>\n",
       "    <tr>\n",
       "      <th>1</th>\n",
       "      <td>2023-01-02</td>\n",
       "      <td>Producto_B</td>\n",
       "      <td>NaN</td>\n",
       "      <td>20.0</td>\n",
       "      <td>NaN</td>\n",
       "    </tr>\n",
       "    <tr>\n",
       "      <th>2</th>\n",
       "      <td>2023-01-03</td>\n",
       "      <td>Producto_C</td>\n",
       "      <td>5.0</td>\n",
       "      <td>NaN</td>\n",
       "      <td>NaN</td>\n",
       "    </tr>\n",
       "    <tr>\n",
       "      <th>3</th>\n",
       "      <td>2023-01-04</td>\n",
       "      <td>Producto_D</td>\n",
       "      <td>7.0</td>\n",
       "      <td>15.0</td>\n",
       "      <td>105.0</td>\n",
       "    </tr>\n",
       "    <tr>\n",
       "      <th>4</th>\n",
       "      <td>2023-01-05</td>\n",
       "      <td>Producto_A</td>\n",
       "      <td>1.0</td>\n",
       "      <td>12.0</td>\n",
       "      <td>12.0</td>\n",
       "    </tr>\n",
       "  </tbody>\n",
       "</table>\n",
       "</div>"
      ],
      "text/plain": [
       "        fecha    producto  cantidad  precio_unitario  total\n",
       "0  2023-01-01  Producto_A       2.0             10.5   21.0\n",
       "1  2023-01-02  Producto_B       NaN             20.0    NaN\n",
       "2  2023-01-03  Producto_C       5.0              NaN    NaN\n",
       "3  2023-01-04  Producto_D       7.0             15.0  105.0\n",
       "4  2023-01-05  Producto_A       1.0             12.0   12.0"
      ]
     },
     "execution_count": 2,
     "metadata": {},
     "output_type": "execute_result"
    }
   ],
   "source": [
    "# Importar Dependencias y recuperar el Archivo\n",
    "import numpy as np\n",
    "import pandas as pd\n",
    "import json\n",
    "\n",
    "path = '../data/ejercicios_integracion/ventas_tienda_simulada.csv'\n",
    "df = pd.read_csv(filepath_or_buffer=path, sep= ',', header=0)\n",
    "print(df.shape)\n",
    "df.head(5)"
   ]
  },
  {
   "cell_type": "code",
   "execution_count": 3,
   "metadata": {},
   "outputs": [
    {
     "data": {
      "text/html": [
       "<div>\n",
       "<style scoped>\n",
       "    .dataframe tbody tr th:only-of-type {\n",
       "        vertical-align: middle;\n",
       "    }\n",
       "\n",
       "    .dataframe tbody tr th {\n",
       "        vertical-align: top;\n",
       "    }\n",
       "\n",
       "    .dataframe thead th {\n",
       "        text-align: right;\n",
       "    }\n",
       "</style>\n",
       "<table border=\"1\" class=\"dataframe\">\n",
       "  <thead>\n",
       "    <tr style=\"text-align: right;\">\n",
       "      <th></th>\n",
       "      <th>fecha</th>\n",
       "      <th>producto</th>\n",
       "      <th>cantidad</th>\n",
       "      <th>precio_unitario</th>\n",
       "      <th>total</th>\n",
       "    </tr>\n",
       "  </thead>\n",
       "  <tbody>\n",
       "    <tr>\n",
       "      <th>0</th>\n",
       "      <td>2023-01-01</td>\n",
       "      <td>Producto_A</td>\n",
       "      <td>2.0</td>\n",
       "      <td>10.5</td>\n",
       "      <td>21.0</td>\n",
       "    </tr>\n",
       "    <tr>\n",
       "      <th>1</th>\n",
       "      <td>2023-01-02</td>\n",
       "      <td>Producto_B</td>\n",
       "      <td>0.0</td>\n",
       "      <td>20.0</td>\n",
       "      <td>0.0</td>\n",
       "    </tr>\n",
       "    <tr>\n",
       "      <th>2</th>\n",
       "      <td>2023-01-03</td>\n",
       "      <td>Producto_C</td>\n",
       "      <td>5.0</td>\n",
       "      <td>0.0</td>\n",
       "      <td>0.0</td>\n",
       "    </tr>\n",
       "    <tr>\n",
       "      <th>3</th>\n",
       "      <td>2023-01-04</td>\n",
       "      <td>Producto_D</td>\n",
       "      <td>7.0</td>\n",
       "      <td>15.0</td>\n",
       "      <td>105.0</td>\n",
       "    </tr>\n",
       "    <tr>\n",
       "      <th>4</th>\n",
       "      <td>2023-01-05</td>\n",
       "      <td>Producto_A</td>\n",
       "      <td>1.0</td>\n",
       "      <td>12.0</td>\n",
       "      <td>12.0</td>\n",
       "    </tr>\n",
       "  </tbody>\n",
       "</table>\n",
       "</div>"
      ],
      "text/plain": [
       "        fecha    producto  cantidad  precio_unitario  total\n",
       "0  2023-01-01  Producto_A       2.0             10.5   21.0\n",
       "1  2023-01-02  Producto_B       0.0             20.0    0.0\n",
       "2  2023-01-03  Producto_C       5.0              0.0    0.0\n",
       "3  2023-01-04  Producto_D       7.0             15.0  105.0\n",
       "4  2023-01-05  Producto_A       1.0             12.0   12.0"
      ]
     },
     "execution_count": 3,
     "metadata": {},
     "output_type": "execute_result"
    }
   ],
   "source": [
    "# Reemplazar los valores NaN o nullos con 0\n",
    "df.fillna(0, inplace=True)\n",
    "df.head(5)"
   ]
  },
  {
   "cell_type": "code",
   "execution_count": 11,
   "metadata": {},
   "outputs": [],
   "source": [
    "# Convertir las columnas 'producto', 'cantidad', y 'total' a arrays de numpy\n",
    "productos = df['producto'].values\n",
    "cantidades = df['cantidad'].values\n",
    "totales = df['total'].values\n",
    "\n",
    "# Obtener los productos únicos\n",
    "productos_unicos = np.unique(productos)\n",
    "\n",
    "# Crear un array para almacenar la suma de cantidades y totales\n",
    "suma_cantidades = np.zeros(len(productos_unicos))\n",
    "suma_totales = np.zeros(len(productos_unicos))\n",
    "\n",
    "# Sumar las cantidades y totales por producto\n",
    "for i, producto in enumerate(productos_unicos):\n",
    "    suma_cantidades[i] = np.sum(cantidades[productos == producto])\n",
    "    suma_totales[i] = np.sum(totales[productos == producto])"
   ]
  },
  {
   "cell_type": "code",
   "execution_count": 16,
   "metadata": {},
   "outputs": [
    {
     "name": "stdout",
     "output_type": "stream",
     "text": [
      "El producto más vendido es Producto_D con 23.0 unidades.\n",
      "El producto con mayor total es Producto_D con un total de 384.0.\n",
      "Resultado en Json:\n",
      "[{'producto_mas_vendido': 'Producto_D', 'cantidad_unidades': 23.0}, {'producto_mayor_total': 'Producto_D', 'cantidad_total': 384.0}]\n"
     ]
    },
    {
     "ename": "NameError",
     "evalue": "name 'json' is not defined",
     "output_type": "error",
     "traceback": [
      "\u001b[1;31m---------------------------------------------------------------------------\u001b[0m",
      "\u001b[1;31mNameError\u001b[0m                                 Traceback (most recent call last)",
      "Cell \u001b[1;32mIn[16], line 28\u001b[0m\n\u001b[0;32m     26\u001b[0m \u001b[38;5;28mprint\u001b[39m(resultados)\n\u001b[0;32m     27\u001b[0m \u001b[38;5;66;03m# Mostrar el JSON resultante\u001b[39;00m\n\u001b[1;32m---> 28\u001b[0m \u001b[38;5;28mprint\u001b[39m(\u001b[43mjson\u001b[49m\u001b[38;5;241m.\u001b[39mdumps(resultados, indent\u001b[38;5;241m=\u001b[39m\u001b[38;5;241m1\u001b[39m))\n",
      "\u001b[1;31mNameError\u001b[0m: name 'json' is not defined"
     ]
    }
   ],
   "source": [
    "# Identificar el producto más vendido y con mayor total\n",
    "indice_mas_vendido = np.argmax(suma_cantidades)\n",
    "indice_mayor_total = np.argmax(suma_totales)\n",
    "\n",
    "producto_mas_vendido = productos_unicos[indice_mas_vendido]\n",
    "cantidad_mas_vendida = suma_cantidades[indice_mas_vendido]\n",
    "\n",
    "producto_mayor_total = productos_unicos[indice_mayor_total]\n",
    "total_mayor = suma_totales[indice_mayor_total]\n",
    "\n",
    "print(f\"El producto más vendido es {producto_mas_vendido} con {cantidad_mas_vendida} unidades.\")\n",
    "print(f\"El producto con mayor total es {producto_mayor_total} con un total de {total_mayor}.\")\n",
    "\n",
    "resultados = [\n",
    "    {\n",
    "        \"producto_mas_vendido\": producto_mas_vendido,\n",
    "        \"cantidad_unidades\": cantidad_mas_vendida\n",
    "    },\n",
    "    {\n",
    "        \"producto_mayor_total\": producto_mayor_total,\n",
    "        \"cantidad_total\": total_mayor\n",
    "    }\n",
    "]\n",
    "\n",
    "print('Resultado en Json:')\n",
    "print(resultados)"
   ]
  }
 ],
 "metadata": {
  "kernelspec": {
   "display_name": "Python 3",
   "language": "python",
   "name": "python3"
  },
  "language_info": {
   "codemirror_mode": {
    "name": "ipython",
    "version": 3
   },
   "file_extension": ".py",
   "mimetype": "text/x-python",
   "name": "python",
   "nbconvert_exporter": "python",
   "pygments_lexer": "ipython3",
   "version": "3.12.0"
  }
 },
 "nbformat": 4,
 "nbformat_minor": 2
}
