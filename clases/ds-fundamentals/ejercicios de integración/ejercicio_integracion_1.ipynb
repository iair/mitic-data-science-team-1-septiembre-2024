{
 "cells": [
  {
   "cell_type": "code",
   "execution_count": 21,
   "metadata": {},
   "outputs": [
    {
     "name": "stdout",
     "output_type": "stream",
     "text": [
      "         fecha    producto  cantidad  precio_unitario  total\n",
      "0   2023-01-01  Producto_A       2.0             10.5   21.0\n",
      "1   2023-01-02  Producto_B       NaN             20.0    NaN\n",
      "2   2023-01-03  Producto_C       5.0              NaN    NaN\n",
      "3   2023-01-04  Producto_D       7.0             15.0  105.0\n",
      "4   2023-01-05  Producto_A       1.0             12.0   12.0\n",
      "5   2023-01-06  Producto_B       4.0             25.0  100.0\n",
      "6   2023-01-07  Producto_C       NaN              NaN    NaN\n",
      "7   2023-01-08  Producto_D       3.0             30.0   90.0\n",
      "8   2023-01-09  Producto_A       2.0             10.0    NaN\n",
      "9   2023-01-10  Producto_B       NaN              NaN    NaN\n",
      "10  2023-01-11  Producto_C       6.0             22.0  132.0\n",
      "11  2023-01-12  Producto_D       4.0             18.0   72.0\n",
      "12  2023-01-13  Producto_A       5.0             20.0  100.0\n",
      "13  2023-01-14  Producto_B       NaN             25.0    NaN\n",
      "14  2023-01-15  Producto_C       1.0             14.0   14.0\n",
      "15  2023-01-16  Producto_D       3.0              9.0   27.0\n",
      "16  2023-01-17  Producto_A       8.0             10.0    NaN\n",
      "17  2023-01-18  Producto_B       4.0             11.0   44.0\n",
      "18  2023-01-19  Producto_C       7.0              NaN    NaN\n",
      "19  2023-01-20  Producto_D       6.0             15.0   90.0\n"
     ]
    }
   ],
   "source": [
    "import numpy as np\n",
    "import pandas as pd\n",
    "\n",
    "def cargar_datos(ruta_archivo):\n",
    "    # Carga los datos del archivo CSV utilizando NumPy\n",
    "    datos = pd.read_csv(ruta_archivo, delimiter=',')\n",
    "\n",
    "    return datos\n",
    "\n",
    "if __name__ == \"__main__\":\n",
    "    ruta_archivo = '../data/ejercicios_integracion/ventas_tienda_simulada.csv'\n",
    "    df = cargar_datos(ruta_archivo)  \n",
    "    \n",
    "    print(df)\n",
    "\n",
    "    "
   ]
  },
  {
   "cell_type": "code",
   "execution_count": 27,
   "metadata": {},
   "outputs": [
    {
     "data": {
      "text/html": [
       "<div>\n",
       "<style scoped>\n",
       "    .dataframe tbody tr th:only-of-type {\n",
       "        vertical-align: middle;\n",
       "    }\n",
       "\n",
       "    .dataframe tbody tr th {\n",
       "        vertical-align: top;\n",
       "    }\n",
       "\n",
       "    .dataframe thead th {\n",
       "        text-align: right;\n",
       "    }\n",
       "</style>\n",
       "<table border=\"1\" class=\"dataframe\">\n",
       "  <thead>\n",
       "    <tr style=\"text-align: right;\">\n",
       "      <th></th>\n",
       "      <th>datos sin NAs en q</th>\n",
       "      <th>Na en q</th>\n",
       "      <th>Na en %</th>\n",
       "    </tr>\n",
       "  </thead>\n",
       "  <tbody>\n",
       "    <tr>\n",
       "      <th>total</th>\n",
       "      <td>12</td>\n",
       "      <td>8</td>\n",
       "      <td>40.0</td>\n",
       "    </tr>\n",
       "    <tr>\n",
       "      <th>cantidad</th>\n",
       "      <td>16</td>\n",
       "      <td>4</td>\n",
       "      <td>20.0</td>\n",
       "    </tr>\n",
       "    <tr>\n",
       "      <th>precio_unitario</th>\n",
       "      <td>16</td>\n",
       "      <td>4</td>\n",
       "      <td>20.0</td>\n",
       "    </tr>\n",
       "    <tr>\n",
       "      <th>fecha</th>\n",
       "      <td>20</td>\n",
       "      <td>0</td>\n",
       "      <td>0.0</td>\n",
       "    </tr>\n",
       "    <tr>\n",
       "      <th>producto</th>\n",
       "      <td>20</td>\n",
       "      <td>0</td>\n",
       "      <td>0.0</td>\n",
       "    </tr>\n",
       "  </tbody>\n",
       "</table>\n",
       "</div>"
      ],
      "text/plain": [
       "                 datos sin NAs en q  Na en q  Na en %\n",
       "total                            12        8     40.0\n",
       "cantidad                         16        4     20.0\n",
       "precio_unitario                  16        4     20.0\n",
       "fecha                            20        0      0.0\n",
       "producto                         20        0      0.0"
      ]
     },
     "execution_count": 27,
     "metadata": {},
     "output_type": "execute_result"
    }
   ],
   "source": [
    "qsna=df.shape[0]-df.isnull().sum(axis=0)\n",
    "qna=df.isnull().sum(axis=0)\n",
    "ppna=round(100*(df.isnull().sum(axis=0)/df.shape[0]),2)\n",
    "aux= {'datos sin NAs en q': qsna, 'Na en q': qna ,'Na en %': ppna}\n",
    "na=pd.DataFrame(data=aux)\n",
    "na.sort_values(by='Na en %',ascending=False)"
   ]
  },
  {
   "cell_type": "code",
   "execution_count": 6,
   "metadata": {},
   "outputs": [],
   "source": [
    "# Convertir las columnas cantidad y precio_unitario a arrays numpy\n",
    "cant_array = df['cantidad'].to_numpy()\n",
    "precio_unitario_array = df['precio_unitario'].to_numpy()\n",
    "\n",
    "cantidad_array  = np.nan_to_num(cant_array, nan=0)\n",
    "precio_uni_array  = np.nan_to_num(precio_unitario_array, nan=0)\n",
    "\n",
    "print()\n",
    "\n"
   ]
  },
  {
   "cell_type": "code",
   "execution_count": 9,
   "metadata": {},
   "outputs": [
    {
     "name": "stdout",
     "output_type": "stream",
     "text": [
      "[ 21.   0.   0. 105.  12. 100.   0.  90.  20.   0. 132.  72. 100.   0.\n",
      "  14.  27.  80.  44.   0.  90.]\n",
      "68.0\n"
     ]
    }
   ],
   "source": [
    "total_array = np.multiply(cantidad_array, precio_uni_array)\n",
    "print(total_array)\n",
    "\n",
    "sum_cantidades = np.sum(cantidad_array)\n",
    "print(sum_cantidades)"
   ]
  },
  {
   "cell_type": "code",
   "execution_count": 12,
   "metadata": {},
   "outputs": [
    {
     "name": "stdout",
     "output_type": "stream",
     "text": [
      "Información del DataFrame:\n",
      "<class 'pandas.core.frame.DataFrame'>\n",
      "RangeIndex: 20 entries, 0 to 19\n",
      "Data columns (total 5 columns):\n",
      " #   Column           Non-Null Count  Dtype  \n",
      "---  ------           --------------  -----  \n",
      " 0   fecha            20 non-null     object \n",
      " 1   producto         20 non-null     object \n",
      " 2   cantidad         20 non-null     float64\n",
      " 3   precio_unitario  20 non-null     float64\n",
      " 4   total            20 non-null     float64\n",
      "dtypes: float64(3), object(2)\n",
      "memory usage: 932.0+ bytes\n",
      "None\n",
      "Estadísticas descriptivas del DataFrame:\n",
      "        cantidad  precio_unitario       total\n",
      "count  20.000000        20.000000   20.000000\n",
      "mean    3.400000        13.325000   40.350000\n",
      "std     2.603641         8.912255   46.292292\n",
      "min     0.000000         0.000000    0.000000\n",
      "25%     1.000000         9.750000    0.000000\n",
      "50%     3.500000        13.000000   17.500000\n",
      "75%     5.250000        20.000000   90.000000\n",
      "max     8.000000        30.000000  132.000000\n"
     ]
    }
   ],
   "source": [
    "#Cargar valores con 0\n",
    "df = df.fillna(0)\n",
    "# Obtener información general sobre el DataFrame\n",
    "print(\"Información del DataFrame:\")\n",
    "print(df.info())\n",
    "# Generar estadísticas descriptivas\n",
    "print(\"Estadísticas descriptivas del DataFrame:\")\n",
    "print(df.describe())\n"
   ]
  },
  {
   "cell_type": "code",
   "execution_count": 13,
   "metadata": {},
   "outputs": [
    {
     "name": "stdout",
     "output_type": "stream",
     "text": [
      "   id_participante          nombre  intentos  tiempo_total_horas  \\\n",
      "0                1  Participante_A         5                12.0   \n",
      "1                2  Participante_B         3                 NaN   \n",
      "2                3  Participante_C         4                10.0   \n",
      "3                4  Participante_D         2                 5.0   \n",
      "4                5  Participante_E         6                14.0   \n",
      "\n",
      "                   puntuaciones  \n",
      "0        [80, 85, 90, 88, None]  \n",
      "1                [70, 75, None]  \n",
      "2              [85, 90, 95, 93]  \n",
      "3                    [60, None]  \n",
      "4  [78, 82, None, None, 80, 85]  \n"
     ]
    }
   ],
   "source": [
    "# Cargar el archivo JSON en un DataFrame\n",
    "#df = pd.read_json('../data/ejercicios_integracion/competencia_kaggle.json')\n",
    "\n",
    "#print(df)"
   ]
  },
  {
   "cell_type": "code",
   "execution_count": 26,
   "metadata": {},
   "outputs": [
    {
     "name": "stdout",
     "output_type": "stream",
     "text": [
      "         fecha    producto  cantidad  precio_unitario  total\n",
      "1   2023-01-02  Producto_B       NaN             20.0    NaN\n",
      "5   2023-01-06  Producto_B       4.0             25.0  100.0\n",
      "7   2023-01-08  Producto_D       3.0             30.0   90.0\n",
      "10  2023-01-11  Producto_C       6.0             22.0  132.0\n",
      "11  2023-01-12  Producto_D       4.0             18.0   72.0\n",
      "12  2023-01-13  Producto_A       5.0             20.0  100.0\n",
      "13  2023-01-14  Producto_B       NaN             25.0    NaN\n",
      "         fecha    producto  cantidad  precio_unitario  total\n",
      "15  2023-01-16  Producto_D       3.0              9.0   27.0\n"
     ]
    }
   ],
   "source": [
    "# Filtrar filas donde las ventas son mayores a 25\n",
    "ventas_mayores_25 = df[df['precio_unitario'] > 15]\n",
    "print(ventas_mayores_25)\n",
    "\n",
    "\n",
    "# Filtrar filas donde las ventas son mayores a 25 y el precio es menor a 0.5\n",
    "ventas_mayores_25_precio_menor_05 = df[(df['cantidad'] > 2.0) & (df['precio_unitario'] < 10.0)]\n",
    "print(ventas_mayores_25_precio_menor_05)"
   ]
  },
  {
   "cell_type": "code",
   "execution_count": 31,
   "metadata": {},
   "outputs": [
    {
     "data": {
      "text/plain": [
       "Index([0, 3, 4, 5, 7, 10, 11, 12, 14, 15, 17, 19], dtype='int64')"
      ]
     },
     "execution_count": 31,
     "metadata": {},
     "output_type": "execute_result"
    }
   ],
   "source": [
    "df.loc[df['producto']=='Producto_B',:]\n",
    "\n",
    "df.dropna().index"
   ]
  },
  {
   "cell_type": "code",
   "execution_count": 32,
   "metadata": {},
   "outputs": [
    {
     "data": {
      "text/plain": [
       "array([ True, False, False,  True,  True,  True, False,  True, False,\n",
       "       False,  True,  True,  True, False,  True,  True, False,  True,\n",
       "       False,  True])"
      ]
     },
     "execution_count": 32,
     "metadata": {},
     "output_type": "execute_result"
    }
   ],
   "source": [
    "df.index.isin(df.dropna().index)"
   ]
  }
 ],
 "metadata": {
  "kernelspec": {
   "display_name": "bootcamp_coding_dojo",
   "language": "python",
   "name": "python3"
  },
  "language_info": {
   "codemirror_mode": {
    "name": "ipython",
    "version": 3
   },
   "file_extension": ".py",
   "mimetype": "text/x-python",
   "name": "python",
   "nbconvert_exporter": "python",
   "pygments_lexer": "ipython3",
   "version": "3.12.7"
  }
 },
 "nbformat": 4,
 "nbformat_minor": 2
}
