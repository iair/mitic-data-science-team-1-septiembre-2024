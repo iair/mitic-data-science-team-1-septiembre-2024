{
 "cells": [
  {
   "cell_type": "markdown",
   "metadata": {},
   "source": [
    "# Análisis y Limpieza de Datos de Ventas\n",
    "\n",
    "## Contexto\n",
    "\n",
    "Tienes un conjunto de datos que representa las ventas diarias de una tienda en línea. Este conjunto contiene información sobre los productos vendidos, la cantidad, el precio por unidad, y la fecha de venta. Sin embargo, algunos de los datos están incompletos o tienen valores nulos. El objetivo de este ejercicio es limpiar y analizar los datos, y calcular algunas medidas clave para entender mejor las ventas.\n",
    "\n",
    "## Objetivos\n",
    "\n",
    "* Manipular arrays con numpy: Para operaciones matemáticas básicas con los datos.\n",
    "* Manejar datos con pandas: Para cargar el dataset, analizar su estructura y calcular medidas de tendencia central.\n",
    "* Trabajar con archivos JSON: Para guardar y leer la información transformada.\n",
    "* Manejar datos nulos: Para identificar y lidiar con valores faltantes.\n",
    "* Aplicar ciclos, condicionales y operadores lógicos/matemáticos: Para realizar cálculos y aplicar reglas de negocio.\n"
   ]
  },
  {
   "cell_type": "markdown",
   "metadata": {},
   "source": [
    "### Análisis Básico con Numpy"
   ]
  },
  {
   "cell_type": "code",
   "execution_count": 9,
   "metadata": {},
   "outputs": [
    {
     "name": "stdout",
     "output_type": "stream",
     "text": [
      "[('2023-01-01', 'Producto_A',  2., 10.5,  21.)\n",
      " ('2023-01-02', 'Producto_B', nan, 20. ,  nan)\n",
      " ('2023-01-04', 'Producto_D',  7., 15. , 105.)\n",
      " ('2023-01-05', 'Producto_A',  1., 12. ,  12.)\n",
      " ('2023-01-06', 'Producto_B',  4., 25. , 100.)\n",
      " ('2023-01-08', 'Producto_D',  3., 30. ,  90.)\n",
      " ('2023-01-11', 'Producto_C',  6., 22. , 132.)\n",
      " ('2023-01-12', 'Producto_D',  4., 18. ,  72.)\n",
      " ('2023-01-13', 'Producto_A',  5., 20. , 100.)\n",
      " ('2023-01-14', 'Producto_B', nan, 25. ,  nan)\n",
      " ('2023-01-15', 'Producto_C',  1., 14. ,  14.)\n",
      " ('2023-01-18', 'Producto_B',  4., 11. ,  44.)\n",
      " ('2023-01-20', 'Producto_D',  6., 15. ,  90.)]\n",
      "[105. 200.  nan 150. 120. 250.  nan 300. 100.  nan 220. 180. 200. 250.\n",
      " 140.  90. 100. 110.  nan 150.]\n"
     ]
    }
   ],
   "source": [
    "# Para cargar los datos con Numpy:\n",
    "\n",
    "import numpy as np\n",
    "\n",
    "def cargar_datos_numpy(ruta_archivo):\n",
    "    datos = np.genfromtxt(\n",
    "        ruta_archivo,\n",
    "        delimiter=\",\",\n",
    "        skip_header=1,\n",
    "        dtype=[\n",
    "            ('Fecha', 'U10'),\n",
    "            ('producto', 'U10'),\n",
    "            ('cantidad', 'f8'),\n",
    "            ('precio_unitario', '<f8'),\n",
    "            ('total', '<f8'),\n",
    "        ]\n",
    "    )\n",
    "    return datos\n",
    "\n",
    "\n",
    "ruta_archivo = \"../data/ejercicios_integracion/ventas_tienda_simulada.csv\"\n",
    "datos = cargar_datos_numpy(ruta_archivo)\n",
    "\n",
    "# Como ejemplo, para filtrado de datos:\n",
    "print(datos[datos[\"precio_unitario\"] > 10])\n",
    "\n",
    "# Operación aritmética básica sobre columna:\n",
    "print(datos[\"precio_unitario\"] * 10)"
   ]
  },
  {
   "cell_type": "markdown",
   "metadata": {},
   "source": [
    "### Análisis con Pandas"
   ]
  },
  {
   "cell_type": "code",
   "execution_count": 14,
   "metadata": {},
   "outputs": [
    {
     "name": "stdout",
     "output_type": "stream",
     "text": [
      "<class 'pandas.core.frame.DataFrame'>\n",
      "RangeIndex: 20 entries, 0 to 19\n",
      "Data columns (total 5 columns):\n",
      " #   Column           Non-Null Count  Dtype  \n",
      "---  ------           --------------  -----  \n",
      " 0   fecha            20 non-null     object \n",
      " 1   producto         20 non-null     object \n",
      " 2   cantidad         16 non-null     float64\n",
      " 3   precio_unitario  16 non-null     float64\n",
      " 4   total            12 non-null     float64\n",
      "dtypes: float64(3), object(2)\n",
      "memory usage: 928.0+ bytes\n"
     ]
    }
   ],
   "source": [
    "import pandas as pd\n",
    "\n",
    "df = pd.read_csv(ruta_archivo, delimiter=\",\")\n",
    "df.info()"
   ]
  },
  {
   "cell_type": "code",
   "execution_count": 12,
   "metadata": {},
   "outputs": [
    {
     "data": {
      "text/html": [
       "<div>\n",
       "<style scoped>\n",
       "    .dataframe tbody tr th:only-of-type {\n",
       "        vertical-align: middle;\n",
       "    }\n",
       "\n",
       "    .dataframe tbody tr th {\n",
       "        vertical-align: top;\n",
       "    }\n",
       "\n",
       "    .dataframe thead th {\n",
       "        text-align: right;\n",
       "    }\n",
       "</style>\n",
       "<table border=\"1\" class=\"dataframe\">\n",
       "  <thead>\n",
       "    <tr style=\"text-align: right;\">\n",
       "      <th></th>\n",
       "      <th>cantidad</th>\n",
       "      <th>precio_unitario</th>\n",
       "      <th>total</th>\n",
       "    </tr>\n",
       "  </thead>\n",
       "  <tbody>\n",
       "    <tr>\n",
       "      <th>count</th>\n",
       "      <td>16.000000</td>\n",
       "      <td>16.000000</td>\n",
       "      <td>12.000000</td>\n",
       "    </tr>\n",
       "    <tr>\n",
       "      <th>mean</th>\n",
       "      <td>4.250000</td>\n",
       "      <td>16.656250</td>\n",
       "      <td>67.250000</td>\n",
       "    </tr>\n",
       "    <tr>\n",
       "      <th>std</th>\n",
       "      <td>2.175623</td>\n",
       "      <td>6.436145</td>\n",
       "      <td>41.569493</td>\n",
       "    </tr>\n",
       "    <tr>\n",
       "      <th>min</th>\n",
       "      <td>1.000000</td>\n",
       "      <td>9.000000</td>\n",
       "      <td>12.000000</td>\n",
       "    </tr>\n",
       "    <tr>\n",
       "      <th>25%</th>\n",
       "      <td>2.750000</td>\n",
       "      <td>10.875000</td>\n",
       "      <td>25.500000</td>\n",
       "    </tr>\n",
       "    <tr>\n",
       "      <th>50%</th>\n",
       "      <td>4.000000</td>\n",
       "      <td>15.000000</td>\n",
       "      <td>81.000000</td>\n",
       "    </tr>\n",
       "    <tr>\n",
       "      <th>75%</th>\n",
       "      <td>6.000000</td>\n",
       "      <td>20.500000</td>\n",
       "      <td>100.000000</td>\n",
       "    </tr>\n",
       "    <tr>\n",
       "      <th>max</th>\n",
       "      <td>8.000000</td>\n",
       "      <td>30.000000</td>\n",
       "      <td>132.000000</td>\n",
       "    </tr>\n",
       "  </tbody>\n",
       "</table>\n",
       "</div>"
      ],
      "text/plain": [
       "        cantidad  precio_unitario       total\n",
       "count  16.000000        16.000000   12.000000\n",
       "mean    4.250000        16.656250   67.250000\n",
       "std     2.175623         6.436145   41.569493\n",
       "min     1.000000         9.000000   12.000000\n",
       "25%     2.750000        10.875000   25.500000\n",
       "50%     4.000000        15.000000   81.000000\n",
       "75%     6.000000        20.500000  100.000000\n",
       "max     8.000000        30.000000  132.000000"
      ]
     },
     "execution_count": 12,
     "metadata": {},
     "output_type": "execute_result"
    }
   ],
   "source": [
    "# Descripción del DataSet\n",
    "df.describe()"
   ]
  },
  {
   "cell_type": "code",
   "execution_count": 22,
   "metadata": {},
   "outputs": [
    {
     "name": "stdout",
     "output_type": "stream",
     "text": [
      "Nulos por Cantidad: 4\n"
     ]
    }
   ],
   "source": [
    "# Verificar filas que tienen datos nulos por cantidad\n",
    "nulos_por_cantidad = len(df[df[\"cantidad\"].isna()])\n",
    "print(f\"Nulos por Cantidad: {nulos_por_cantidad}\")"
   ]
  },
  {
   "cell_type": "code",
   "execution_count": 23,
   "metadata": {},
   "outputs": [
    {
     "name": "stdout",
     "output_type": "stream",
     "text": [
      "Nulos por Precio Unitario: 4\n"
     ]
    }
   ],
   "source": [
    "# Verificar filas que tienen datos nulos por precio unitario\n",
    "nulos_por_cantidad = len(df[df[\"precio_unitario\"].isna()])\n",
    "print(f\"Nulos por Precio Unitario: {nulos_por_cantidad}\")"
   ]
  },
  {
   "cell_type": "code",
   "execution_count": 27,
   "metadata": {},
   "outputs": [
    {
     "data": {
      "text/plain": [
       "producto\n",
       "Producto_A    133.0\n",
       "Producto_B    144.0\n",
       "Producto_C    146.0\n",
       "Producto_D    384.0\n",
       "Name: total, dtype: float64"
      ]
     },
     "execution_count": 27,
     "metadata": {},
     "output_type": "execute_result"
    }
   ],
   "source": [
    "# Analizar cantidad de ventas total por producto\n",
    "df.groupby(\"producto\")[\"total\"].sum()"
   ]
  }
 ],
 "metadata": {
  "kernelspec": {
   "display_name": "ds_bootcamp_venv",
   "language": "python",
   "name": "python3"
  },
  "language_info": {
   "codemirror_mode": {
    "name": "ipython",
    "version": 3
   },
   "file_extension": ".py",
   "mimetype": "text/x-python",
   "name": "python",
   "nbconvert_exporter": "python",
   "pygments_lexer": "ipython3",
   "version": "3.10.6"
  }
 },
 "nbformat": 4,
 "nbformat_minor": 2
}
