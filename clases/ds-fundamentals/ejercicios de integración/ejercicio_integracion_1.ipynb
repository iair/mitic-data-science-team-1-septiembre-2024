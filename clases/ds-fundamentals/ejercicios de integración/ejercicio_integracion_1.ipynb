{
 "cells": [
  {
   "cell_type": "markdown",
   "metadata": {},
   "source": [
    "# Análisis y Limpieza de Datos de Ventas\n",
    "\n",
    "## Contexto\n",
    "\n",
    "Tienes un conjunto de datos que representa las ventas diarias de una tienda en línea. Este conjunto contiene información sobre los productos vendidos, la cantidad, el precio por unidad, y la fecha de venta. Sin embargo, algunos de los datos están incompletos o tienen valores nulos. El objetivo de este ejercicio es limpiar y analizar los datos, y calcular algunas medidas clave para entender mejor las ventas.\n",
    "\n",
    "## Objetivos\n",
    "\n",
    "* Manipular arrays con numpy: Para operaciones matemáticas básicas con los datos.\n",
    "* Manejar datos con pandas: Para cargar el dataset, analizar su estructura y calcular medidas de tendencia central.\n",
    "* Trabajar con archivos JSON: Para guardar y leer la información transformada.\n",
    "* Manejar datos nulos: Para identificar y lidiar con valores faltantes.\n",
    "* Aplicar ciclos, condicionales y operadores lógicos/matemáticos: Para realizar cálculos y aplicar reglas de negocio.\n"
   ]
  },
  {
   "cell_type": "code",
   "execution_count": null,
   "metadata": {
    "vscode": {
     "languageId": "plaintext"
    }
   },
   "outputs": [],
   "source": []
  }
 ],
 "metadata": {
  "language_info": {
   "name": "python"
  }
 },
 "nbformat": 4,
 "nbformat_minor": 2
}
