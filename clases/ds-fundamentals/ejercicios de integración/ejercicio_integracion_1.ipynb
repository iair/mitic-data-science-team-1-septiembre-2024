{
 "cells": [
  {
   "cell_type": "code",
   "execution_count": 1,
   "metadata": {},
   "outputs": [
    {
     "data": {
      "text/html": [
       "<div>\n",
       "<style scoped>\n",
       "    .dataframe tbody tr th:only-of-type {\n",
       "        vertical-align: middle;\n",
       "    }\n",
       "\n",
       "    .dataframe tbody tr th {\n",
       "        vertical-align: top;\n",
       "    }\n",
       "\n",
       "    .dataframe thead th {\n",
       "        text-align: right;\n",
       "    }\n",
       "</style>\n",
       "<table border=\"1\" class=\"dataframe\">\n",
       "  <thead>\n",
       "    <tr style=\"text-align: right;\">\n",
       "      <th></th>\n",
       "      <th>fecha</th>\n",
       "      <th>producto</th>\n",
       "      <th>cantidad</th>\n",
       "      <th>precio_unitario</th>\n",
       "      <th>total</th>\n",
       "    </tr>\n",
       "  </thead>\n",
       "  <tbody>\n",
       "    <tr>\n",
       "      <th>0</th>\n",
       "      <td>2023-01-01</td>\n",
       "      <td>Producto_A</td>\n",
       "      <td>2.0</td>\n",
       "      <td>10.5</td>\n",
       "      <td>21.0</td>\n",
       "    </tr>\n",
       "    <tr>\n",
       "      <th>1</th>\n",
       "      <td>2023-01-02</td>\n",
       "      <td>Producto_B</td>\n",
       "      <td>NaN</td>\n",
       "      <td>20.0</td>\n",
       "      <td>NaN</td>\n",
       "    </tr>\n",
       "    <tr>\n",
       "      <th>2</th>\n",
       "      <td>2023-01-03</td>\n",
       "      <td>Producto_C</td>\n",
       "      <td>5.0</td>\n",
       "      <td>NaN</td>\n",
       "      <td>NaN</td>\n",
       "    </tr>\n",
       "    <tr>\n",
       "      <th>3</th>\n",
       "      <td>2023-01-04</td>\n",
       "      <td>Producto_D</td>\n",
       "      <td>7.0</td>\n",
       "      <td>15.0</td>\n",
       "      <td>105.0</td>\n",
       "    </tr>\n",
       "    <tr>\n",
       "      <th>4</th>\n",
       "      <td>2023-01-05</td>\n",
       "      <td>Producto_A</td>\n",
       "      <td>1.0</td>\n",
       "      <td>12.0</td>\n",
       "      <td>12.0</td>\n",
       "    </tr>\n",
       "  </tbody>\n",
       "</table>\n",
       "</div>"
      ],
      "text/plain": [
       "        fecha    producto  cantidad  precio_unitario  total\n",
       "0  2023-01-01  Producto_A       2.0             10.5   21.0\n",
       "1  2023-01-02  Producto_B       NaN             20.0    NaN\n",
       "2  2023-01-03  Producto_C       5.0              NaN    NaN\n",
       "3  2023-01-04  Producto_D       7.0             15.0  105.0\n",
       "4  2023-01-05  Producto_A       1.0             12.0   12.0"
      ]
     },
     "execution_count": 1,
     "metadata": {},
     "output_type": "execute_result"
    }
   ],
   "source": [
    "import pandas as pd\n",
    "import numpy as np\n",
    "# Cargar el csv en un Dataframe\n",
    "\n",
    "path = r'C:\\Users\\Diego\\Documents\\GitHub\\mitic-data-science-team-1-septiembre-2024\\clases\\ds-fundamentals\\data\\ejercicios_integracion\\ventas_tienda_simulada.csv'\n",
    "\n",
    "\n",
    "df= pd.read_csv(path)\n",
    "\n",
    "df.head()\n"
   ]
  },
  {
   "cell_type": "code",
   "execution_count": 2,
   "metadata": {},
   "outputs": [],
   "source": [
    "\n",
    "\n",
    "#Llenar los valores faltantes con las medianas de cada columna\n",
    "values = {'cantidad': df['cantidad'].median(), 'precio_unitario': df['precio_unitario'].median()}\n",
    "df.fillna(values, inplace=True)\n"
   ]
  },
  {
   "cell_type": "code",
   "execution_count": 3,
   "metadata": {},
   "outputs": [],
   "source": [
    "#Llenar la columna total con cantidad*precio_unitario\n",
    "df['total'] = df.apply(\n",
    "    lambda row: row['cantidad'] * row['precio_unitario'] if pd.isnull(row['total']) and not pd.isnull(row['cantidad']) and not pd.isnull(row['precio_unitario']) else row['total'], axis=1\n",
    ")"
   ]
  },
  {
   "cell_type": "code",
   "execution_count": 5,
   "metadata": {},
   "outputs": [
    {
     "name": "stdout",
     "output_type": "stream",
     "text": [
      "\n",
      "Estadísticas de ventas totales:\n",
      "count     20.000000\n",
      "mean      69.350000\n",
      "std       35.644849\n",
      "min       12.000000\n",
      "25%       39.750000\n",
      "50%       77.500000\n",
      "75%      100.000000\n",
      "max      132.000000\n",
      "Name: total, dtype: float64\n",
      "\n",
      "Resumen de ventas por producto:\n",
      "            total_ventas  promedio_ventas  mediana_ventas  cantidad_ventas\n",
      "producto                                                                  \n",
      "Producto_A         233.0             46.6            21.0                5\n",
      "Producto_B         384.0             76.8            80.0                5\n",
      "Producto_C         386.0             77.2            75.0                5\n",
      "Producto_D         384.0             76.8            90.0                5\n"
     ]
    }
   ],
   "source": [
    "# Estadísticas de ventas totales\n",
    "print(\"\\nEstadísticas de ventas totales:\")\n",
    "print(df['total'].describe())\n",
    "\n",
    "# Resumen de ventas agrupado por producto\n",
    "ventas_por_producto = df.groupby('producto')['total'].agg(\n",
    "    total_ventas='sum', \n",
    "    promedio_ventas='mean', \n",
    "    mediana_ventas='median', \n",
    "    cantidad_ventas='count'\n",
    ")\n",
    "print(\"\\nResumen de ventas por producto:\")\n",
    "print(ventas_por_producto)\n"
   ]
  }
 ],
 "metadata": {
  "kernelspec": {
   "display_name": "Python 3",
   "language": "python",
   "name": "python3"
  },
  "language_info": {
   "codemirror_mode": {
    "name": "ipython",
    "version": 3
   },
   "file_extension": ".py",
   "mimetype": "text/x-python",
   "name": "python",
   "nbconvert_exporter": "python",
   "pygments_lexer": "ipython3",
   "version": "3.12.7"
  }
 },
 "nbformat": 4,
 "nbformat_minor": 2
}
