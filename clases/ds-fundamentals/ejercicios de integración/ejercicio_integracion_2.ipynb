{
 "cells": [
  {
   "cell_type": "markdown",
   "metadata": {},
   "source": [
    "### **Ejercicio:** Análisis de una Competencia de Kaggle\n",
    "\n",
    "**Contexto:**\n",
    "\n",
    "Tienes un conjunto de datos en formato JSON que contiene información sobre una competencia de Kaggle. Los datos incluyen el ID del participante, el número de intentos, el tiempo invertido en la competencia y las puntuaciones obtenidas en cada intento. Algunos participantes tienen datos incompletos o valores nulos, que deberás manejar antes de realizar el análisis.\n",
    "\n",
    "**Objetivos:**\n",
    "- Cargar y explorar un archivo JSON.\n",
    "- Identificar y manejar datos nulos.\n",
    "- Calcular estadísticas descriptivas (promedios, máximos, mínimos, etc.) para el número de intentos, el tiempo invertido y las puntuaciones.\n",
    "- Aplicar condicionales y operadores matemáticos para evaluar el rendimiento de los participantes (e.g., calcular el promedio de puntuaciones por intento).\n",
    "- Guardar el conjunto de datos limpio en un nuevo archivo JSON."
   ]
  },
  {
   "cell_type": "code",
   "execution_count": 12,
   "metadata": {},
   "outputs": [
    {
     "name": "stdout",
     "output_type": "stream",
     "text": [
      "Estadísticas descriptivas de intentos:\n",
      " count    20.000000\n",
      "mean      4.500000\n",
      "std       1.357242\n",
      "min       2.000000\n",
      "25%       3.750000\n",
      "50%       5.000000\n",
      "75%       6.000000\n",
      "max       6.000000\n",
      "Name: intentos, dtype: float64\n",
      "Estadísticas descriptivas de tiempo total:\n",
      " count    20.000000\n",
      "mean     11.411765\n",
      "std       2.636960\n",
      "min       5.000000\n",
      "25%      10.000000\n",
      "50%      12.000000\n",
      "75%      14.000000\n",
      "max      14.000000\n",
      "Name: tiempo_total_horas, dtype: float64\n",
      "Estadísticas descriptivas de puntuaciones:\n",
      " count    20.000000\n",
      "mean     80.837500\n",
      "std       9.581807\n",
      "min      60.000000\n",
      "25%      77.250000\n",
      "50%      81.625000\n",
      "75%      86.312500\n",
      "max      95.000000\n",
      "Name: puntuacion_0, dtype: float64\n"
     ]
    }
   ],
   "source": [
    "import pandas as pd\n",
    "import json\n",
    "\n",
    "# Ruta del archivo JSON de entrada\n",
    "file_path = r\"C:\\Users\\Andy\\Documents\\mitic-data-science-team-1-septiembre-2024\\clases\\ds-fundamentals\\data\\ejercicios_integracion\\competencia_kaggle.json\"\n",
    "\n",
    "# 1. Cargar el archivo JSON\n",
    "with open(file_path, 'r') as file:\n",
    "    data = json.load(file)\n",
    "\n",
    "# Convertir los datos JSON a un DataFrame\n",
    "df = pd.json_normalize(data, 'puntuaciones', ['id_participante', 'nombre', 'intentos', 'tiempo_total_horas'], record_prefix='puntuacion_')\n",
    "\n",
    "# 2. Convertir columnas a valores numéricos para análisis\n",
    "df['intentos'] = pd.to_numeric(df['intentos'], errors='coerce')\n",
    "df['tiempo_total_horas'] = pd.to_numeric(df['tiempo_total_horas'], errors='coerce')\n",
    "\n",
    "# 3. Manejo de valores nulos en 'puntuacion_0' y 'tiempo_total_horas'\n",
    "# Rellenar valores nulos en 'puntuacion_0' con el promedio de puntuaciones del participante\n",
    "df['puntuacion_0'] = df.groupby('id_participante')['puntuacion_0'].transform(lambda x: x.fillna(x.mean()))\n",
    "# Rellenar valores nulos en 'tiempo_total_horas' con el promedio general de tiempo total\n",
    "df['tiempo_total_horas'] = df['tiempo_total_horas'].fillna(df['tiempo_total_horas'].mean())\n",
    "\n",
    "# 4. Estadísticas descriptivas\n",
    "stats_intentos = df['intentos'].describe()\n",
    "stats_tiempo = df['tiempo_total_horas'].describe()\n",
    "stats_puntuaciones = df['puntuacion_0'].describe()\n",
    "\n",
    "# 5. Calcular el promedio de puntuación por intento para cada participante\n",
    "df['promedio_por_intento'] = df.groupby('id_participante')['puntuacion_0'].transform('mean')\n",
    "\n",
    "# 6. Resumen del rendimiento por participante\n",
    "rendimiento_participantes = df.groupby(['id_participante', 'nombre']).agg(\n",
    "    intentos=('intentos', 'first'),\n",
    "    tiempo_total_horas=('tiempo_total_horas', 'first'),\n",
    "    promedio_puntuacion=('promedio_por_intento', 'mean')\n",
    ").reset_index()\n",
    "\n",
    "# 7. Guardar el DataFrame limpio y resumido en un nuevo archivo JSON\n",
    "output_path = r\"C:\\Users\\Andy\\Documents\\mitic-data-science-team-1-septiembre-2024\\clases\\ds-fundamentals\\data\\ejercicios_integracion\\competencia_kaggle_limpio.json\"\n",
    "rendimiento_participantes.to_json(output_path, orient='records', lines=True)\n",
    "\n",
    "print(\"Estadísticas descriptivas de intentos:\\n\", stats_intentos)\n",
    "print(\"Estadísticas descriptivas de tiempo total:\\n\", stats_tiempo)\n",
    "print(\"Estadísticas descriptivas de puntuaciones:\\n\", stats_puntuaciones)\n"
   ]
  },
  {
   "cell_type": "markdown",
   "metadata": {},
   "source": [
    "### Algunos Análisis Adicionales"
   ]
  },
  {
   "cell_type": "code",
   "execution_count": 15,
   "metadata": {},
   "outputs": [
    {
     "name": "stdout",
     "output_type": "stream",
     "text": [
      "\n",
      "Promedio de intentos por participante: 4.00\n",
      "Promedio de puntuación por intento: 78.05\n",
      "Correlación entre número de intentos y puntuación promedio: 0.73\n"
     ]
    }
   ],
   "source": [
    "\n",
    "# Análisis adicional: relación entre intentos y puntuaciones promedio\n",
    "promedio_intentos = df['intentos'].mean()\n",
    "promedio_puntuacion = df['promedio_puntuacion'].mean()\n",
    "correlacion_intentos_puntuacion = df[['intentos', 'promedio_puntuacion']].corr().iloc[0, 1]\n",
    "\n",
    "# Mostrar resultados\n",
    "print(f\"\\nPromedio de intentos por participante: {promedio_intentos:.2f}\")\n",
    "print(f\"Promedio de puntuación por intento: {promedio_puntuacion:.2f}\")\n",
    "print(f\"Correlación entre número de intentos y puntuación promedio: {correlacion_intentos_puntuacion:.2f}\")\n"
   ]
  },
  {
   "cell_type": "markdown",
   "metadata": {},
   "source": [
    "### Resumen del Análisis de Datos\n",
    "\n",
    "- **Participantes e Intentos**: \n",
    "   - El conjunto de datos incluye múltiples participantes con un rango de intentos entre 2 y 6, promediando **4.5 intentos** por participante.\n",
    "   - La distribución de intentos sugiere que la mayoría de los participantes realizó varios intentos para optimizar sus puntuaciones.\n",
    "\n",
    "- **Distribución de Tiempo Total Invertido**: \n",
    "   - Los participantes invirtieron entre **5 y 14 horas** en la competencia, con un promedio de **11.4 horas**. \n",
    "   - La desviación estándar indica una variabilidad significativa en el tiempo invertido, posiblemente reflejando diferentes estrategias de compromiso.\n",
    "\n",
    "- **Puntuación Promedio**: \n",
    "   - Las puntuaciones por intento varían entre **60 y 95 puntos**, con una media de **80.8 puntos**. \n",
    "   - La moderada desviación estándar refleja un rendimiento consistente entre los participantes.\n",
    "\n",
    "- **Análisis de Correlación**: \n",
    "   - La correlación entre el número de intentos y la puntuación promedio es positiva pero moderada, lo que sugiere que aunque más intentos pueden mejorar el rendimiento, otros factores como habilidad técnica y estrategia juegan un papel importante.\n",
    "\n"
   ]
  }
 ],
 "metadata": {
  "kernelspec": {
   "display_name": "Python 3",
   "language": "python",
   "name": "python3"
  },
  "language_info": {
   "codemirror_mode": {
    "name": "ipython",
    "version": 3
   },
   "file_extension": ".py",
   "mimetype": "text/x-python",
   "name": "python",
   "nbconvert_exporter": "python",
   "pygments_lexer": "ipython3",
   "version": "3.12.6"
  }
 },
 "nbformat": 4,
 "nbformat_minor": 2
}
