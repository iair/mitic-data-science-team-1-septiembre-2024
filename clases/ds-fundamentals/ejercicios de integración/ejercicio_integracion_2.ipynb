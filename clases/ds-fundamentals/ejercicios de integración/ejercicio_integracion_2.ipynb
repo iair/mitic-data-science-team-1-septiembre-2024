{
 "cells": [
  {
   "cell_type": "markdown",
   "metadata": {},
   "source": [
    "# **Análisis de una Competencia de Kaggle**"
   ]
  },
  {
   "cell_type": "markdown",
   "metadata": {},
   "source": [
    "### **DATASET:**\n",
    "Se tiene un conjunto de datos en formato JSON que contiene información sobre una competencia de Kaggle. Los datos incluyen el ID del participante, el número de intentos, el tiempo invertido en la competencia y las puntuaciones obtenidas en cada intento. Algunos participantes tienen datos incompletos o valores nulos, que deberás manejar antes de realizar el análisis.\n",
    "\n",
    "### **OBJETIVOS:**\n",
    "* Cargar y explorar un archivo JSON.\n",
    "* Identificar y manejar datos nulos.\n",
    "* Calcular estadísticas descriptivas (promedios, máximos, mínimos, etc.) para el número de intentos, el tiempo invertido y las puntuaciones.\n",
    "* Aplicar condicionales y operadores matemáticos para evaluar el rendimiento de los participantes (e.g., calcular el promedio de puntuaciones por intento).\n",
    "* Guardar el conjunto de datos limpio en un nuevo archivo JSON."
   ]
  },
  {
   "cell_type": "code",
   "execution_count": 4,
   "metadata": {},
   "outputs": [],
   "source": [
    "# Importar las bibliotecas necesarias\n",
    "import pandas as pd\n",
    "import numpy as np\n",
    "import json"
   ]
  },
  {
   "cell_type": "code",
   "execution_count": 5,
   "metadata": {},
   "outputs": [
    {
     "name": "stdout",
     "output_type": "stream",
     "text": [
      "Datos cargados:\n",
      "    puntuacion id_participante          nombre intentos tiempo_total_horas\n",
      "0         80.0               1  Participante_A        5                 12\n",
      "1         85.0               1  Participante_A        5                 12\n",
      "2         90.0               1  Participante_A        5                 12\n",
      "3         88.0               1  Participante_A        5                 12\n",
      "4          NaN               1  Participante_A        5                 12\n",
      "5         70.0               2  Participante_B        3               None\n",
      "6         75.0               2  Participante_B        3               None\n",
      "7          NaN               2  Participante_B        3               None\n",
      "8         85.0               3  Participante_C        4                 10\n",
      "9         90.0               3  Participante_C        4                 10\n",
      "10        95.0               3  Participante_C        4                 10\n",
      "11        93.0               3  Participante_C        4                 10\n",
      "12        60.0               4  Participante_D        2                  5\n",
      "13         NaN               4  Participante_D        2                  5\n",
      "14        78.0               5  Participante_E        6                 14\n",
      "15        82.0               5  Participante_E        6                 14\n",
      "16         NaN               5  Participante_E        6                 14\n",
      "17         NaN               5  Participante_E        6                 14\n",
      "18        80.0               5  Participante_E        6                 14\n",
      "19        85.0               5  Participante_E        6                 14\n"
     ]
    }
   ],
   "source": [
    "# Cargar el archivo JSON\n",
    "file_path = r'C:\\Users\\romi_\\repositorios\\mitic-data-science-team-1-septiembre-2024\\clases\\ds-fundamentals\\data\\ejercicios_integracion\\competencia_kaggle.json'\n",
    "with open(file_path, 'r') as file:\n",
    "    data = json.load(file)\n",
    "\n",
    "# Mostrar los datos de manera elegante\n",
    "df = pd.json_normalize(data, 'puntuaciones', ['id_participante', 'nombre', 'intentos', 'tiempo_total_horas'], \n",
    "                       errors='ignore', record_prefix='puntuacion_')\n",
    "\n",
    "# Renombrar las columnas adecuadamente\n",
    "df.columns = ['puntuacion', 'id_participante', 'nombre', 'intentos', 'tiempo_total_horas']\n",
    "\n",
    "# Mostrar los datos cargados\n",
    "print(\"Datos cargados:\")\n",
    "print(df)"
   ]
  },
  {
   "cell_type": "code",
   "execution_count": 6,
   "metadata": {},
   "outputs": [
    {
     "name": "stdout",
     "output_type": "stream",
     "text": [
      "\n",
      "Datos nulos:\n",
      "puntuacion            5\n",
      "id_participante       0\n",
      "nombre                0\n",
      "intentos              0\n",
      "tiempo_total_horas    3\n",
      "dtype: int64\n"
     ]
    },
    {
     "name": "stderr",
     "output_type": "stream",
     "text": [
      "C:\\Users\\romi_\\AppData\\Local\\Temp\\ipykernel_10836\\3987009913.py:9: FutureWarning: A value is trying to be set on a copy of a DataFrame or Series through chained assignment using an inplace method.\n",
      "The behavior will change in pandas 3.0. This inplace method will never work because the intermediate object on which we are setting values always behaves as a copy.\n",
      "\n",
      "For example, when doing 'df[col].method(value, inplace=True)', try using 'df.method({col: value}, inplace=True)' or df[col] = df[col].method(value) instead, to perform the operation inplace on the original object.\n",
      "\n",
      "\n",
      "  df['tiempo_total_horas'].fillna(df['tiempo_total_horas'].mean(), inplace=True)\n",
      "C:\\Users\\romi_\\AppData\\Local\\Temp\\ipykernel_10836\\3987009913.py:9: FutureWarning: Downcasting object dtype arrays on .fillna, .ffill, .bfill is deprecated and will change in a future version. Call result.infer_objects(copy=False) instead. To opt-in to the future behavior, set `pd.set_option('future.no_silent_downcasting', True)`\n",
      "  df['tiempo_total_horas'].fillna(df['tiempo_total_horas'].mean(), inplace=True)\n"
     ]
    }
   ],
   "source": [
    "# Identificar datos nulos\n",
    "print(\"\\nDatos nulos:\")\n",
    "print(df.isnull().sum())\n",
    "\n",
    "# Manejar los datos nulos: Reemplazar nulos en las puntuaciones por la media de las puntuaciones de cada participante\n",
    "df['puntuacion'] = df.groupby('id_participante')['puntuacion'].transform(lambda x: x.fillna(x.mean()))\n",
    "\n",
    "# Reemplazar nulos en tiempo_total_horas e intentos con el promedio\n",
    "df['tiempo_total_horas'].fillna(df['tiempo_total_horas'].mean(), inplace=True)"
   ]
  },
  {
   "cell_type": "code",
   "execution_count": 7,
   "metadata": {},
   "outputs": [
    {
     "name": "stdout",
     "output_type": "stream",
     "text": [
      "\n",
      "Estadísticas descriptivas:\n",
      "       tiempo_total_horas  puntuacion\n",
      "count           20.000000   20.000000\n",
      "mean            11.411765   80.837500\n",
      "std              2.636960    9.581807\n",
      "min              5.000000   60.000000\n",
      "25%             10.000000   77.250000\n",
      "50%             12.000000   81.625000\n",
      "75%             14.000000   86.312500\n",
      "max             14.000000   95.000000\n",
      "\n",
      "Datos con el promedio de puntuaciones por intento:\n",
      "    puntuacion id_participante          nombre intentos  tiempo_total_horas  \\\n",
      "0        80.00               1  Participante_A        5           12.000000   \n",
      "1        85.00               1  Participante_A        5           12.000000   \n",
      "2        90.00               1  Participante_A        5           12.000000   \n",
      "3        88.00               1  Participante_A        5           12.000000   \n",
      "4        85.75               1  Participante_A        5           12.000000   \n",
      "5        70.00               2  Participante_B        3           11.411765   \n",
      "6        75.00               2  Participante_B        3           11.411765   \n",
      "7        72.50               2  Participante_B        3           11.411765   \n",
      "8        85.00               3  Participante_C        4           10.000000   \n",
      "9        90.00               3  Participante_C        4           10.000000   \n",
      "10       95.00               3  Participante_C        4           10.000000   \n",
      "11       93.00               3  Participante_C        4           10.000000   \n",
      "12       60.00               4  Participante_D        2            5.000000   \n",
      "13       60.00               4  Participante_D        2            5.000000   \n",
      "14       78.00               5  Participante_E        6           14.000000   \n",
      "15       82.00               5  Participante_E        6           14.000000   \n",
      "16       81.25               5  Participante_E        6           14.000000   \n",
      "17       81.25               5  Participante_E        6           14.000000   \n",
      "18       80.00               5  Participante_E        6           14.000000   \n",
      "19       85.00               5  Participante_E        6           14.000000   \n",
      "\n",
      "   promedio_puntuacion_por_intento  \n",
      "0                            17.15  \n",
      "1                            17.15  \n",
      "2                            17.15  \n",
      "3                            17.15  \n",
      "4                            17.15  \n",
      "5                        24.166667  \n",
      "6                        24.166667  \n",
      "7                        24.166667  \n",
      "8                          22.6875  \n",
      "9                          22.6875  \n",
      "10                         22.6875  \n",
      "11                         22.6875  \n",
      "12                            30.0  \n",
      "13                            30.0  \n",
      "14                       13.541667  \n",
      "15                       13.541667  \n",
      "16                       13.541667  \n",
      "17                       13.541667  \n",
      "18                       13.541667  \n",
      "19                       13.541667  \n"
     ]
    }
   ],
   "source": [
    "# Estadísticas descriptivas para intentos, tiempo y puntuaciones\n",
    "print(\"\\nEstadísticas descriptivas:\")\n",
    "print(df[['intentos', 'tiempo_total_horas', 'puntuacion']].describe())\n",
    "\n",
    "# Calcular el promedio de puntuaciones por intento para cada participante\n",
    "df['promedio_puntuacion_por_intento'] = df.groupby('id_participante')['puntuacion'].transform('mean') / df['intentos']\n",
    "\n",
    "# Mostrar el DataFrame actualizado\n",
    "print(\"\\nDatos con el promedio de puntuaciones por intento:\")\n",
    "print(df)"
   ]
  },
  {
   "cell_type": "code",
   "execution_count": 8,
   "metadata": {},
   "outputs": [
    {
     "name": "stdout",
     "output_type": "stream",
     "text": [
      "\n",
      "Conjunto de datos limpio guardado en: C:\\Users\\romi_\\repositorios\\mitic-data-science-team-1-septiembre-2024\\clases\\ds-fundamentals\\data\\ejercicios_integracion\\competencia_kaggle_limpio.json\n"
     ]
    }
   ],
   "source": [
    "# Guardar el conjunto de datos limpio en un nuevo archivo JSON\n",
    "output_path = r'C:\\Users\\romi_\\repositorios\\mitic-data-science-team-1-septiembre-2024\\clases\\ds-fundamentals\\data\\ejercicios_integracion\\competencia_kaggle_limpio.json'\n",
    "df.to_json(output_path, orient='records', indent=4)\n",
    "\n",
    "print(f\"\\nConjunto de datos limpio guardado en: {output_path}\")\n"
   ]
  }
 ],
 "metadata": {
  "kernelspec": {
   "display_name": "Python 3",
   "language": "python",
   "name": "python3"
  },
  "language_info": {
   "codemirror_mode": {
    "name": "ipython",
    "version": 3
   },
   "file_extension": ".py",
   "mimetype": "text/x-python",
   "name": "python",
   "nbconvert_exporter": "python",
   "pygments_lexer": "ipython3",
   "version": "3.13.0"
  }
 },
 "nbformat": 4,
 "nbformat_minor": 2
}
