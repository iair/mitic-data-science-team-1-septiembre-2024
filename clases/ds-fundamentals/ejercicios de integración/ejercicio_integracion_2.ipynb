{
 "cells": [
  {
   "cell_type": "code",
   "execution_count": 1,
   "metadata": {},
   "outputs": [],
   "source": [
    "import pandas as pd\n",
    "import numpy as np\n",
    "import json"
   ]
  },
  {
   "cell_type": "markdown",
   "metadata": {},
   "source": [
    "#Obtenemos datos"
   ]
  },
  {
   "cell_type": "code",
   "execution_count": 4,
   "metadata": {},
   "outputs": [
    {
     "name": "stdout",
     "output_type": "stream",
     "text": [
      "   id_participante          nombre  intentos  tiempo_total_horas  \\\n",
      "0                1  Participante_A         5                12.0   \n",
      "1                2  Participante_B         3                 NaN   \n",
      "2                3  Participante_C         4                10.0   \n",
      "3                4  Participante_D         2                 5.0   \n",
      "4                5  Participante_E         6                14.0   \n",
      "\n",
      "                   puntuaciones  \n",
      "0        [80, 85, 90, 88, None]  \n",
      "1                [70, 75, None]  \n",
      "2              [85, 90, 95, 93]  \n",
      "3                    [60, None]  \n",
      "4  [78, 82, None, None, 80, 85]  \n"
     ]
    }
   ],
   "source": [
    "path = '../data/ejercicios_integracion/competencia_kaggle.json'\n",
    "datos = pd.read_json(path)\n",
    "\n",
    "\n",
    "print(datos.head())"
   ]
  },
  {
   "cell_type": "markdown",
   "metadata": {},
   "source": [
    "limpieza"
   ]
  },
  {
   "cell_type": "code",
   "execution_count": null,
   "metadata": {},
   "outputs": [],
   "source": [
    "datos_filtrados = datos[datos['tiempo_total_horas'].notnull()]"
   ]
  }
 ],
 "metadata": {
  "kernelspec": {
   "display_name": "Python 3",
   "language": "python",
   "name": "python3"
  },
  "language_info": {
   "codemirror_mode": {
    "name": "ipython",
    "version": 3
   },
   "file_extension": ".py",
   "mimetype": "text/x-python",
   "name": "python",
   "nbconvert_exporter": "python",
   "pygments_lexer": "ipython3",
   "version": "3.12.6"
  }
 },
 "nbformat": 4,
 "nbformat_minor": 2
}
