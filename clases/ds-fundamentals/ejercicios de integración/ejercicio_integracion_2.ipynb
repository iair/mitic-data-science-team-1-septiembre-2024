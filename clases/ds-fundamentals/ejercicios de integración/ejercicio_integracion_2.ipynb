{
 "cells": [
  {
   "cell_type": "code",
   "execution_count": 2,
   "metadata": {},
   "outputs": [
    {
     "name": "stdout",
     "output_type": "stream",
     "text": [
      "   id_participante          nombre  intentos  tiempo_total_horas  \\\n",
      "0                1  Participante_A         5                12.0   \n",
      "1                2  Participante_B         3                 NaN   \n",
      "2                3  Participante_C         4                10.0   \n",
      "3                4  Participante_D         2                 5.0   \n",
      "4                5  Participante_E         6                14.0   \n",
      "\n",
      "                   puntuaciones  \n",
      "0        [80, 85, 90, 88, None]  \n",
      "1                [70, 75, None]  \n",
      "2              [85, 90, 95, 93]  \n",
      "3                    [60, None]  \n",
      "4  [78, 82, None, None, 80, 85]  \n"
     ]
    }
   ],
   "source": [
    "import pandas as pd\n",
    "# Cargar el archivo JSON en un DataFrame\n",
    "df = pd.read_json('../data/ejercicios_integracion/competencia_kaggle.json')\n",
    "\n",
    "print(df)"
   ]
  },
  {
   "cell_type": "code",
   "execution_count": null,
   "metadata": {},
   "outputs": [
    {
     "name": "stdout",
     "output_type": "stream",
     "text": [
      "   id_participante          nombre  intentos  tiempo_total_horas  \\\n",
      "0                1  Participante_A         5                12.0   \n",
      "1                2  Participante_B         3                 0.0   \n",
      "2                3  Participante_C         4                10.0   \n",
      "3                4  Participante_D         2                 5.0   \n",
      "4                5  Participante_E         6                14.0   \n",
      "\n",
      "                   puntuaciones  \n",
      "0        [80, 85, 90, 88, None]  \n",
      "1                [70, 75, None]  \n",
      "2              [85, 90, 95, 93]  \n",
      "3                    [60, None]  \n",
      "4  [78, 82, None, None, 80, 85]  \n",
      "Información del DataFrame:\n",
      "<class 'pandas.core.frame.DataFrame'>\n",
      "RangeIndex: 5 entries, 0 to 4\n",
      "Data columns (total 5 columns):\n",
      " #   Column              Non-Null Count  Dtype  \n",
      "---  ------              --------------  -----  \n",
      " 0   id_participante     5 non-null      int64  \n",
      " 1   nombre              5 non-null      object \n",
      " 2   intentos            5 non-null      int64  \n",
      " 3   tiempo_total_horas  5 non-null      float64\n",
      " 4   puntuaciones        5 non-null      object \n",
      "dtypes: float64(1), int64(2), object(2)\n",
      "memory usage: 332.0+ bytes\n",
      "None\n",
      "Estadísticas descriptivas del DataFrame:\n",
      "       id_participante  intentos  tiempo_total_horas\n",
      "count         5.000000  5.000000            5.000000\n",
      "mean          3.000000  4.000000            8.200000\n",
      "std           1.581139  1.581139            5.674504\n",
      "min           1.000000  2.000000            0.000000\n",
      "25%           2.000000  3.000000            5.000000\n",
      "50%           3.000000  4.000000           10.000000\n",
      "75%           4.000000  5.000000           12.000000\n",
      "max           5.000000  6.000000           14.000000\n"
     ]
    }
   ],
   "source": [
    "#Cargar valores con 0\n",
    "df = df.fillna(0)\n",
    "\n",
    "print(df)\n",
    "\n",
    "# Obtener información general sobre el DataFrame\n",
    "print(\"Información del DataFrame:\")\n",
    "print(df.info())\n",
    "# Generar estadísticas descriptivas\n",
    "print(\"Estadísticas descriptivas del DataFrame:\")\n",
    "print(df.describe())"
   ]
  },
  {
   "cell_type": "code",
   "execution_count": 6,
   "metadata": {},
   "outputs": [
    {
     "name": "stdout",
     "output_type": "stream",
     "text": [
      "Promedio de intentos: 4.0\n",
      "Máximo de intentos: 6\n",
      "Mínimo de intentos: 2\n"
     ]
    }
   ],
   "source": [
    "# Calcular promedio, máximo y mínimo de 'intentos'\n",
    "promedio_cantidad = df['intentos'].mean()\n",
    "max_cantidad = df['intentos'].max()\n",
    "min_cantidad = df['intentos'].min()\n",
    "\n",
    "print(f\"Promedio de intentos: {promedio_cantidad}\")\n",
    "print(f\"Máximo de intentos: {max_cantidad}\")\n",
    "print(f\"Mínimo de intentos: {min_cantidad}\")"
   ]
  }
 ],
 "metadata": {
  "kernelspec": {
   "display_name": "bootcamp_coding_dojo",
   "language": "python",
   "name": "python3"
  },
  "language_info": {
   "codemirror_mode": {
    "name": "ipython",
    "version": 3
   },
   "file_extension": ".py",
   "mimetype": "text/x-python",
   "name": "python",
   "nbconvert_exporter": "python",
   "pygments_lexer": "ipython3",
   "version": "3.12.7"
  }
 },
 "nbformat": 4,
 "nbformat_minor": 2
}
