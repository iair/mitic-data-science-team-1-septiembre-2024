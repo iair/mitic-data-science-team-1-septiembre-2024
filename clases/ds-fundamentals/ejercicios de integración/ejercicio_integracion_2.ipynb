{
 "cells": [
  {
   "cell_type": "markdown",
   "metadata": {},
   "source": [
    "### importamos librerias necesarias"
   ]
  },
  {
   "cell_type": "code",
   "execution_count": 1,
   "metadata": {},
   "outputs": [],
   "source": [
    "import pandas as pd\n",
    "import numpy as np\n",
    "import json\n"
   ]
  },
  {
   "cell_type": "markdown",
   "metadata": {},
   "source": [
    "### cargo el dataset"
   ]
  },
  {
   "cell_type": "code",
   "execution_count": 2,
   "metadata": {},
   "outputs": [
    {
     "data": {
      "text/html": [
       "<div>\n",
       "<style scoped>\n",
       "    .dataframe tbody tr th:only-of-type {\n",
       "        vertical-align: middle;\n",
       "    }\n",
       "\n",
       "    .dataframe tbody tr th {\n",
       "        vertical-align: top;\n",
       "    }\n",
       "\n",
       "    .dataframe thead th {\n",
       "        text-align: right;\n",
       "    }\n",
       "</style>\n",
       "<table border=\"1\" class=\"dataframe\">\n",
       "  <thead>\n",
       "    <tr style=\"text-align: right;\">\n",
       "      <th></th>\n",
       "      <th>id_participante</th>\n",
       "      <th>nombre</th>\n",
       "      <th>intentos</th>\n",
       "      <th>tiempo_total_horas</th>\n",
       "      <th>puntuaciones</th>\n",
       "    </tr>\n",
       "  </thead>\n",
       "  <tbody>\n",
       "    <tr>\n",
       "      <th>0</th>\n",
       "      <td>1</td>\n",
       "      <td>Participante_A</td>\n",
       "      <td>5</td>\n",
       "      <td>12.0</td>\n",
       "      <td>[80, 85, 90, 88, None]</td>\n",
       "    </tr>\n",
       "    <tr>\n",
       "      <th>1</th>\n",
       "      <td>2</td>\n",
       "      <td>Participante_B</td>\n",
       "      <td>3</td>\n",
       "      <td>NaN</td>\n",
       "      <td>[70, 75, None]</td>\n",
       "    </tr>\n",
       "    <tr>\n",
       "      <th>2</th>\n",
       "      <td>3</td>\n",
       "      <td>Participante_C</td>\n",
       "      <td>4</td>\n",
       "      <td>10.0</td>\n",
       "      <td>[85, 90, 95, 93]</td>\n",
       "    </tr>\n",
       "    <tr>\n",
       "      <th>3</th>\n",
       "      <td>4</td>\n",
       "      <td>Participante_D</td>\n",
       "      <td>2</td>\n",
       "      <td>5.0</td>\n",
       "      <td>[60, None]</td>\n",
       "    </tr>\n",
       "    <tr>\n",
       "      <th>4</th>\n",
       "      <td>5</td>\n",
       "      <td>Participante_E</td>\n",
       "      <td>6</td>\n",
       "      <td>14.0</td>\n",
       "      <td>[78, 82, None, None, 80, 85]</td>\n",
       "    </tr>\n",
       "  </tbody>\n",
       "</table>\n",
       "</div>"
      ],
      "text/plain": [
       "   id_participante          nombre  intentos  tiempo_total_horas  \\\n",
       "0                1  Participante_A         5                12.0   \n",
       "1                2  Participante_B         3                 NaN   \n",
       "2                3  Participante_C         4                10.0   \n",
       "3                4  Participante_D         2                 5.0   \n",
       "4                5  Participante_E         6                14.0   \n",
       "\n",
       "                   puntuaciones  \n",
       "0        [80, 85, 90, 88, None]  \n",
       "1                [70, 75, None]  \n",
       "2              [85, 90, 95, 93]  \n",
       "3                    [60, None]  \n",
       "4  [78, 82, None, None, 80, 85]  "
      ]
     },
     "execution_count": 2,
     "metadata": {},
     "output_type": "execute_result"
    }
   ],
   "source": [
    "data = pd.read_json(\"../data/ejercicios_integracion/competencia_kaggle.json\")\n",
    "data"
   ]
  },
  {
   "cell_type": "markdown",
   "metadata": {},
   "source": [
    "### primeras impresiones"
   ]
  },
  {
   "cell_type": "code",
   "execution_count": 3,
   "metadata": {},
   "outputs": [
    {
     "data": {
      "text/html": [
       "<div>\n",
       "<style scoped>\n",
       "    .dataframe tbody tr th:only-of-type {\n",
       "        vertical-align: middle;\n",
       "    }\n",
       "\n",
       "    .dataframe tbody tr th {\n",
       "        vertical-align: top;\n",
       "    }\n",
       "\n",
       "    .dataframe thead th {\n",
       "        text-align: right;\n",
       "    }\n",
       "</style>\n",
       "<table border=\"1\" class=\"dataframe\">\n",
       "  <thead>\n",
       "    <tr style=\"text-align: right;\">\n",
       "      <th></th>\n",
       "      <th>id_participante</th>\n",
       "      <th>nombre</th>\n",
       "      <th>intentos</th>\n",
       "      <th>tiempo_total_horas</th>\n",
       "      <th>puntuaciones</th>\n",
       "    </tr>\n",
       "  </thead>\n",
       "  <tbody>\n",
       "    <tr>\n",
       "      <th>0</th>\n",
       "      <td>1</td>\n",
       "      <td>Participante_A</td>\n",
       "      <td>5</td>\n",
       "      <td>12.0</td>\n",
       "      <td>[80, 85, 90, 88, None]</td>\n",
       "    </tr>\n",
       "    <tr>\n",
       "      <th>1</th>\n",
       "      <td>2</td>\n",
       "      <td>Participante_B</td>\n",
       "      <td>3</td>\n",
       "      <td>NaN</td>\n",
       "      <td>[70, 75, None]</td>\n",
       "    </tr>\n",
       "    <tr>\n",
       "      <th>2</th>\n",
       "      <td>3</td>\n",
       "      <td>Participante_C</td>\n",
       "      <td>4</td>\n",
       "      <td>10.0</td>\n",
       "      <td>[85, 90, 95, 93]</td>\n",
       "    </tr>\n",
       "    <tr>\n",
       "      <th>3</th>\n",
       "      <td>4</td>\n",
       "      <td>Participante_D</td>\n",
       "      <td>2</td>\n",
       "      <td>5.0</td>\n",
       "      <td>[60, None]</td>\n",
       "    </tr>\n",
       "    <tr>\n",
       "      <th>4</th>\n",
       "      <td>5</td>\n",
       "      <td>Participante_E</td>\n",
       "      <td>6</td>\n",
       "      <td>14.0</td>\n",
       "      <td>[78, 82, None, None, 80, 85]</td>\n",
       "    </tr>\n",
       "  </tbody>\n",
       "</table>\n",
       "</div>"
      ],
      "text/plain": [
       "   id_participante          nombre  intentos  tiempo_total_horas  \\\n",
       "0                1  Participante_A         5                12.0   \n",
       "1                2  Participante_B         3                 NaN   \n",
       "2                3  Participante_C         4                10.0   \n",
       "3                4  Participante_D         2                 5.0   \n",
       "4                5  Participante_E         6                14.0   \n",
       "\n",
       "                   puntuaciones  \n",
       "0        [80, 85, 90, 88, None]  \n",
       "1                [70, 75, None]  \n",
       "2              [85, 90, 95, 93]  \n",
       "3                    [60, None]  \n",
       "4  [78, 82, None, None, 80, 85]  "
      ]
     },
     "execution_count": 3,
     "metadata": {},
     "output_type": "execute_result"
    }
   ],
   "source": [
    "data.head()\n"
   ]
  },
  {
   "cell_type": "code",
   "execution_count": 4,
   "metadata": {},
   "outputs": [
    {
     "name": "stdout",
     "output_type": "stream",
     "text": [
      "<class 'pandas.core.frame.DataFrame'>\n",
      "RangeIndex: 5 entries, 0 to 4\n",
      "Data columns (total 5 columns):\n",
      " #   Column              Non-Null Count  Dtype  \n",
      "---  ------              --------------  -----  \n",
      " 0   id_participante     5 non-null      int64  \n",
      " 1   nombre              5 non-null      object \n",
      " 2   intentos            5 non-null      int64  \n",
      " 3   tiempo_total_horas  4 non-null      float64\n",
      " 4   puntuaciones        5 non-null      object \n",
      "dtypes: float64(1), int64(2), object(2)\n",
      "memory usage: 332.0+ bytes\n"
     ]
    }
   ],
   "source": [
    "\n",
    "data.info()"
   ]
  },
  {
   "cell_type": "markdown",
   "metadata": {},
   "source": [
    "### verificamos la columna tiempo_total_hora, esta raro"
   ]
  },
  {
   "cell_type": "code",
   "execution_count": 5,
   "metadata": {},
   "outputs": [
    {
     "data": {
      "text/plain": [
       "1"
      ]
     },
     "execution_count": 5,
     "metadata": {},
     "output_type": "execute_result"
    }
   ],
   "source": [
    "data[\"tiempo_total_horas\"].isnull().sum()"
   ]
  },
  {
   "cell_type": "markdown",
   "metadata": {},
   "source": [
    "usamos media para rellenar datos faltantes"
   ]
  },
  {
   "cell_type": "code",
   "execution_count": 6,
   "metadata": {},
   "outputs": [
    {
     "data": {
      "text/plain": [
       "10.25"
      ]
     },
     "execution_count": 6,
     "metadata": {},
     "output_type": "execute_result"
    }
   ],
   "source": [
    "#saco la media para usarlo despues y rellenarlo\n",
    "\n",
    "media_tiempo_total_horas = data['tiempo_total_horas'].mean()\n",
    "media_tiempo_total_horas"
   ]
  },
  {
   "cell_type": "markdown",
   "metadata": {},
   "source": [
    "uso el dato de la media para ingresarlo en la columna tiempo_total_horas y rellenar valores nulos"
   ]
  },
  {
   "cell_type": "code",
   "execution_count": 7,
   "metadata": {},
   "outputs": [
    {
     "name": "stderr",
     "output_type": "stream",
     "text": [
      "C:\\Users\\guill\\AppData\\Local\\Temp\\ipykernel_15420\\129464464.py:1: FutureWarning: A value is trying to be set on a copy of a DataFrame or Series through chained assignment using an inplace method.\n",
      "The behavior will change in pandas 3.0. This inplace method will never work because the intermediate object on which we are setting values always behaves as a copy.\n",
      "\n",
      "For example, when doing 'df[col].method(value, inplace=True)', try using 'df.method({col: value}, inplace=True)' or df[col] = df[col].method(value) instead, to perform the operation inplace on the original object.\n",
      "\n",
      "\n",
      "  data['tiempo_total_horas'].fillna(media_tiempo_total_horas, inplace=True)\n"
     ]
    }
   ],
   "source": [
    "data['tiempo_total_horas'].fillna(media_tiempo_total_horas, inplace=True)"
   ]
  },
  {
   "cell_type": "markdown",
   "metadata": {},
   "source": [
    "### verificamos"
   ]
  },
  {
   "cell_type": "code",
   "execution_count": 8,
   "metadata": {},
   "outputs": [
    {
     "name": "stdout",
     "output_type": "stream",
     "text": [
      "<class 'pandas.core.frame.DataFrame'>\n",
      "RangeIndex: 5 entries, 0 to 4\n",
      "Data columns (total 5 columns):\n",
      " #   Column              Non-Null Count  Dtype  \n",
      "---  ------              --------------  -----  \n",
      " 0   id_participante     5 non-null      int64  \n",
      " 1   nombre              5 non-null      object \n",
      " 2   intentos            5 non-null      int64  \n",
      " 3   tiempo_total_horas  5 non-null      float64\n",
      " 4   puntuaciones        5 non-null      object \n",
      "dtypes: float64(1), int64(2), object(2)\n",
      "memory usage: 332.0+ bytes\n"
     ]
    }
   ],
   "source": [
    "data.info()"
   ]
  },
  {
   "cell_type": "code",
   "execution_count": 9,
   "metadata": {},
   "outputs": [
    {
     "data": {
      "text/html": [
       "<div>\n",
       "<style scoped>\n",
       "    .dataframe tbody tr th:only-of-type {\n",
       "        vertical-align: middle;\n",
       "    }\n",
       "\n",
       "    .dataframe tbody tr th {\n",
       "        vertical-align: top;\n",
       "    }\n",
       "\n",
       "    .dataframe thead th {\n",
       "        text-align: right;\n",
       "    }\n",
       "</style>\n",
       "<table border=\"1\" class=\"dataframe\">\n",
       "  <thead>\n",
       "    <tr style=\"text-align: right;\">\n",
       "      <th></th>\n",
       "      <th>id_participante</th>\n",
       "      <th>nombre</th>\n",
       "      <th>intentos</th>\n",
       "      <th>tiempo_total_horas</th>\n",
       "      <th>puntuaciones</th>\n",
       "    </tr>\n",
       "  </thead>\n",
       "  <tbody>\n",
       "    <tr>\n",
       "      <th>0</th>\n",
       "      <td>1</td>\n",
       "      <td>Participante_A</td>\n",
       "      <td>5</td>\n",
       "      <td>12.00</td>\n",
       "      <td>[80, 85, 90, 88, None]</td>\n",
       "    </tr>\n",
       "    <tr>\n",
       "      <th>1</th>\n",
       "      <td>2</td>\n",
       "      <td>Participante_B</td>\n",
       "      <td>3</td>\n",
       "      <td>10.25</td>\n",
       "      <td>[70, 75, None]</td>\n",
       "    </tr>\n",
       "    <tr>\n",
       "      <th>2</th>\n",
       "      <td>3</td>\n",
       "      <td>Participante_C</td>\n",
       "      <td>4</td>\n",
       "      <td>10.00</td>\n",
       "      <td>[85, 90, 95, 93]</td>\n",
       "    </tr>\n",
       "    <tr>\n",
       "      <th>3</th>\n",
       "      <td>4</td>\n",
       "      <td>Participante_D</td>\n",
       "      <td>2</td>\n",
       "      <td>5.00</td>\n",
       "      <td>[60, None]</td>\n",
       "    </tr>\n",
       "    <tr>\n",
       "      <th>4</th>\n",
       "      <td>5</td>\n",
       "      <td>Participante_E</td>\n",
       "      <td>6</td>\n",
       "      <td>14.00</td>\n",
       "      <td>[78, 82, None, None, 80, 85]</td>\n",
       "    </tr>\n",
       "  </tbody>\n",
       "</table>\n",
       "</div>"
      ],
      "text/plain": [
       "   id_participante          nombre  intentos  tiempo_total_horas  \\\n",
       "0                1  Participante_A         5               12.00   \n",
       "1                2  Participante_B         3               10.25   \n",
       "2                3  Participante_C         4               10.00   \n",
       "3                4  Participante_D         2                5.00   \n",
       "4                5  Participante_E         6               14.00   \n",
       "\n",
       "                   puntuaciones  \n",
       "0        [80, 85, 90, 88, None]  \n",
       "1                [70, 75, None]  \n",
       "2              [85, 90, 95, 93]  \n",
       "3                    [60, None]  \n",
       "4  [78, 82, None, None, 80, 85]  "
      ]
     },
     "execution_count": 9,
     "metadata": {},
     "output_type": "execute_result"
    }
   ],
   "source": [
    "data.head()"
   ]
  },
  {
   "cell_type": "markdown",
   "metadata": {},
   "source": [
    "### las puntuaciones las convertimos en array para manejarlo mejor"
   ]
  },
  {
   "cell_type": "code",
   "execution_count": 10,
   "metadata": {},
   "outputs": [
    {
     "data": {
      "text/plain": [
       "0          [80, 85, 90, 88, None]\n",
       "1                  [70, 75, None]\n",
       "2                [85, 90, 95, 93]\n",
       "3                      [60, None]\n",
       "4    [78, 82, None, None, 80, 85]\n",
       "Name: puntuaciones, dtype: object"
      ]
     },
     "execution_count": 10,
     "metadata": {},
     "output_type": "execute_result"
    }
   ],
   "source": [
    "data.puntuaciones"
   ]
  },
  {
   "cell_type": "markdown",
   "metadata": {},
   "source": [
    "funcion para convertir en array una columna"
   ]
  },
  {
   "cell_type": "code",
   "execution_count": 11,
   "metadata": {},
   "outputs": [],
   "source": [
    "def rellenar_con_media(puntuaciones):\n",
    "    # Convertir los None a NaN\n",
    "    puntuaciones = np.array([x if x is not None else np.nan for x in puntuaciones])\n",
    "    \n",
    "    # Calcular la media ignorando NaN\n",
    "    media = np.nanmean(puntuaciones)\n",
    "    \n",
    "    # Rellenar NaN con la media\n",
    "    puntuaciones = np.nan_to_num(puntuaciones, nan=media)\n",
    "    \n",
    "    return puntuaciones"
   ]
  },
  {
   "cell_type": "markdown",
   "metadata": {},
   "source": [
    "usamos la media de los datos del array para rellenar todos los falttantes"
   ]
  },
  {
   "cell_type": "code",
   "execution_count": 12,
   "metadata": {},
   "outputs": [
    {
     "name": "stdout",
     "output_type": "stream",
     "text": [
      "   id_participante          nombre  intentos  tiempo_total_horas  \\\n",
      "0                1  Participante_A         5               12.00   \n",
      "1                2  Participante_B         3               10.25   \n",
      "2                3  Participante_C         4               10.00   \n",
      "3                4  Participante_D         2                5.00   \n",
      "4                5  Participante_E         6               14.00   \n",
      "\n",
      "                   puntuaciones                      puntuaciones_array  \n",
      "0        [80, 85, 90, 88, None]         [80.0, 85.0, 90.0, 88.0, 85.75]  \n",
      "1                [70, 75, None]                      [70.0, 75.0, 72.5]  \n",
      "2              [85, 90, 95, 93]                        [85, 90, 95, 93]  \n",
      "3                    [60, None]                            [60.0, 60.0]  \n",
      "4  [78, 82, None, None, 80, 85]  [78.0, 82.0, 81.25, 81.25, 80.0, 85.0]  \n"
     ]
    }
   ],
   "source": [
    "# Aplicar la función a la columna 'puntuaciones'\n",
    "data['puntuaciones_array'] = data['puntuaciones'].apply(rellenar_con_media)\n",
    "\n",
    "# Mostrar el DataFrame con los valores rellenados\n",
    "print(data)"
   ]
  },
  {
   "cell_type": "markdown",
   "metadata": {},
   "source": [
    "vemos que hay dos columnas, eliminamos la que tiene nulos"
   ]
  },
  {
   "cell_type": "code",
   "execution_count": 13,
   "metadata": {},
   "outputs": [
    {
     "name": "stdout",
     "output_type": "stream",
     "text": [
      "   id_participante          nombre  intentos  tiempo_total_horas  \\\n",
      "0                1  Participante_A         5               12.00   \n",
      "1                2  Participante_B         3               10.25   \n",
      "2                3  Participante_C         4               10.00   \n",
      "3                4  Participante_D         2                5.00   \n",
      "4                5  Participante_E         6               14.00   \n",
      "\n",
      "                       puntuaciones_array  \n",
      "0         [80.0, 85.0, 90.0, 88.0, 85.75]  \n",
      "1                      [70.0, 75.0, 72.5]  \n",
      "2                        [85, 90, 95, 93]  \n",
      "3                            [60.0, 60.0]  \n",
      "4  [78.0, 82.0, 81.25, 81.25, 80.0, 85.0]  \n"
     ]
    }
   ],
   "source": [
    "data.drop(columns=['puntuaciones'], inplace=True)\n",
    "\n",
    "# Mostrar el DataFrame después de eliminar la columna\n",
    "print(data)"
   ]
  },
  {
   "cell_type": "markdown",
   "metadata": {},
   "source": [
    "### verificamos que todo este bien"
   ]
  },
  {
   "cell_type": "code",
   "execution_count": 14,
   "metadata": {},
   "outputs": [
    {
     "data": {
      "text/html": [
       "<div>\n",
       "<style scoped>\n",
       "    .dataframe tbody tr th:only-of-type {\n",
       "        vertical-align: middle;\n",
       "    }\n",
       "\n",
       "    .dataframe tbody tr th {\n",
       "        vertical-align: top;\n",
       "    }\n",
       "\n",
       "    .dataframe thead th {\n",
       "        text-align: right;\n",
       "    }\n",
       "</style>\n",
       "<table border=\"1\" class=\"dataframe\">\n",
       "  <thead>\n",
       "    <tr style=\"text-align: right;\">\n",
       "      <th></th>\n",
       "      <th>id_participante</th>\n",
       "      <th>nombre</th>\n",
       "      <th>intentos</th>\n",
       "      <th>tiempo_total_horas</th>\n",
       "      <th>puntuaciones_array</th>\n",
       "    </tr>\n",
       "  </thead>\n",
       "  <tbody>\n",
       "    <tr>\n",
       "      <th>0</th>\n",
       "      <td>1</td>\n",
       "      <td>Participante_A</td>\n",
       "      <td>5</td>\n",
       "      <td>12.00</td>\n",
       "      <td>[80.0, 85.0, 90.0, 88.0, 85.75]</td>\n",
       "    </tr>\n",
       "    <tr>\n",
       "      <th>1</th>\n",
       "      <td>2</td>\n",
       "      <td>Participante_B</td>\n",
       "      <td>3</td>\n",
       "      <td>10.25</td>\n",
       "      <td>[70.0, 75.0, 72.5]</td>\n",
       "    </tr>\n",
       "    <tr>\n",
       "      <th>2</th>\n",
       "      <td>3</td>\n",
       "      <td>Participante_C</td>\n",
       "      <td>4</td>\n",
       "      <td>10.00</td>\n",
       "      <td>[85, 90, 95, 93]</td>\n",
       "    </tr>\n",
       "    <tr>\n",
       "      <th>3</th>\n",
       "      <td>4</td>\n",
       "      <td>Participante_D</td>\n",
       "      <td>2</td>\n",
       "      <td>5.00</td>\n",
       "      <td>[60.0, 60.0]</td>\n",
       "    </tr>\n",
       "    <tr>\n",
       "      <th>4</th>\n",
       "      <td>5</td>\n",
       "      <td>Participante_E</td>\n",
       "      <td>6</td>\n",
       "      <td>14.00</td>\n",
       "      <td>[78.0, 82.0, 81.25, 81.25, 80.0, 85.0]</td>\n",
       "    </tr>\n",
       "  </tbody>\n",
       "</table>\n",
       "</div>"
      ],
      "text/plain": [
       "   id_participante          nombre  intentos  tiempo_total_horas  \\\n",
       "0                1  Participante_A         5               12.00   \n",
       "1                2  Participante_B         3               10.25   \n",
       "2                3  Participante_C         4               10.00   \n",
       "3                4  Participante_D         2                5.00   \n",
       "4                5  Participante_E         6               14.00   \n",
       "\n",
       "                       puntuaciones_array  \n",
       "0         [80.0, 85.0, 90.0, 88.0, 85.75]  \n",
       "1                      [70.0, 75.0, 72.5]  \n",
       "2                        [85, 90, 95, 93]  \n",
       "3                            [60.0, 60.0]  \n",
       "4  [78.0, 82.0, 81.25, 81.25, 80.0, 85.0]  "
      ]
     },
     "execution_count": 14,
     "metadata": {},
     "output_type": "execute_result"
    }
   ],
   "source": [
    "data.head()"
   ]
  },
  {
   "cell_type": "markdown",
   "metadata": {},
   "source": [
    "### sacamos estadisticas basicas"
   ]
  },
  {
   "cell_type": "markdown",
   "metadata": {},
   "source": [
    "sacamos el promedio"
   ]
  },
  {
   "cell_type": "code",
   "execution_count": 15,
   "metadata": {},
   "outputs": [
    {
     "name": "stdout",
     "output_type": "stream",
     "text": [
      "4.0\n",
      "10.25\n",
      "78.05\n"
     ]
    }
   ],
   "source": [
    "#promedio de intentos, tiempos y puntuaciones\n",
    "mean_intentos = data[\"intentos\"].mean()\n",
    "print(mean_intentos)\n",
    "mean_tiempo = data[\"tiempo_total_horas\"].mean()\n",
    "print(mean_tiempo)\n",
    "mean_puntuaciones = data['puntuaciones_array'].apply(np.mean).mean()\n",
    "print(mean_puntuaciones)"
   ]
  },
  {
   "cell_type": "markdown",
   "metadata": {},
   "source": [
    "sacamos los minimos"
   ]
  },
  {
   "cell_type": "code",
   "execution_count": 16,
   "metadata": {},
   "outputs": [
    {
     "name": "stdout",
     "output_type": "stream",
     "text": [
      "2\n",
      "5.0\n",
      "60.0\n"
     ]
    }
   ],
   "source": [
    "#min de intentos, tiempos y puntuaciones\n",
    "min_intentos = data[\"intentos\"].min()\n",
    "print(min_intentos)\n",
    "min_tiempo = data[\"tiempo_total_horas\"].min()\n",
    "print(min_tiempo)\n",
    "min_puntuaciones = data['puntuaciones_array'].apply(np.min).min()\n",
    "print(min_puntuaciones)"
   ]
  },
  {
   "cell_type": "markdown",
   "metadata": {},
   "source": [
    "Sacamos los maximos"
   ]
  },
  {
   "cell_type": "code",
   "execution_count": 17,
   "metadata": {},
   "outputs": [
    {
     "name": "stdout",
     "output_type": "stream",
     "text": [
      "6\n",
      "14.0\n",
      "95.0\n"
     ]
    }
   ],
   "source": [
    "#max de intentos, tiempos y puntuaciones\n",
    "max_intentos = data[\"intentos\"].max()\n",
    "print(max_intentos)\n",
    "max_tiempo = data[\"tiempo_total_horas\"].max()\n",
    "print(max_tiempo)\n",
    "max_puntuaciones = data['puntuaciones_array'].apply(np.max).max()\n",
    "print(max_puntuaciones)"
   ]
  },
  {
   "cell_type": "markdown",
   "metadata": {},
   "source": [
    "### exportamos el json limpio"
   ]
  },
  {
   "cell_type": "code",
   "execution_count": 18,
   "metadata": {},
   "outputs": [
    {
     "name": "stdout",
     "output_type": "stream",
     "text": [
      "El conjunto de datos limpio ha sido guardado en 'datos_limpios.json'.\n"
     ]
    }
   ],
   "source": [
    "# Guardar el DataFrame en un archivo JSON\n",
    "data.to_json('ejercicio_integracion_2_datos_limpios.json', orient='records', lines=True)\n",
    "\n",
    "print(\"El conjunto de datos limpio ha sido guardado en 'datos_limpios.json'.\")\n"
   ]
  }
 ],
 "metadata": {
  "kernelspec": {
   "display_name": "mitic",
   "language": "python",
   "name": "python3"
  },
  "language_info": {
   "codemirror_mode": {
    "name": "ipython",
    "version": 3
   },
   "file_extension": ".py",
   "mimetype": "text/x-python",
   "name": "python",
   "nbconvert_exporter": "python",
   "pygments_lexer": "ipython3",
   "version": "3.12.7"
  }
 },
 "nbformat": 4,
 "nbformat_minor": 2
}
