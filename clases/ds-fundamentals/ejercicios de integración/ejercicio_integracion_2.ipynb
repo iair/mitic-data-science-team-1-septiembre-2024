{
 "cells": [
  {
   "cell_type": "markdown",
   "metadata": {},
   "source": [
    "1. Cargar y explorar un archivo JSON"
   ]
  },
  {
   "cell_type": "code",
   "execution_count": 1,
   "metadata": {},
   "outputs": [
    {
     "data": {
      "text/plain": [
       "puntuacion_0          float64\n",
       "id_participante        object\n",
       "nombre                 object\n",
       "intentos               object\n",
       "tiempo_total_horas     object\n",
       "dtype: object"
      ]
     },
     "execution_count": 1,
     "metadata": {},
     "output_type": "execute_result"
    }
   ],
   "source": [
    "import pandas as pd\n",
    "import json\n",
    "path = r'C:\\Users\\Diego\\Documents\\GitHub\\mitic-data-science-team-1-septiembre-2024\\clases\\ds-fundamentals\\data\\ejercicios_integracion\\competencia_kaggle.json'\n",
    "\n",
    "# 1. Cargar el archivo JSON\n",
    "with open(path, 'r') as file:\n",
    "    data = json.load(file)\n",
    "\n",
    "# Convertir los datos JSON a un DataFrame\n",
    "df = pd.json_normalize(data, 'puntuaciones', ['id_participante', 'nombre', 'intentos', 'tiempo_total_horas'], record_prefix='puntuacion_')\n",
    "df.head(6)\n",
    "df.dtypes"
   ]
  },
  {
   "cell_type": "code",
   "execution_count": 2,
   "metadata": {},
   "outputs": [],
   "source": [
    "#Convertir intentos y tiempo total a valores numericos\n",
    "df['intentos'] = pd.to_numeric(df['intentos'], errors='coerce')\n",
    "df['tiempo_total_horas'] = pd.to_numeric(df['tiempo_total_horas'], errors='coerce')"
   ]
  },
  {
   "cell_type": "markdown",
   "metadata": {},
   "source": [
    "2. Identificar y manejar datos nulos."
   ]
  },
  {
   "cell_type": "code",
   "execution_count": 3,
   "metadata": {},
   "outputs": [
    {
     "data": {
      "text/html": [
       "<div>\n",
       "<style scoped>\n",
       "    .dataframe tbody tr th:only-of-type {\n",
       "        vertical-align: middle;\n",
       "    }\n",
       "\n",
       "    .dataframe tbody tr th {\n",
       "        vertical-align: top;\n",
       "    }\n",
       "\n",
       "    .dataframe thead th {\n",
       "        text-align: right;\n",
       "    }\n",
       "</style>\n",
       "<table border=\"1\" class=\"dataframe\">\n",
       "  <thead>\n",
       "    <tr style=\"text-align: right;\">\n",
       "      <th></th>\n",
       "      <th>puntuacion_0</th>\n",
       "      <th>id_participante</th>\n",
       "      <th>nombre</th>\n",
       "      <th>intentos</th>\n",
       "      <th>tiempo_total_horas</th>\n",
       "    </tr>\n",
       "  </thead>\n",
       "  <tbody>\n",
       "    <tr>\n",
       "      <th>0</th>\n",
       "      <td>80.00</td>\n",
       "      <td>1</td>\n",
       "      <td>Participante_A</td>\n",
       "      <td>5</td>\n",
       "      <td>12.0</td>\n",
       "    </tr>\n",
       "    <tr>\n",
       "      <th>1</th>\n",
       "      <td>85.00</td>\n",
       "      <td>1</td>\n",
       "      <td>Participante_A</td>\n",
       "      <td>5</td>\n",
       "      <td>12.0</td>\n",
       "    </tr>\n",
       "    <tr>\n",
       "      <th>2</th>\n",
       "      <td>90.00</td>\n",
       "      <td>1</td>\n",
       "      <td>Participante_A</td>\n",
       "      <td>5</td>\n",
       "      <td>12.0</td>\n",
       "    </tr>\n",
       "    <tr>\n",
       "      <th>3</th>\n",
       "      <td>88.00</td>\n",
       "      <td>1</td>\n",
       "      <td>Participante_A</td>\n",
       "      <td>5</td>\n",
       "      <td>12.0</td>\n",
       "    </tr>\n",
       "    <tr>\n",
       "      <th>4</th>\n",
       "      <td>85.75</td>\n",
       "      <td>1</td>\n",
       "      <td>Participante_A</td>\n",
       "      <td>5</td>\n",
       "      <td>12.0</td>\n",
       "    </tr>\n",
       "  </tbody>\n",
       "</table>\n",
       "</div>"
      ],
      "text/plain": [
       "   puntuacion_0 id_participante          nombre  intentos  tiempo_total_horas\n",
       "0         80.00               1  Participante_A         5                12.0\n",
       "1         85.00               1  Participante_A         5                12.0\n",
       "2         90.00               1  Participante_A         5                12.0\n",
       "3         88.00               1  Participante_A         5                12.0\n",
       "4         85.75               1  Participante_A         5                12.0"
      ]
     },
     "execution_count": 3,
     "metadata": {},
     "output_type": "execute_result"
    }
   ],
   "source": [
    "\n",
    "# Cambiar NaN en Puntuacion con el promedio de puntuaciones por participante\n",
    "df['puntuacion_0'] = df.groupby('id_participante')['puntuacion_0'].transform(lambda x: x.fillna(x.mean()))\n",
    "\n",
    "# Cambiar por el NaN por el promedio de horas total.\n",
    "df.fillna({'tiempo_total_horas': df['tiempo_total_horas'].mean()})\n",
    "\n",
    "df.head()"
   ]
  },
  {
   "cell_type": "markdown",
   "metadata": {},
   "source": [
    "3. Calcular estadísticas descriptivas (promedios, máximos, mínimos, etc.) para el número de intentos, el tiempo invertido y las puntuaciones."
   ]
  },
  {
   "cell_type": "code",
   "execution_count": 4,
   "metadata": {},
   "outputs": [
    {
     "name": "stdout",
     "output_type": "stream",
     "text": [
      "Estadísticas de intentos:\n",
      " count    20.000000\n",
      "mean      4.500000\n",
      "std       1.357242\n",
      "min       2.000000\n",
      "25%       3.750000\n",
      "50%       5.000000\n",
      "75%       6.000000\n",
      "max       6.000000\n",
      "Name: intentos, dtype: float64\n",
      "Estadísticas de tiempo total:\n",
      " count    17.000000\n",
      "mean     11.411765\n",
      "std       2.873561\n",
      "min       5.000000\n",
      "25%      10.000000\n",
      "50%      12.000000\n",
      "75%      14.000000\n",
      "max      14.000000\n",
      "Name: tiempo_total_horas, dtype: float64\n",
      "Estadísticas de puntuaciones:\n",
      " count    20.000000\n",
      "mean     80.837500\n",
      "std       9.581807\n",
      "min      60.000000\n",
      "25%      77.250000\n",
      "50%      81.625000\n",
      "75%      86.312500\n",
      "max      95.000000\n",
      "Name: puntuacion_0, dtype: float64\n"
     ]
    }
   ],
   "source": [
    "print(\"Estadísticas de intentos:\\n\", df['intentos'].describe())\n",
    "print(\"Estadísticas de tiempo total:\\n\", df['tiempo_total_horas'].describe())\n",
    "print(\"Estadísticas de puntuaciones:\\n\", df['puntuacion_0'].describe())\n"
   ]
  },
  {
   "cell_type": "markdown",
   "metadata": {},
   "source": [
    "4. Aplicar condicionales y operadores matemáticos para evaluar el rendimiento de los participantes (e.g., calcular el promedio de puntuaciones por intento)."
   ]
  },
  {
   "cell_type": "code",
   "execution_count": 5,
   "metadata": {},
   "outputs": [],
   "source": [
    "\n",
    "df['promedio_por_intento'] = df.groupby('id_participante')['puntuacion_0'].transform('mean')\n",
    "\n",
    "# 6. Resumen del rendimiento por participante\n",
    "rendimiento_participantes = df.groupby(['id_participante', 'nombre']).agg(\n",
    "    intentos=('intentos', 'first'),\n",
    "    tiempo_total_horas=('tiempo_total_horas', 'first'),\n",
    "    promedio_puntuacion=('promedio_por_intento', 'mean')\n",
    ").reset_index()\n",
    "\n"
   ]
  },
  {
   "cell_type": "markdown",
   "metadata": {},
   "source": [
    "5. Guardar el conjunto de datos limpio en un nuevo archivo JSON."
   ]
  },
  {
   "cell_type": "code",
   "execution_count": 6,
   "metadata": {},
   "outputs": [
    {
     "name": "stdout",
     "output_type": "stream",
     "text": [
      "\n",
      "Archivo JSON con el rendimiento de los participantes guardado en: C:\\Users\\Diego\\Documents\\GitHub\\mitic-data-science-team-1-septiembre-2024\\clases\\ds-fundamentals\\data\\ejercicios_integracion\\competencia_kaggle_limpio.json\n"
     ]
    }
   ],
   "source": [
    "# 7. Guardar el DataFrame limpio y resumido en un nuevo archivo JSON\n",
    "output_path = r\"C:\\Users\\Diego\\Documents\\GitHub\\mitic-data-science-team-1-septiembre-2024\\clases\\ds-fundamentals\\data\\ejercicios_integracion\\competencia_kaggle_limpio.json\"\n",
    "rendimiento_participantes.to_json(output_path, orient='records', lines=True)\n",
    "\n",
    "\n",
    "print(f\"\\nArchivo JSON con el rendimiento de los participantes guardado en: {output_path}\")"
   ]
  }
 ],
 "metadata": {
  "kernelspec": {
   "display_name": "Python 3",
   "language": "python",
   "name": "python3"
  },
  "language_info": {
   "codemirror_mode": {
    "name": "ipython",
    "version": 3
   },
   "file_extension": ".py",
   "mimetype": "text/x-python",
   "name": "python",
   "nbconvert_exporter": "python",
   "pygments_lexer": "ipython3",
   "version": "3.12.7"
  }
 },
 "nbformat": 4,
 "nbformat_minor": 2
}
