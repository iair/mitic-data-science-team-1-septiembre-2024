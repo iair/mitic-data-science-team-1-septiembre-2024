{
 "cells": [
  {
   "cell_type": "markdown",
   "metadata": {},
   "source": [
    "#Ejercitario 2 semana 3\n",
    "Annia Benítez"
   ]
  },
  {
   "cell_type": "markdown",
   "metadata": {},
   "source": [
    "primeramente obtener todo"
   ]
  },
  {
   "cell_type": "code",
   "execution_count": 2,
   "metadata": {},
   "outputs": [
    {
     "name": "stdout",
     "output_type": "stream",
     "text": [
      "    GAME_ID     TEAM_ID TEAM_ABBREVIATION    TEAM_CITY  PLAYER_ID  \\\n",
      "0  22200477  1610612759               SAS  San Antonio    1629641   \n",
      "1  22200477  1610612759               SAS  San Antonio    1631110   \n",
      "2  22200477  1610612759               SAS  San Antonio    1627751   \n",
      "3  22200477  1610612759               SAS  San Antonio    1630170   \n",
      "4  22200477  1610612759               SAS  San Antonio    1630200   \n",
      "\n",
      "      PLAYER_NAME NICKNAME START_POSITION COMMENT    MIN  ...  OREB  DREB  \\\n",
      "0  Romeo Langford    Romeo              F     NaN  18:06  ...   1.0   1.0   \n",
      "1   Jeremy Sochan   Jeremy              F     NaN  31:01  ...   6.0   3.0   \n",
      "2    Jakob Poeltl    Jakob              C     NaN  21:42  ...   1.0   3.0   \n",
      "3   Devin Vassell    Devin              G     NaN  30:20  ...   0.0   9.0   \n",
      "4       Tre Jones      Tre              G     NaN  27:44  ...   0.0   2.0   \n",
      "\n",
      "   REB  AST  STL  BLK   TO   PF   PTS  PLUS_MINUS  \n",
      "0  2.0  0.0  1.0  0.0  2.0  5.0   2.0        -2.0  \n",
      "1  9.0  6.0  1.0  0.0  2.0  1.0  23.0       -14.0  \n",
      "2  4.0  1.0  1.0  0.0  2.0  4.0  13.0        -4.0  \n",
      "3  9.0  5.0  3.0  0.0  2.0  1.0  10.0       -18.0  \n",
      "4  2.0  3.0  0.0  0.0  2.0  2.0  19.0         0.0  \n",
      "\n",
      "[5 rows x 29 columns]\n"
     ]
    },
    {
     "name": "stderr",
     "output_type": "stream",
     "text": [
      "C:\\Users\\annia\\AppData\\Local\\Temp\\ipykernel_37832\\1818804923.py:9: DtypeWarning: Columns (6) have mixed types. Specify dtype option on import or set low_memory=False.\n",
      "  df = pd.read_csv(path)\n"
     ]
    }
   ],
   "source": [
    "import pandas as pd\n",
    "import numpy as np\n",
    "import json\n",
    "\n",
    "# Reemplaza 'ruta/del/archivo.csv' con la ruta de tu archivo CSV\n",
    "path = '../data/nba/games_details.csv'\n",
    "\n",
    "# Carga el archivo CSV en un DataFrame\n",
    "df = pd.read_csv(path)\n",
    "\n",
    "# Muestra las primeras filas del DataFrame para verificar que se haya importado correctamente\n",
    "print(df.head())\n"
   ]
  },
  {
   "cell_type": "markdown",
   "metadata": {},
   "source": [
    "Limpieza de datos"
   ]
  },
  {
   "cell_type": "code",
   "execution_count": 12,
   "metadata": {},
   "outputs": [
    {
     "name": "stdout",
     "output_type": "stream",
     "text": [
      "Valores nulos por columna:\n",
      "PTS                  109690\n",
      "AST                  109690\n",
      "REB                  109690\n",
      "PLAYER_NAME               0\n",
      "TEAM_ABBREVIATION         0\n",
      "START_POSITION       412863\n",
      "dtype: int64\n"
     ]
    }
   ],
   "source": [
    "columnas_validar = ['PTS', 'AST', 'REB', 'PLAYER_NAME', 'TEAM_ABBREVIATION', 'START_POSITION']\n",
    "\n",
    "valores_nulos = df[columnas_validar].isnull().sum()\n",
    "print(\"Valores nulos por columna:\")\n",
    "print(valores_nulos)"
   ]
  },
  {
   "cell_type": "markdown",
   "metadata": {},
   "source": [
    "1. Agrupar los datos por equipo y posición"
   ]
  },
  {
   "cell_type": "code",
   "execution_count": null,
   "metadata": {},
   "outputs": [],
   "source": [
    "agrupacion = df.groupby(['TEAM_ABBREVIATION', 'START_POSITION']).sum()\n",
    "agrupacion.head()"
   ]
  },
  {
   "cell_type": "markdown",
   "metadata": {},
   "source": [
    "2. Calcular la eficiencia de los jugadores ( suma de puntos (PTS), asistencias (AST) y rebotes por juego(TRB) )"
   ]
  },
  {
   "cell_type": "code",
   "execution_count": 16,
   "metadata": {},
   "outputs": [
    {
     "name": "stdout",
     "output_type": "stream",
     "text": [
      "     TEAM_ABBREVIATION START_POSITION       PLAYER_NAME  Eficiencia Promedio\n",
      "0                  ATL              C        Al Horford            25.478485\n",
      "1                  ATL              C          Alex Len            17.775510\n",
      "2                  ATL              C    Antoine Walker            37.500000\n",
      "3                  ATL              C        Boris Diaw            12.000000\n",
      "4                  ATL              C    Bruno Fernando            10.666667\n",
      "...                ...            ...               ...                  ...\n",
      "5374               WAS              G  Tomas Satoransky            20.943820\n",
      "5375               WAS              G      Trevor Ariza            23.555556\n",
      "5376               WAS              G        Trey Burke            16.000000\n",
      "5377               WAS              G    Troy Brown Jr.            26.090909\n",
      "5378               WAS              G       Will Barton            16.500000\n",
      "\n",
      "[5379 rows x 4 columns]\n"
     ]
    },
    {
     "name": "stderr",
     "output_type": "stream",
     "text": [
      "C:\\Users\\annia\\AppData\\Local\\Temp\\ipykernel_37832\\2536538643.py:3: DeprecationWarning: DataFrameGroupBy.apply operated on the grouping columns. This behavior is deprecated, and in a future version of pandas the grouping columns will be excluded from the operation. Either pass `include_groups=False` to exclude the groupings or explicitly select the grouping columns after groupby to silence this warning.\n",
      "  eficiencia_por_jugador_equipo_posicion = df.groupby(['TEAM_ABBREVIATION', 'START_POSITION', 'PLAYER_NAME']).apply(\n"
     ]
    }
   ],
   "source": [
    "df['Eficiencia'] = df['PTS'] + df['AST'] + df['REB']\n",
    "# Agrupar por equipo, posición y jugador, y calcular la eficiencia promedio\n",
    "eficiencia_por_jugador_equipo_posicion = df.groupby(['TEAM_ABBREVIATION', 'START_POSITION', 'PLAYER_NAME']).apply(\n",
    "    lambda x: pd.Series({\n",
    "        'Eficiencia Promedio': x['Eficiencia'].mean()\n",
    "    })\n",
    ").reset_index()\n",
    "\n",
    "# Mostrar el resultado\n",
    "print(eficiencia_por_jugador_equipo_posicion)\n"
   ]
  },
  {
   "cell_type": "markdown",
   "metadata": {},
   "source": [
    "3. Identificar al jugador más eficiente por equipo"
   ]
  },
  {
   "cell_type": "code",
   "execution_count": 24,
   "metadata": {},
   "outputs": [
    {
     "name": "stdout",
     "output_type": "stream",
     "text": [
      "El jugador más eficiente es:        PLAYER_NAME  Eficiencia\n",
      "1593  LeBron James     72257.0\n",
      "    TEAM_ABBREVIATION START_POSITION         PLAYER_NAME  Eficiencia\n",
      "0                 ATL              C        Clint Capela        55.0\n",
      "1                 ATL              F        Paul Millsap        63.0\n",
      "2                 ATL              G          Trae Young        74.0\n",
      "3                 BKN              C         Brook Lopez        52.0\n",
      "4                 BKN              F        Kevin Durant        76.0\n",
      "..                ...            ...                 ...         ...\n",
      "97                UTA              F       Carlos Boozer        59.0\n",
      "98                UTA              G    Donovan Mitchell        73.0\n",
      "99                WAS              C  Kristaps Porzingis        50.0\n",
      "100               WAS              F      Andray Blatche        59.0\n",
      "101               WAS              G      Gilbert Arenas        76.0\n",
      "\n",
      "[102 rows x 4 columns]\n"
     ]
    },
    {
     "name": "stderr",
     "output_type": "stream",
     "text": [
      "C:\\Users\\annia\\AppData\\Local\\Temp\\ipykernel_37832\\2703643024.py:4: DeprecationWarning: DataFrameGroupBy.apply operated on the grouping columns. This behavior is deprecated, and in a future version of pandas the grouping columns will be excluded from the operation. Either pass `include_groups=False` to exclude the groupings or explicitly select the grouping columns after groupby to silence this warning.\n",
      "  jugador_mas_eficiente = df.groupby(['TEAM_ABBREVIATION', 'START_POSITION']).apply(\n"
     ]
    }
   ],
   "source": [
    "jugador_mas_eficiente = eficiencia_acumulada.sort_values(by='Eficiencia', ascending=False).head(1)\n",
    "print(\"El jugador más eficiente es: \" + str(jugador_mas_eficiente))\n",
    "\n",
    "jugador_mas_eficiente = df.groupby(['TEAM_ABBREVIATION', 'START_POSITION']).apply(\n",
    "    lambda x: x.loc[x['Eficiencia'].idxmax(), ['PLAYER_NAME', 'Eficiencia']]\n",
    ").reset_index()\n",
    "\n",
    "print(jugador_mas_eficiente)"
   ]
  }
 ],
 "metadata": {
  "kernelspec": {
   "display_name": "Python 3",
   "language": "python",
   "name": "python3"
  },
  "language_info": {
   "codemirror_mode": {
    "name": "ipython",
    "version": 3
   },
   "file_extension": ".py",
   "mimetype": "text/x-python",
   "name": "python",
   "nbconvert_exporter": "python",
   "pygments_lexer": "ipython3",
   "version": "3.12.6"
  }
 },
 "nbformat": 4,
 "nbformat_minor": 2
}
