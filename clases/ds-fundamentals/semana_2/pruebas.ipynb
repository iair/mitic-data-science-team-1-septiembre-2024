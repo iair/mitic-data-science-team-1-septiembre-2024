{
 "cells": [
  {
   "cell_type": "code",
   "execution_count": 2,
   "metadata": {},
   "outputs": [
    {
     "name": "stdout",
     "output_type": "stream",
     "text": [
      "Primeras 10 filas del DataFrame:\n",
      "                                             weather      base  visibility  \\\n",
      "0  [{'id': 804, 'main': 'Clouds', 'description': ...  stations       10000   \n",
      "\n",
      "           dt  timezone       id    name  cod  coord.lon  coord.lat  ...  \\\n",
      "0  1728949596      3600  2643743  London  200    -0.1257    51.5085  ...   \n",
      "\n",
      "   main.sea_level  main.grnd_level  wind.speed  wind.deg  clouds.all  \\\n",
      "0            1017             1013         3.6       110         100   \n",
      "\n",
      "   sys.type   sys.id  sys.country  sys.sunrise  sys.sunset  \n",
      "0         2  2075535           GB   1728973487  1729012037  \n",
      "\n",
      "[1 rows x 26 columns]\n"
     ]
    }
   ],
   "source": [
    "import pandas as pd\n",
    "import requests\n",
    "\n",
    "# Paso 2: Obtener los Datos\n",
    "api_key = '0c5f7e05b3ad5791b779a43174d7a33e'\n",
    "url = f'http://api.openweathermap.org/data/2.5/weather?q=London&appid={api_key}&units=metric'\n",
    "response = requests.get(url)\n",
    "data = response.json()\n",
    "\n",
    "# Crear un DataFrame a partir de los datos JSON\n",
    "df = pd.json_normalize(data)\n",
    "print(\"Primeras 10 filas del DataFrame:\")\n",
    "print(df.head(10))"
   ]
  }
 ],
 "metadata": {
  "kernelspec": {
   "display_name": "Python 3",
   "language": "python",
   "name": "python3"
  },
  "language_info": {
   "codemirror_mode": {
    "name": "ipython",
    "version": 3
   },
   "file_extension": ".py",
   "mimetype": "text/x-python",
   "name": "python",
   "nbconvert_exporter": "python",
   "pygments_lexer": "ipython3",
   "version": "3.13.0"
  }
 },
 "nbformat": 4,
 "nbformat_minor": 2
}
