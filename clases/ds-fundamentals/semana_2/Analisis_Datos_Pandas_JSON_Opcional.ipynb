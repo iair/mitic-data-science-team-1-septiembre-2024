{
 "cells": [
  {
   "cell_type": "code",
   "execution_count": 2,
   "metadata": {},
   "outputs": [],
   "source": [
    "import pandas as pd\n",
    "import requests\n",
    "\n",
    "# Paso 2: Obtener los Datos\n",
    "api_key = '0c5f7e05b3ad5791b779a43174d7a33e'\n",
    "ciudad = 'Asunción'\n",
    "url = f'http://api.openweathermap.org/data/2.5/weather?q={ciudad}&appid={api_key}&units=metric'\n",
    "response = requests.get(url)\n",
    "data = response.json()\n"
   ]
  },
  {
   "cell_type": "code",
   "execution_count": 3,
   "metadata": {},
   "outputs": [
    {
     "name": "stdout",
     "output_type": "stream",
     "text": [
      "Primeras 10 filas del DataFrame:\n",
      "                                             weather      base  visibility  \\\n",
      "0  [{'id': 803, 'main': 'Clouds', 'description': ...  stations       10000   \n",
      "\n",
      "           dt  timezone       id      name  cod  coord.lon  coord.lat  ...  \\\n",
      "0  1728949889    -10800  3439389  Asunción  200   -57.6359   -25.3007  ...   \n",
      "\n",
      "   main.sea_level  main.grnd_level  wind.speed  wind.deg  clouds.all  \\\n",
      "0            1011             1001        3.09       100          75   \n",
      "\n",
      "   sys.type  sys.id  sys.country  sys.sunrise  sys.sunset  \n",
      "0         1    8575           PY   1728897396  1728942956  \n",
      "\n",
      "[1 rows x 26 columns]\n"
     ]
    }
   ],
   "source": [
    "# Crear un DataFrame a partir de los datos JSON\n",
    "df = pd.json_normalize(data)\n",
    "print(\"Primeras 10 filas del DataFrame:\")\n",
    "print(df.head(10))"
   ]
  },
  {
   "cell_type": "code",
   "execution_count": 4,
   "metadata": {},
   "outputs": [],
   "source": [
    "# Ahora vamos a concatenar los datos de otras ciudades.\n",
    "# Iterar por cada capital\n",
    "capitales = [\n",
    "    \"Ciudad de México\", \"Washington, D.C.\", \"Ottawa\", \"La Habana\", \"Santo Domingo\",\n",
    "    \"Buenos Aires\", \"Brasilia\", \"Santiago\", \"Lima\", \n",
    "    \"París\", \"Londres\", \"Berlín\", \"Roma\", \"Madrid\",\n",
    "    \"Tokio\", \"Pekín\", \"Nueva Delhi\", \"Seúl\", \"Bangkok\",\n",
    "    \"Canberra\", \"Wellington\", \"Suva\", \"Port Moresby\", \"Apia\"\n",
    "]\n",
    "for capital in capitales:\n",
    "    ciudad = capital\n",
    "    try:\n",
    "        # Realizar la llamada al servicio web (reemplaza 'YOUR_API_URL' por la URL del servicio)\n",
    "        response = requests.get(url)  # Agrega tu API_KEY si es necesario\n",
    "        \n",
    "        # Verificar si la respuesta fue exitosa\n",
    "        if response.status_code == 200:\n",
    "            # Convertir la respuesta JSON a un DataFrame (ajusta según la estructura del JSON)\n",
    "            data = response.json()\n",
    "            \n",
    "            # Convertir el JSON en un DataFrame de una sola fila, asegurando que los subcampos se aplanen\n",
    "            df_capital = pd.json_normalize(data)\n",
    "            \n",
    "            # Agregar la capital al DataFrame para tener un registro de la ciudad\n",
    "            df_capital['name'] = capital\n",
    "            \n",
    "            # Concatenar el DataFrame con el general\n",
    "            df = pd.concat([df, df_capital], ignore_index=True)\n",
    "        \n",
    "        else:\n",
    "            print(f\"Error al consultar {capital}: {response.status_code}\")\n",
    "    \n",
    "    except Exception as e:\n",
    "        print(f\"Error en la ciudad {capital}: {e}\")\n",
    "\n"
   ]
  },
  {
   "cell_type": "code",
   "execution_count": 5,
   "metadata": {},
   "outputs": [
    {
     "name": "stdout",
     "output_type": "stream",
     "text": [
      "Primeras 10 filas del DataFrame:\n",
      "                                             weather      base  visibility  \\\n",
      "0  [{'id': 803, 'main': 'Clouds', 'description': ...  stations       10000   \n",
      "1  [{'id': 803, 'main': 'Clouds', 'description': ...  stations       10000   \n",
      "2  [{'id': 803, 'main': 'Clouds', 'description': ...  stations       10000   \n",
      "3  [{'id': 803, 'main': 'Clouds', 'description': ...  stations       10000   \n",
      "4  [{'id': 803, 'main': 'Clouds', 'description': ...  stations       10000   \n",
      "5  [{'id': 803, 'main': 'Clouds', 'description': ...  stations       10000   \n",
      "6  [{'id': 803, 'main': 'Clouds', 'description': ...  stations       10000   \n",
      "7  [{'id': 803, 'main': 'Clouds', 'description': ...  stations       10000   \n",
      "8  [{'id': 803, 'main': 'Clouds', 'description': ...  stations       10000   \n",
      "9  [{'id': 803, 'main': 'Clouds', 'description': ...  stations       10000   \n",
      "\n",
      "           dt  timezone       id              name  cod  coord.lon  coord.lat  \\\n",
      "0  1728949889    -10800  3439389          Asunción  200   -57.6359   -25.3007   \n",
      "1  1728949889    -10800  3439389  Ciudad de México  200   -57.6359   -25.3007   \n",
      "2  1728949889    -10800  3439389  Washington, D.C.  200   -57.6359   -25.3007   \n",
      "3  1728949889    -10800  3439389            Ottawa  200   -57.6359   -25.3007   \n",
      "4  1728949889    -10800  3439389         La Habana  200   -57.6359   -25.3007   \n",
      "5  1728949889    -10800  3439389     Santo Domingo  200   -57.6359   -25.3007   \n",
      "6  1728949889    -10800  3439389      Buenos Aires  200   -57.6359   -25.3007   \n",
      "7  1728949889    -10800  3439389          Brasilia  200   -57.6359   -25.3007   \n",
      "8  1728949889    -10800  3439389          Santiago  200   -57.6359   -25.3007   \n",
      "9  1728949889    -10800  3439389              Lima  200   -57.6359   -25.3007   \n",
      "\n",
      "   ...  main.sea_level  main.grnd_level  wind.speed  wind.deg  clouds.all  \\\n",
      "0  ...            1011             1001        3.09       100          75   \n",
      "1  ...            1011             1001        3.09       100          75   \n",
      "2  ...            1011             1001        3.09       100          75   \n",
      "3  ...            1011             1001        3.09       100          75   \n",
      "4  ...            1011             1001        3.09       100          75   \n",
      "5  ...            1011             1001        3.09       100          75   \n",
      "6  ...            1011             1001        3.09       100          75   \n",
      "7  ...            1011             1001        3.09       100          75   \n",
      "8  ...            1011             1001        3.09       100          75   \n",
      "9  ...            1011             1001        3.09       100          75   \n",
      "\n",
      "   sys.type  sys.id  sys.country  sys.sunrise  sys.sunset  \n",
      "0         1    8575           PY   1728897396  1728942956  \n",
      "1         1    8575           PY   1728897396  1728942956  \n",
      "2         1    8575           PY   1728897396  1728942956  \n",
      "3         1    8575           PY   1728897396  1728942956  \n",
      "4         1    8575           PY   1728897396  1728942956  \n",
      "5         1    8575           PY   1728897396  1728942956  \n",
      "6         1    8575           PY   1728897396  1728942956  \n",
      "7         1    8575           PY   1728897396  1728942956  \n",
      "8         1    8575           PY   1728897396  1728942956  \n",
      "9         1    8575           PY   1728897396  1728942956  \n",
      "\n",
      "[10 rows x 26 columns]\n"
     ]
    }
   ],
   "source": [
    "print(\"Primeras 10 filas del DataFrame:\")\n",
    "print(df.head(10))"
   ]
  },
  {
   "cell_type": "code",
   "execution_count": 6,
   "metadata": {},
   "outputs": [
    {
     "name": "stdout",
     "output_type": "stream",
     "text": [
      "nÚltimas 5 filas del DataFrame:\n",
      "                                              weather      base  visibility  \\\n",
      "20  [{'id': 803, 'main': 'Clouds', 'description': ...  stations       10000   \n",
      "21  [{'id': 803, 'main': 'Clouds', 'description': ...  stations       10000   \n",
      "22  [{'id': 803, 'main': 'Clouds', 'description': ...  stations       10000   \n",
      "23  [{'id': 803, 'main': 'Clouds', 'description': ...  stations       10000   \n",
      "24  [{'id': 803, 'main': 'Clouds', 'description': ...  stations       10000   \n",
      "\n",
      "            dt  timezone       id          name  cod  coord.lon  coord.lat  \\\n",
      "20  1728949889    -10800  3439389      Canberra  200   -57.6359   -25.3007   \n",
      "21  1728949889    -10800  3439389    Wellington  200   -57.6359   -25.3007   \n",
      "22  1728949889    -10800  3439389          Suva  200   -57.6359   -25.3007   \n",
      "23  1728949889    -10800  3439389  Port Moresby  200   -57.6359   -25.3007   \n",
      "24  1728949889    -10800  3439389          Apia  200   -57.6359   -25.3007   \n",
      "\n",
      "    ...  main.sea_level  main.grnd_level  wind.speed  wind.deg  clouds.all  \\\n",
      "20  ...            1011             1001        3.09       100          75   \n",
      "21  ...            1011             1001        3.09       100          75   \n",
      "22  ...            1011             1001        3.09       100          75   \n",
      "23  ...            1011             1001        3.09       100          75   \n",
      "24  ...            1011             1001        3.09       100          75   \n",
      "\n",
      "    sys.type  sys.id  sys.country  sys.sunrise  sys.sunset  \n",
      "20         1    8575           PY   1728897396  1728942956  \n",
      "21         1    8575           PY   1728897396  1728942956  \n",
      "22         1    8575           PY   1728897396  1728942956  \n",
      "23         1    8575           PY   1728897396  1728942956  \n",
      "24         1    8575           PY   1728897396  1728942956  \n",
      "\n",
      "[5 rows x 26 columns]\n"
     ]
    }
   ],
   "source": [
    "# Paso 3: Exploración Inicial de los Datos\n",
    "print(\"nÚltimas 5 filas del DataFrame:\")\n",
    "print(df.tail(5))"
   ]
  },
  {
   "cell_type": "code",
   "execution_count": 7,
   "metadata": {},
   "outputs": [
    {
     "name": "stdout",
     "output_type": "stream",
     "text": [
      "nInformación del DataFrame:\n",
      "<class 'pandas.core.frame.DataFrame'>\n",
      "RangeIndex: 25 entries, 0 to 24\n",
      "Data columns (total 26 columns):\n",
      " #   Column           Non-Null Count  Dtype  \n",
      "---  ------           --------------  -----  \n",
      " 0   weather          25 non-null     object \n",
      " 1   base             25 non-null     object \n",
      " 2   visibility       25 non-null     int64  \n",
      " 3   dt               25 non-null     int64  \n",
      " 4   timezone         25 non-null     int64  \n",
      " 5   id               25 non-null     int64  \n",
      " 6   name             25 non-null     object \n",
      " 7   cod              25 non-null     int64  \n",
      " 8   coord.lon        25 non-null     float64\n",
      " 9   coord.lat        25 non-null     float64\n",
      " 10  main.temp        25 non-null     float64\n",
      " 11  main.feels_like  25 non-null     float64\n",
      " 12  main.temp_min    25 non-null     float64\n",
      " 13  main.temp_max    25 non-null     float64\n",
      " 14  main.pressure    25 non-null     int64  \n",
      " 15  main.humidity    25 non-null     int64  \n",
      " 16  main.sea_level   25 non-null     int64  \n",
      " 17  main.grnd_level  25 non-null     int64  \n",
      " 18  wind.speed       25 non-null     float64\n",
      " 19  wind.deg         25 non-null     int64  \n",
      " 20  clouds.all       25 non-null     int64  \n",
      " 21  sys.type         25 non-null     int64  \n",
      " 22  sys.id           25 non-null     int64  \n",
      " 23  sys.country      25 non-null     object \n",
      " 24  sys.sunrise      25 non-null     int64  \n",
      " 25  sys.sunset       25 non-null     int64  \n",
      "dtypes: float64(7), int64(15), object(4)\n",
      "memory usage: 5.2+ KB\n",
      "None\n"
     ]
    }
   ],
   "source": [
    "print(\"nInformación del DataFrame:\")\n",
    "print(df.info())"
   ]
  },
  {
   "cell_type": "code",
   "execution_count": 8,
   "metadata": {},
   "outputs": [
    {
     "name": "stdout",
     "output_type": "stream",
     "text": [
      "nEstadísticas descriptivas del DataFrame:\n",
      "       visibility            dt  timezone         id    cod  coord.lon  \\\n",
      "count        25.0  2.500000e+01      25.0       25.0   25.0    25.0000   \n",
      "mean      10000.0  1.728950e+09  -10800.0  3439389.0  200.0   -57.6359   \n",
      "std           0.0  0.000000e+00       0.0        0.0    0.0     0.0000   \n",
      "min       10000.0  1.728950e+09  -10800.0  3439389.0  200.0   -57.6359   \n",
      "25%       10000.0  1.728950e+09  -10800.0  3439389.0  200.0   -57.6359   \n",
      "50%       10000.0  1.728950e+09  -10800.0  3439389.0  200.0   -57.6359   \n",
      "75%       10000.0  1.728950e+09  -10800.0  3439389.0  200.0   -57.6359   \n",
      "max       10000.0  1.728950e+09  -10800.0  3439389.0  200.0   -57.6359   \n",
      "\n",
      "          coord.lat     main.temp  main.feels_like  main.temp_min  ...  \\\n",
      "count  2.500000e+01  2.500000e+01     2.500000e+01   2.500000e+01  ...   \n",
      "mean  -2.530070e+01  2.269000e+01     2.318000e+01   2.269000e+01  ...   \n",
      "std    3.625973e-15  3.625973e-15     3.625973e-15   3.625973e-15  ...   \n",
      "min   -2.530070e+01  2.269000e+01     2.318000e+01   2.269000e+01  ...   \n",
      "25%   -2.530070e+01  2.269000e+01     2.318000e+01   2.269000e+01  ...   \n",
      "50%   -2.530070e+01  2.269000e+01     2.318000e+01   2.269000e+01  ...   \n",
      "75%   -2.530070e+01  2.269000e+01     2.318000e+01   2.269000e+01  ...   \n",
      "max   -2.530070e+01  2.269000e+01     2.318000e+01   2.269000e+01  ...   \n",
      "\n",
      "       main.humidity  main.sea_level  main.grnd_level  wind.speed  wind.deg  \\\n",
      "count           25.0            25.0             25.0       25.00      25.0   \n",
      "mean            83.0          1011.0           1001.0        3.09     100.0   \n",
      "std              0.0             0.0              0.0        0.00       0.0   \n",
      "min             83.0          1011.0           1001.0        3.09     100.0   \n",
      "25%             83.0          1011.0           1001.0        3.09     100.0   \n",
      "50%             83.0          1011.0           1001.0        3.09     100.0   \n",
      "75%             83.0          1011.0           1001.0        3.09     100.0   \n",
      "max             83.0          1011.0           1001.0        3.09     100.0   \n",
      "\n",
      "       clouds.all  sys.type  sys.id   sys.sunrise    sys.sunset  \n",
      "count        25.0      25.0    25.0  2.500000e+01  2.500000e+01  \n",
      "mean         75.0       1.0  8575.0  1.728897e+09  1.728943e+09  \n",
      "std           0.0       0.0     0.0  0.000000e+00  0.000000e+00  \n",
      "min          75.0       1.0  8575.0  1.728897e+09  1.728943e+09  \n",
      "25%          75.0       1.0  8575.0  1.728897e+09  1.728943e+09  \n",
      "50%          75.0       1.0  8575.0  1.728897e+09  1.728943e+09  \n",
      "75%          75.0       1.0  8575.0  1.728897e+09  1.728943e+09  \n",
      "max          75.0       1.0  8575.0  1.728897e+09  1.728943e+09  \n",
      "\n",
      "[8 rows x 22 columns]\n"
     ]
    }
   ],
   "source": [
    "print(\"nEstadísticas descriptivas del DataFrame:\")\n",
    "print(df.describe())"
   ]
  },
  {
   "cell_type": "code",
   "execution_count": 9,
   "metadata": {},
   "outputs": [
    {
     "name": "stdout",
     "output_type": "stream",
     "text": [
      "nTipos de datos de las columnas:\n",
      "weather             object\n",
      "base                object\n",
      "visibility           int64\n",
      "dt                   int64\n",
      "timezone             int64\n",
      "id                   int64\n",
      "name                object\n",
      "cod                  int64\n",
      "coord.lon          float64\n",
      "coord.lat          float64\n",
      "main.temp          float64\n",
      "main.feels_like    float64\n",
      "main.temp_min      float64\n",
      "main.temp_max      float64\n",
      "main.pressure        int64\n",
      "main.humidity        int64\n",
      "main.sea_level       int64\n",
      "main.grnd_level      int64\n",
      "wind.speed         float64\n",
      "wind.deg             int64\n",
      "clouds.all           int64\n",
      "sys.type             int64\n",
      "sys.id               int64\n",
      "sys.country         object\n",
      "sys.sunrise          int64\n",
      "sys.sunset           int64\n",
      "dtype: object\n"
     ]
    }
   ],
   "source": [
    "# Paso 4: Inspección de los Datos\n",
    "print(\"nTipos de datos de las columnas:\")\n",
    "print(df.dtypes)"
   ]
  },
  {
   "cell_type": "code",
   "execution_count": 19,
   "metadata": {},
   "outputs": [
    {
     "name": "stdout",
     "output_type": "stream",
     "text": [
      "nConteo de valores únicos en la columna 'weather.main':\n",
      "Clouds\n"
     ]
    }
   ],
   "source": [
    "print(\"nConteo de valores únicos en la columna 'weather.main':\")\n",
    "print(df['weather'][0][0]['main'])"
   ]
  },
  {
   "cell_type": "code",
   "execution_count": 20,
   "metadata": {},
   "outputs": [
    {
     "name": "stdout",
     "output_type": "stream",
     "text": [
      "nValores únicos en la columna 'name':\n",
      "['Asunción' 'Ciudad de México' 'Washington, D.C.' 'Ottawa' 'La Habana'\n",
      " 'Santo Domingo' 'Buenos Aires' 'Brasilia' 'Santiago' 'Lima' 'París'\n",
      " 'Londres' 'Berlín' 'Roma' 'Madrid' 'Tokio' 'Pekín' 'Nueva Delhi' 'Seúl'\n",
      " 'Bangkok' 'Canberra' 'Wellington' 'Suva' 'Port Moresby' 'Apia']\n"
     ]
    }
   ],
   "source": [
    "print(\"nValores únicos en la columna 'name':\")\n",
    "print(df['name'].unique())"
   ]
  },
  {
   "cell_type": "code",
   "execution_count": 12,
   "metadata": {},
   "outputs": [],
   "source": [
    "# Paso 5: Filtrado de Datos\n",
    "df['main.temp'] = df['main.temp'].astype(float)\n",
    "df['main.humidity'] = df['main.humidity'].astype(float)"
   ]
  },
  {
   "cell_type": "code",
   "execution_count": 13,
   "metadata": {},
   "outputs": [
    {
     "name": "stdout",
     "output_type": "stream",
     "text": [
      "nFilas donde la temperatura es mayor a 20 grados Celsius:\n",
      "                                              weather      base  visibility  \\\n",
      "0   [{'id': 803, 'main': 'Clouds', 'description': ...  stations       10000   \n",
      "1   [{'id': 803, 'main': 'Clouds', 'description': ...  stations       10000   \n",
      "2   [{'id': 803, 'main': 'Clouds', 'description': ...  stations       10000   \n",
      "3   [{'id': 803, 'main': 'Clouds', 'description': ...  stations       10000   \n",
      "4   [{'id': 803, 'main': 'Clouds', 'description': ...  stations       10000   \n",
      "5   [{'id': 803, 'main': 'Clouds', 'description': ...  stations       10000   \n",
      "6   [{'id': 803, 'main': 'Clouds', 'description': ...  stations       10000   \n",
      "7   [{'id': 803, 'main': 'Clouds', 'description': ...  stations       10000   \n",
      "8   [{'id': 803, 'main': 'Clouds', 'description': ...  stations       10000   \n",
      "9   [{'id': 803, 'main': 'Clouds', 'description': ...  stations       10000   \n",
      "10  [{'id': 803, 'main': 'Clouds', 'description': ...  stations       10000   \n",
      "11  [{'id': 803, 'main': 'Clouds', 'description': ...  stations       10000   \n",
      "12  [{'id': 803, 'main': 'Clouds', 'description': ...  stations       10000   \n",
      "13  [{'id': 803, 'main': 'Clouds', 'description': ...  stations       10000   \n",
      "14  [{'id': 803, 'main': 'Clouds', 'description': ...  stations       10000   \n",
      "15  [{'id': 803, 'main': 'Clouds', 'description': ...  stations       10000   \n",
      "16  [{'id': 803, 'main': 'Clouds', 'description': ...  stations       10000   \n",
      "17  [{'id': 803, 'main': 'Clouds', 'description': ...  stations       10000   \n",
      "18  [{'id': 803, 'main': 'Clouds', 'description': ...  stations       10000   \n",
      "19  [{'id': 803, 'main': 'Clouds', 'description': ...  stations       10000   \n",
      "20  [{'id': 803, 'main': 'Clouds', 'description': ...  stations       10000   \n",
      "21  [{'id': 803, 'main': 'Clouds', 'description': ...  stations       10000   \n",
      "22  [{'id': 803, 'main': 'Clouds', 'description': ...  stations       10000   \n",
      "23  [{'id': 803, 'main': 'Clouds', 'description': ...  stations       10000   \n",
      "24  [{'id': 803, 'main': 'Clouds', 'description': ...  stations       10000   \n",
      "\n",
      "            dt  timezone       id              name  cod  coord.lon  \\\n",
      "0   1728949889    -10800  3439389          Asunción  200   -57.6359   \n",
      "1   1728949889    -10800  3439389  Ciudad de México  200   -57.6359   \n",
      "2   1728949889    -10800  3439389  Washington, D.C.  200   -57.6359   \n",
      "3   1728949889    -10800  3439389            Ottawa  200   -57.6359   \n",
      "4   1728949889    -10800  3439389         La Habana  200   -57.6359   \n",
      "5   1728949889    -10800  3439389     Santo Domingo  200   -57.6359   \n",
      "6   1728949889    -10800  3439389      Buenos Aires  200   -57.6359   \n",
      "7   1728949889    -10800  3439389          Brasilia  200   -57.6359   \n",
      "8   1728949889    -10800  3439389          Santiago  200   -57.6359   \n",
      "9   1728949889    -10800  3439389              Lima  200   -57.6359   \n",
      "10  1728949889    -10800  3439389             París  200   -57.6359   \n",
      "11  1728949889    -10800  3439389           Londres  200   -57.6359   \n",
      "12  1728949889    -10800  3439389            Berlín  200   -57.6359   \n",
      "13  1728949889    -10800  3439389              Roma  200   -57.6359   \n",
      "14  1728949889    -10800  3439389            Madrid  200   -57.6359   \n",
      "15  1728949889    -10800  3439389             Tokio  200   -57.6359   \n",
      "16  1728949889    -10800  3439389             Pekín  200   -57.6359   \n",
      "17  1728949889    -10800  3439389       Nueva Delhi  200   -57.6359   \n",
      "18  1728949889    -10800  3439389              Seúl  200   -57.6359   \n",
      "19  1728949889    -10800  3439389           Bangkok  200   -57.6359   \n",
      "20  1728949889    -10800  3439389          Canberra  200   -57.6359   \n",
      "21  1728949889    -10800  3439389        Wellington  200   -57.6359   \n",
      "22  1728949889    -10800  3439389              Suva  200   -57.6359   \n",
      "23  1728949889    -10800  3439389      Port Moresby  200   -57.6359   \n",
      "24  1728949889    -10800  3439389              Apia  200   -57.6359   \n",
      "\n",
      "    coord.lat  ...  main.sea_level  main.grnd_level  wind.speed  wind.deg  \\\n",
      "0    -25.3007  ...            1011             1001        3.09       100   \n",
      "1    -25.3007  ...            1011             1001        3.09       100   \n",
      "2    -25.3007  ...            1011             1001        3.09       100   \n",
      "3    -25.3007  ...            1011             1001        3.09       100   \n",
      "4    -25.3007  ...            1011             1001        3.09       100   \n",
      "5    -25.3007  ...            1011             1001        3.09       100   \n",
      "6    -25.3007  ...            1011             1001        3.09       100   \n",
      "7    -25.3007  ...            1011             1001        3.09       100   \n",
      "8    -25.3007  ...            1011             1001        3.09       100   \n",
      "9    -25.3007  ...            1011             1001        3.09       100   \n",
      "10   -25.3007  ...            1011             1001        3.09       100   \n",
      "11   -25.3007  ...            1011             1001        3.09       100   \n",
      "12   -25.3007  ...            1011             1001        3.09       100   \n",
      "13   -25.3007  ...            1011             1001        3.09       100   \n",
      "14   -25.3007  ...            1011             1001        3.09       100   \n",
      "15   -25.3007  ...            1011             1001        3.09       100   \n",
      "16   -25.3007  ...            1011             1001        3.09       100   \n",
      "17   -25.3007  ...            1011             1001        3.09       100   \n",
      "18   -25.3007  ...            1011             1001        3.09       100   \n",
      "19   -25.3007  ...            1011             1001        3.09       100   \n",
      "20   -25.3007  ...            1011             1001        3.09       100   \n",
      "21   -25.3007  ...            1011             1001        3.09       100   \n",
      "22   -25.3007  ...            1011             1001        3.09       100   \n",
      "23   -25.3007  ...            1011             1001        3.09       100   \n",
      "24   -25.3007  ...            1011             1001        3.09       100   \n",
      "\n",
      "    clouds.all  sys.type  sys.id  sys.country  sys.sunrise  sys.sunset  \n",
      "0           75         1    8575           PY   1728897396  1728942956  \n",
      "1           75         1    8575           PY   1728897396  1728942956  \n",
      "2           75         1    8575           PY   1728897396  1728942956  \n",
      "3           75         1    8575           PY   1728897396  1728942956  \n",
      "4           75         1    8575           PY   1728897396  1728942956  \n",
      "5           75         1    8575           PY   1728897396  1728942956  \n",
      "6           75         1    8575           PY   1728897396  1728942956  \n",
      "7           75         1    8575           PY   1728897396  1728942956  \n",
      "8           75         1    8575           PY   1728897396  1728942956  \n",
      "9           75         1    8575           PY   1728897396  1728942956  \n",
      "10          75         1    8575           PY   1728897396  1728942956  \n",
      "11          75         1    8575           PY   1728897396  1728942956  \n",
      "12          75         1    8575           PY   1728897396  1728942956  \n",
      "13          75         1    8575           PY   1728897396  1728942956  \n",
      "14          75         1    8575           PY   1728897396  1728942956  \n",
      "15          75         1    8575           PY   1728897396  1728942956  \n",
      "16          75         1    8575           PY   1728897396  1728942956  \n",
      "17          75         1    8575           PY   1728897396  1728942956  \n",
      "18          75         1    8575           PY   1728897396  1728942956  \n",
      "19          75         1    8575           PY   1728897396  1728942956  \n",
      "20          75         1    8575           PY   1728897396  1728942956  \n",
      "21          75         1    8575           PY   1728897396  1728942956  \n",
      "22          75         1    8575           PY   1728897396  1728942956  \n",
      "23          75         1    8575           PY   1728897396  1728942956  \n",
      "24          75         1    8575           PY   1728897396  1728942956  \n",
      "\n",
      "[25 rows x 26 columns]\n"
     ]
    }
   ],
   "source": [
    "temp_mayor_20 = df[df['main.temp'] > 20]\n",
    "print(\"nFilas donde la temperatura es mayor a 20 grados Celsius:\")\n",
    "print(temp_mayor_20)"
   ]
  },
  {
   "cell_type": "code",
   "execution_count": 26,
   "metadata": {},
   "outputs": [
    {
     "name": "stdout",
     "output_type": "stream",
     "text": [
      "nFilas donde la humedad es menor a 50%:\n",
      "Empty DataFrame\n",
      "Columns: [weather, base, visibility, dt, timezone, id, name, cod, coord.lon, coord.lat, main.temp, main.feels_like, main.temp_min, main.temp_max, main.pressure, main.humidity, main.sea_level, main.grnd_level, wind.speed, wind.deg, clouds.all, sys.type, sys.id, sys.country, sys.sunrise, sys.sunset]\n",
      "Index: []\n",
      "\n",
      "[0 rows x 26 columns]\n"
     ]
    }
   ],
   "source": [
    "humedad_menor_50 = df[df['main.humidity'] < 50]\n",
    "print(\"nFilas donde la humedad es menor a 50%:\")\n",
    "print(humedad_menor_50)"
   ]
  },
  {
   "cell_type": "code",
   "execution_count": 27,
   "metadata": {},
   "outputs": [
    {
     "name": "stdout",
     "output_type": "stream",
     "text": [
      "nFilas donde la ciudad es 'London' y la temperatura es menor a 15 grados Celsius:\n",
      "Empty DataFrame\n",
      "Columns: [weather, base, visibility, dt, timezone, id, name, cod, coord.lon, coord.lat, main.temp, main.feels_like, main.temp_min, main.temp_max, main.pressure, main.humidity, main.sea_level, main.grnd_level, wind.speed, wind.deg, clouds.all, sys.type, sys.id, sys.country, sys.sunrise, sys.sunset]\n",
      "Index: []\n",
      "\n",
      "[0 rows x 26 columns]\n"
     ]
    }
   ],
   "source": [
    "query_result = df.query('name == \"Londres\" & `main.temp` < 15')\n",
    "print(\"nFilas donde la ciudad es 'London' y la temperatura es menor a 15 grados Celsius:\")\n",
    "print(query_result)\n"
   ]
  },
  {
   "cell_type": "code",
   "execution_count": 28,
   "metadata": {},
   "outputs": [
    {
     "name": "stdout",
     "output_type": "stream",
     "text": [
      "nColumnas 'city' y 'temp':\n",
      "                name  main.temp  main.humidity\n",
      "0           Asunción      22.69           83.0\n",
      "1   Ciudad de México      22.69           83.0\n",
      "2   Washington, D.C.      22.69           83.0\n",
      "3             Ottawa      22.69           83.0\n",
      "4          La Habana      22.69           83.0\n",
      "5      Santo Domingo      22.69           83.0\n",
      "6       Buenos Aires      22.69           83.0\n",
      "7           Brasilia      22.69           83.0\n",
      "8           Santiago      22.69           83.0\n",
      "9               Lima      22.69           83.0\n",
      "10             París      22.69           83.0\n",
      "11           Londres      22.69           83.0\n",
      "12            Berlín      22.69           83.0\n",
      "13              Roma      22.69           83.0\n",
      "14            Madrid      22.69           83.0\n",
      "15             Tokio      22.69           83.0\n",
      "16             Pekín      22.69           83.0\n",
      "17       Nueva Delhi      22.69           83.0\n",
      "18              Seúl      22.69           83.0\n",
      "19           Bangkok      22.69           83.0\n",
      "20          Canberra      22.69           83.0\n",
      "21        Wellington      22.69           83.0\n",
      "22              Suva      22.69           83.0\n",
      "23      Port Moresby      22.69           83.0\n",
      "24              Apia      22.69           83.0\n"
     ]
    }
   ],
   "source": [
    "# Paso 6: Slicing de Datos\n",
    "city_temp = df[['name', 'main.temp']]\n",
    "print(\"nColumnas 'city' y 'temp':\")\n",
    "print(city_temp)"
   ]
  },
  {
   "cell_type": "code",
   "execution_count": 17,
   "metadata": {},
   "outputs": [
    {
     "name": "stdout",
     "output_type": "stream",
     "text": [
      "nFilas 5 a 10 y columnas 'name' y 'weather' usando loc:\n",
      "             name                                            weather\n",
      "5   Santo Domingo  [{'id': 803, 'main': 'Clouds', 'description': ...\n",
      "6    Buenos Aires  [{'id': 803, 'main': 'Clouds', 'description': ...\n",
      "7        Brasilia  [{'id': 803, 'main': 'Clouds', 'description': ...\n",
      "8        Santiago  [{'id': 803, 'main': 'Clouds', 'description': ...\n",
      "9            Lima  [{'id': 803, 'main': 'Clouds', 'description': ...\n",
      "10          París  [{'id': 803, 'main': 'Clouds', 'description': ...\n"
     ]
    }
   ],
   "source": [
    "loc_result = df.loc[5:10, ['name', 'weather']]\n",
    "print(\"nFilas 5 a 10 y columnas 'name' y 'weather' usando loc:\")\n",
    "print(loc_result)"
   ]
  },
  {
   "cell_type": "code",
   "execution_count": 18,
   "metadata": {},
   "outputs": [
    {
     "name": "stdout",
     "output_type": "stream",
     "text": [
      "nPrimeras 5 filas y primeras 3 columnas usando iloc:\n",
      "                                             weather      base  visibility\n",
      "0  [{'id': 803, 'main': 'Clouds', 'description': ...  stations       10000\n",
      "1  [{'id': 803, 'main': 'Clouds', 'description': ...  stations       10000\n",
      "2  [{'id': 803, 'main': 'Clouds', 'description': ...  stations       10000\n",
      "3  [{'id': 803, 'main': 'Clouds', 'description': ...  stations       10000\n",
      "4  [{'id': 803, 'main': 'Clouds', 'description': ...  stations       10000\n"
     ]
    }
   ],
   "source": [
    "iloc_result = df.iloc[0:5, 0:3]\n",
    "print(\"nPrimeras 5 filas y primeras 3 columnas usando iloc:\")\n",
    "print(iloc_result)"
   ]
  }
 ],
 "metadata": {
  "kernelspec": {
   "display_name": "Python 3",
   "language": "python",
   "name": "python3"
  },
  "language_info": {
   "codemirror_mode": {
    "name": "ipython",
    "version": 3
   },
   "file_extension": ".py",
   "mimetype": "text/x-python",
   "name": "python",
   "nbconvert_exporter": "python",
   "pygments_lexer": "ipython3",
   "version": "3.13.0"
  }
 },
 "nbformat": 4,
 "nbformat_minor": 2
}
