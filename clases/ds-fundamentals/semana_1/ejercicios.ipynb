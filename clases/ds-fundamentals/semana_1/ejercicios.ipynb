{
 "cells": [
  {
   "cell_type": "markdown",
   "metadata": {},
   "source": [
    "### Ejercicio 1: Verificar la edad para entrar en una fiesta\n",
    "\n",
    "Descripción: El programa debe solicitar al usuario su edad y, en función de la misma, mostrar un mensaje indicando si puede entrar a una fiesta. Las reglas son las siguientes:\n",
    "\n",
    "* Si el usuario tiene menos de 18 años, se mostrará un mensaje diciendo que no puede entrar.\n",
    "* Si el usuario tiene entre 18 y 25 años (inclusive), se le permitirá entrar con una bebida sin alcohol.\n",
    "* Si el usuario tiene más de 25 años, se le permitirá entrar con una bebida alcohólica.\n",
    "\n",
    "**Objetivo**\n",
    "\n",
    "* Repasar cómo tomar input del usuario.\n",
    "* Usar condicionales para determinar la salida.\n",
    "* Mostrar mensajes usando output."
   ]
  },
  {
   "cell_type": "markdown",
   "metadata": {},
   "source": [
    "Tareas:\n",
    "\n",
    "1. Tengo que generar un mecanismo por el cual pueda ingresar un valor\n",
    "2. Asignar el valor ingresado a una variable y ser capaz de identificar cuál de las 3 condiciones se cumple\n",
    "3. Entregar como output el valor correspondiente a la condición cumplida"
   ]
  },
  {
   "cell_type": "code",
   "execution_count": 2,
   "metadata": {},
   "outputs": [
    {
     "name": "stdout",
     "output_type": "stream",
     "text": [
      "Lo siento, no puedes entrar a la fiesta.\n"
     ]
    }
   ],
   "source": [
    "# Pedir la edad al usuario\n",
    "edad = input(\"Por favor, introduce tu edad: \")\n",
    "if type(edad) == str:\n",
    "    edad = int(edad)\n",
    "\n",
    "# Condicionales para verificar la edad y mostrar el mensaje adecuado\n",
    "if edad < 0:\n",
    "    print(\"ingresaste un valor negativo, esto es incorrecto\")\n",
    "elif 0 <= edad < 18:\n",
    "    print(\"Lo siento, no puedes entrar a la fiesta.\")\n",
    "elif 18 <= edad <= 25:\n",
    "    print(\"Puedes entrar a la fiesta, pero solo con una bebida sin alcohol.\")\n",
    "elif 25 < edad < 140:\n",
    "    print(\"Puedes entrar a la fiesta y te ofrecemos una bebida alcohólica.\")\n",
    "else:\n",
    "    print(\"ingresaste un valor mayor que 140, esto es incorrecto\")\n"
   ]
  },
  {
   "cell_type": "markdown",
   "metadata": {},
   "source": [
    "### Ejercicio 2: Transformar frases\n",
    "\n",
    "Crea un código que tome la frase inicial entregada y la corrija de tal forma que quede igual a la frase final entregada. Donde:\n",
    "\n",
    "* frase inicial es \"hola, soMos el mejor cursó de de Data-Science de Coding_Dojo. yahoo!!!\"\n",
    "* frase final es \"hola, somos el mejor curso de Data Science de Coding Dojo\""
   ]
  },
  {
   "cell_type": "markdown",
   "metadata": {},
   "source": [
    "soluciones posibles:\n",
    "\n",
    "Solución 1:\n",
    "\n",
    "1. Apicar una función que pase a todo a minúscula\n",
    "2. En los casos particulares aplicamos mayúsculas\n",
    "2. Reemplaza los \"-\" y \"_\" por espacios en blanco\n",
    "3. Eliminamos todos los acentos\n",
    "4. Elimine si tengo palabras duplicadas de foma consecutiva\n",
    "5. Eliminar todo lo que viene después del punto o de la palabra Dojo"
   ]
  },
  {
   "cell_type": "code",
   "execution_count": 3,
   "metadata": {},
   "outputs": [],
   "source": [
    "import unicodedata\n",
    "\n",
    "# 1. Función para convertir a minúsculas\n",
    "def convertir_minusculas(frase):\n",
    "    return frase.lower()\n",
    "\n",
    "# 2. Función para capitalizar casos particulares\n",
    "def capitalizar_palabras_clave(frase):\n",
    "    frase = frase.replace(\"data science\", \"Data Science\")\n",
    "    frase = frase.replace(\"coding dojo\", \"Coding Dojo\")\n",
    "    frase = frase.replace(\"de de\", \"de\")\n",
    "    return frase\n",
    "\n",
    "# 3. Función para reemplazar \"-\" y \"_\" por espacios\n",
    "def reemplazar_guiones(frase):\n",
    "    frase = frase.replace(\"-\", \" \").replace(\"_\", \" \")\n",
    "    return frase\n",
    "\n",
    "# 4. Función para eliminar acentos\n",
    "def eliminar_acentos(frase):\n",
    "    # Utilizamos unicodedata para eliminar acentos\n",
    "    nfkd_form = unicodedata.normalize('NFKD', frase)\n",
    "    return \"\".join([c for c in nfkd_form if not unicodedata.combining(c)])\n",
    "\n",
    "# 5. Función para eliminar todo lo que viene después de un punto o de la palabra \"Dojo\"\n",
    "def eliminar_despues_de_punto_o_dojo(frase):\n",
    "    # Encontrar el punto o la palabra \"Dojo\"\n",
    "    indice_punto = frase.find(\".\")\n",
    "    indice_dojo = frase.find(\"Dojo\")\n",
    "    \n",
    "    # Determinar cuál índice usar\n",
    "    if indice_dojo != -1:\n",
    "        return frase[:indice_dojo + len(\"Dojo\")].strip()\n",
    "    elif indice_punto != -1:\n",
    "        return frase[:indice_punto].strip()\n",
    "    else:\n",
    "        return frase.strip()\n",
    "\n",
    "# Función principal que aplica todas las transformaciones\n",
    "def transformar_frase(frase_inicial):\n",
    "    frase = convertir_minusculas(frase_inicial)\n",
    "    frase = reemplazar_guiones(frase)\n",
    "    frase = eliminar_acentos(frase)\n",
    "    frase = eliminar_despues_de_punto_o_dojo(frase)\n",
    "    frase = capitalizar_palabras_clave(frase)\n",
    "    return frase"
   ]
  },
  {
   "cell_type": "code",
   "execution_count": 4,
   "metadata": {},
   "outputs": [
    {
     "data": {
      "text/plain": [
       "'hola, somos el mejor curso de Data Science de Coding Dojo'"
      ]
     },
     "execution_count": 4,
     "metadata": {},
     "output_type": "execute_result"
    }
   ],
   "source": [
    "# Ejemplo de uso\n",
    "frase_inicial = \"hola, soMos el mejor cursó de de Data-Science de Coding_Dojo. yahoo!!!\"\n",
    "frase_final = transformar_frase(frase_inicial)\n",
    "frase_final"
   ]
  },
  {
   "cell_type": "markdown",
   "metadata": {},
   "source": [
    "## Ejercicio 3 : Verificar la contraseña de un usuario\n",
    "\n",
    "Descripción: El programa debe pedir al usuario un nombre y una contraseña. Después de eso, verificará si la contraseña ingresada cumple con ciertos criterios:\n",
    "\n",
    "* La contraseña debe tener al menos 8 caracteres.\n",
    "* Debe contener al menos una letra mayúscula.\n",
    "* Debe contener al menos un número.\n",
    "* Si la contraseña cumple con todos los criterios, el programa dirá que el registro fue exitoso; si no, indicará qué condición no se cumplió y pedirá al usuario que lo intente nuevamente.\n",
    "\n",
    "Objetivos:\n",
    "\n",
    "* Repasar cómo definir y usar funciones.\n",
    "* Manejar input y output de manera dinámica.\n",
    "* Usar condicionales para verificar múltiples criterios.\n",
    "* Manipular cadenas de texto (uso de métodos como .isupper(), .isdigit(), etc.)."
   ]
  },
  {
   "cell_type": "markdown",
   "metadata": {},
   "source": [
    "#### Solución Posible\n",
    "\n",
    "* Crear una función de validación para cada condición.\n",
    "* Primera validación: Verificar la longitud de la contraseña contando los caractéres.\n",
    "* Segunda validación: Iterar sobre los caracteres de la contraseña para determinar si ese caracter es mayúscula o no. En caso de encontrar una mayúscula, marcar dicha condición como válida y continuar con las siguientes condiciones sin verificar los caracteres restantes.\n",
    "* Tercera validación: Iterar sobre todos los caracteres de la contraseña para determinar si ese caracter es dígito o no. En caso de encontrar un dígito, marcar dicha condición como válida y continuar con las siguientes condiciones sin verificar los caracteres restantes.\n",
    "* Crear una función que llame a todas las funciones de validación, y retorne una lista de errores de acuerdo a los resultados de dichas validaciones. Para mayor claridad para el usuario, todas las validaciones se ejecutarán independientemente de si otras ya hayan fallado previamente. Esto permitirá al usuario corregir todos los problemas que pudieran haber de una vez.\n",
    "* En caso de que todas las condiciones hayan sido cumplidas, indicar al usuario del registro exitoso, y caso contrario mostrar todos los errores y volver a solicitar una nueva contraseña."
   ]
  },
  {
   "cell_type": "markdown",
   "metadata": {},
   "source": [
    "##### Solución"
   ]
  },
  {
   "cell_type": "code",
   "execution_count": null,
   "metadata": {},
   "outputs": [],
   "source": [
    "def validar_longitud(contrasenha, longitud):\n",
    "    # Valida la longitud de la contraseña.\n",
    "    return len(contrasenha) >= longitud\n",
    "\n",
    "\n",
    "def validar_existencia_caracter_mayusucula(contrasenha):\n",
    "    # Valida que exista como mínimo un caracter mayúscula en la contraseña\n",
    "    caracteres_contrasenha = list(contrasenha)\n",
    "\n",
    "    for caracter in caracteres_contrasenha:\n",
    "        if caracter.isupper():\n",
    "            return True\n",
    "        \n",
    "    return False\n",
    "\n",
    "\n",
    "def validar_existencia_digito(contrasenha):\n",
    "    # Valida que exista como mínimo un caracter mayúscula en la contraseña\n",
    "    caracteres_contrasenha = list(contrasenha)\n",
    "\n",
    "    for caracter in caracteres_contrasenha:\n",
    "        if caracter.isdigit():\n",
    "            return True\n",
    "        \n",
    "    return False\n",
    "\n",
    "\n",
    "def validar_contrasenha(contrasenha):\n",
    "    # Valida que la contraseña cumpla con las siguientes validaciones:\n",
    "    #  - La contraseña debe tener al menos 8 caracteres.\n",
    "    #  - Debe contener al menos una letra mayúscula.\n",
    "    #  - Debe contener al menos un número.\n",
    "    longitud_valida = validar_longitud(contrasenha, 8)\n",
    "    mayuscula_existente = validar_existencia_caracter_mayusucula(contrasenha)\n",
    "    digito_existente = validar_existencia_digito(contrasenha)\n",
    "\n",
    "    errores = []\n",
    "\n",
    "    if not longitud_valida:\n",
    "        errores.append(\"La contraseña debe tener al menos 8 caracteres.\")\n",
    "    \n",
    "    if not mayuscula_existente:\n",
    "        errores.append(\"Debe contener al menos una letra mayúscula.\")\n",
    "\n",
    "    if not digito_existente:\n",
    "        errores.append(\"Debe contener al menos un número.\")\n",
    "\n",
    "    return errores\n",
    "\n",
    "\n",
    "def _leer_y_validar_contrasenha():\n",
    "    contrasenha = input(\"Por favor, introduzca su contraseña: \")\n",
    "    errores = validar_contrasenha(contrasenha)\n",
    "\n",
    "    while len(errores) > 0:\n",
    "        print(\"No se puede registrar la contraseña. Se han encontrado los siguientes errores: \\n\")\n",
    "\n",
    "        for error in errores:\n",
    "            print(f\"- {error}\")\n",
    "\n",
    "        print(\"\\n\")\n",
    "        \n",
    "        contrasenha = input(\"Por favor, vuelva a intentarlo: \")\n",
    "        errores = validar_contrasenha(contrasenha)\n",
    "\n",
    "    print(\"Contraseña registrada! Muchas gracias.\")\n",
    "\n",
    "\n",
    "_leer_y_validar_contrasenha()"
   ]
  },
  {
   "cell_type": "markdown",
   "metadata": {},
   "source": [
    "Ejercicio: Análisis de Calificaciones de Estudiantes\n",
    "\n",
    "**Descripción del problema** Supongamos que tenemos las calificaciones de un grupo de estudiantes en 3 materias: Matemáticas, Ciencias y Lenguaje. Queremos realizar varias operaciones utilizando arrays para analizar las calificaciones y calcular estadísticas.\n",
    "\n",
    "**Instrucciones:**\n",
    "\n",
    "* Creación de arrays: Crea un array bidimensional donde cada fila represente un estudiante y cada columna las calificaciones en Matemáticas, Ciencias y Lenguaje.\n",
    "* Propiedades y Métodos: Imprime las propiedades del array, como su forma (shape), número de elementos (size) y tipo de datos (dtype).\n",
    "* Operaciones básicas: Calcula la calificación promedio por materia y por estudiante.\n",
    "* Multiplicación y división: Multiplica las calificaciones de todos los estudiantes por 1.1 (simulando una mejora del 10% en todas las calificaciones) y divide las calificaciones de Ciencias por 2 (simulando que el peso de Ciencias es la mitad que el de otras materias).\n",
    "* Operaciones universales (ufuncs): Aplica una función universal (ufunc) como la raíz cuadrada de las calificaciones mejoradas.\n",
    "* Indexación y slicing: Extrae las calificaciones de Matemáticas de todos los estudiantes.\n",
    "* Suma y producto: Calcula la suma total y el producto de las calificaciones por estudiante.\n",
    "* Estadísticas básicas: Calcula el promedio, la desviación estándar y el máximo de las calificaciones en cada materia.\n",
    "* Agregaciones en arrays multidimensionales: Calcula la suma de las calificaciones por materia."
   ]
  },
  {
   "cell_type": "code",
   "execution_count": 31,
   "metadata": {},
   "outputs": [
    {
     "name": "stdout",
     "output_type": "stream",
     "text": [
      "Propiedades del array:\n",
      "Forma (shape): (5, 3)\n",
      "Número de elementos (size): 15\n",
      "Tipo de datos (dtype): int64\n",
      "\n",
      "\n"
     ]
    }
   ],
   "source": [
    "import numpy as np\n",
    "\n",
    "# 1. Creación de un array bidimensional con las calificaciones de los estudiantes\n",
    "calificaciones = np.array([\n",
    "    [40, 55, 28],  # Estudiante 1: Matemáticas, Ciencias, Lenguaje\n",
    "    [68, 52, 80],  # Estudiante 2\n",
    "    [92, 95, 85],  # Estudiante 3\n",
    "    [75, 75, 78],  # Estudiante 4\n",
    "    [20, 17, 10],  # Estudiante 5\n",
    "])\n",
    "\n",
    "# 2. Propiedades del array\n",
    "print(\"Propiedades del array:\")\n",
    "print(f\"Forma (shape): {calificaciones.shape}\")\n",
    "print(f\"Número de elementos (size): {calificaciones.size}\")\n",
    "print(f\"Tipo de datos (dtype): {calificaciones.dtype}\")\n",
    "print(\"\\n\")"
   ]
  },
  {
   "cell_type": "code",
   "execution_count": 32,
   "metadata": {},
   "outputs": [
    {
     "data": {
      "text/plain": [
       "array([[55, 28],\n",
       "       [52, 80],\n",
       "       [95, 85],\n",
       "       [75, 78],\n",
       "       [17, 10]])"
      ]
     },
     "execution_count": 32,
     "metadata": {},
     "output_type": "execute_result"
    }
   ],
   "source": [
    "calificaciones[0:,1:]"
   ]
  },
  {
   "cell_type": "code",
   "execution_count": 33,
   "metadata": {},
   "outputs": [
    {
     "name": "stdout",
     "output_type": "stream",
     "text": [
      "Operaciones básicas:\n",
      "Suma total de las calificaciones: [59.  58.8 56.2]\n",
      "Promedio de calificaciones por estudiante: [41.         66.66666667 90.66666667 76.         15.66666667]\n",
      "\n",
      "\n"
     ]
    }
   ],
   "source": [
    "# 3. Operaciones básicas\n",
    "print(\"Operaciones básicas:\")\n",
    "suma_total = np.mean(calificaciones, axis=0)\n",
    "promedio_estudiante = np.mean(calificaciones, axis=1)\n",
    "print(f\"Suma total de las calificaciones: {suma_total}\")\n",
    "print(f\"Promedio de calificaciones por estudiante: {promedio_estudiante}\")\n",
    "print(\"\\n\")\n"
   ]
  },
  {
   "cell_type": "code",
   "execution_count": 34,
   "metadata": {},
   "outputs": [
    {
     "name": "stdout",
     "output_type": "stream",
     "text": [
      "Multiplicación y división:\n",
      "Calificaciones mejoradas (10%): \n",
      "[[ 44.   60.5  30.8]\n",
      " [ 74.8  57.2  88. ]\n",
      " [101.2 104.5  93.5]\n",
      " [ 82.5  82.5  85.8]\n",
      " [ 22.   18.7  11. ]]\n",
      "Calificaciones de Ciencias divididas por 2: [27.5 26.  47.5 37.5  8.5]\n",
      "\n",
      "\n"
     ]
    }
   ],
   "source": [
    "# 4. Multiplicación y división\n",
    "print(\"Multiplicación y división:\")\n",
    "mejora_10_por_ciento = calificaciones * 1.1  # Mejora del 10% en todas las calificaciones\n",
    "#mejora_10_por_ciento_alumno_1 = calificaciones[0,0:] * 1.1 \n",
    "calificaciones_ciencias_mitad = calificaciones[:, 1] / 2  # División de Ciencias por 2\n",
    "#calificaciones_ciencias_mitad = calificaciones[:, 1:3] / 2  # División de Ciencias y lenguaje por 2\n",
    "print(f\"Calificaciones mejoradas (10%): \\n{mejora_10_por_ciento}\")\n",
    "print(f\"Calificaciones de Ciencias divididas por 2: {calificaciones_ciencias_mitad}\")\n",
    "print(\"\\n\")"
   ]
  },
  {
   "cell_type": "code",
   "execution_count": 35,
   "metadata": {},
   "outputs": [
    {
     "name": "stdout",
     "output_type": "stream",
     "text": [
      "Operaciones universales (ufuncs):\n",
      "Raíz cuadrada de las calificaciones mejoradas: \n",
      "[[ 6.63324958  7.77817459  5.54977477]\n",
      " [ 8.64869932  7.56306816  9.38083152]\n",
      " [10.05982107 10.22252415  9.6695398 ]\n",
      " [ 9.08295106  9.08295106  9.26282894]\n",
      " [ 4.69041576  4.32434966  3.31662479]]\n",
      "\n",
      "\n"
     ]
    }
   ],
   "source": [
    "# 5. Operaciones universales (ufuncs)\n",
    "print(\"Operaciones universales (ufuncs):\")\n",
    "raiz_calificaciones_mejoradas = np.sqrt(mejora_10_por_ciento)\n",
    "print(f\"Raíz cuadrada de las calificaciones mejoradas: \\n{raiz_calificaciones_mejoradas}\")\n",
    "print(\"\\n\")"
   ]
  },
  {
   "cell_type": "code",
   "execution_count": 36,
   "metadata": {},
   "outputs": [
    {
     "name": "stdout",
     "output_type": "stream",
     "text": [
      "Indexación y slicing:\n",
      "Calificaciones en Matemáticas de todos los estudiantes: [40 68 92 75 20]\n",
      "\n",
      "\n"
     ]
    }
   ],
   "source": [
    "# 6. Indexación y slicing\n",
    "print(\"Indexación y slicing:\")\n",
    "calificaciones_matematicas = calificaciones[:, 0]  # Extraer las calificaciones de Matemáticas\n",
    "print(f\"Calificaciones en Matemáticas de todos los estudiantes: {calificaciones_matematicas}\")\n",
    "print(\"\\n\")"
   ]
  },
  {
   "cell_type": "code",
   "execution_count": 37,
   "metadata": {},
   "outputs": [
    {
     "name": "stdout",
     "output_type": "stream",
     "text": [
      "Suma y producto:\n",
      "Suma total de calificaciones por estudiante: [123 200 272 228  47]\n",
      "Producto de calificaciones por estudiante: [ 61600 282880 742900 438750   3400]\n",
      "\n",
      "\n"
     ]
    }
   ],
   "source": [
    "# 7. Suma y producto\n",
    "print(\"Suma y producto:\")\n",
    "suma_por_estudiante = np.sum(calificaciones, axis=1)\n",
    "producto_por_estudiante = np.prod(calificaciones, axis=1)\n",
    "print(f\"Suma total de calificaciones por estudiante: {suma_por_estudiante}\")\n",
    "print(f\"Producto de calificaciones por estudiante: {producto_por_estudiante}\")\n",
    "print(\"\\n\")"
   ]
  },
  {
   "cell_type": "code",
   "execution_count": 44,
   "metadata": {},
   "outputs": [
    {
     "name": "stdout",
     "output_type": "stream",
     "text": [
      "Estadísticas básicas:\n",
      "Promedio de calificaciones por materia: [59.  58.8 56.2]\n",
      "Desviación estándar por materia: [25.72158627 26.00307674 30.98644865]\n",
      "Calificación mínima por materia: [20 17 10]\n",
      "Calificación máxima por materia: [92 95 85]\n",
      "Calificación máxima por materia: [43.59590892 44.22291963 55.13602963]\n",
      "\n",
      "\n"
     ]
    }
   ],
   "source": [
    "# 8. Estadísticas básicas\n",
    "print(\"Estadísticas básicas:\")\n",
    "promedio_materias = np.mean(calificaciones, axis=0)\n",
    "desviacion_estandar_materias = np.std(calificaciones, axis=0)\n",
    "minima_materias = np.min(calificaciones, axis=0)\n",
    "maximo_materias = np.max(calificaciones, axis=0)\n",
    "coeficiente_variacion = 100 * desviacion_estandar_materias/promedio_materias\n",
    "print(f\"Promedio de calificaciones por materia: {promedio_materias}\")\n",
    "print(f\"Desviación estándar por materia: {desviacion_estandar_materias}\")\n",
    "print(f\"Calificación mínima por materia: {minima_materias}\")\n",
    "print(f\"Calificación máxima por materia: {maximo_materias}\")\n",
    "print(f\"Calificación máxima por materia: {coeficiente_variacion}\")\n",
    "print(\"\\n\")"
   ]
  },
  {
   "cell_type": "code",
   "execution_count": 43,
   "metadata": {},
   "outputs": [
    {
     "name": "stdout",
     "output_type": "stream",
     "text": [
      "Agregaciones en arrays multidimensionales:\n",
      "Suma total de calificaciones por materia: [295 294 281]\n"
     ]
    }
   ],
   "source": [
    "# 9. Agregaciones en arrays multidimensionales\n",
    "print(\"Agregaciones en arrays multidimensionales:\")\n",
    "suma_por_materia = np.sum(calificaciones, axis=0)\n",
    "print(f\"Suma total de calificaciones por materia: {suma_por_materia}\")"
   ]
  },
  {
   "cell_type": "markdown",
   "metadata": {},
   "source": [
    "Calcular percentil 25, 50, 75 sobre el arreglo de calificaciones:\n",
    "\n",
    "1. Para cada estudiante\n",
    "2. Para cada materia"
   ]
  },
  {
   "cell_type": "markdown",
   "metadata": {},
   "source": [
    "### Solución posible:\n",
    "\n",
    "- Crear dos funciones, una para obtener percentiles por estudiante, y otra para obtener percentiles por materia\n",
    "- La función de percentiles por estudiante, debe iterar sobre las filas de la matriz de calificaciones, ya que cada fila corresponde a las calificaciones de cada estudiante\n",
    "- Se sacarán los tres percentiles (25, 50, 75)\n",
    "- Se imprimirán los resultados de manera legible\n",
    "- La función de percentiles por estudiante, debe iterar sobre las columnas de la matriz de calificaciones, ya que cada columnas corresponde a las calificaciones de cada materia\n",
    "- Se sacarán los tres percentiles (25, 50, 75)\n",
    "- Se imprimirán los resultados de manera legible\n",
    "- Llamar ambas funciones con la matriz de calificaciones"
   ]
  },
  {
   "cell_type": "code",
   "execution_count": null,
   "metadata": {},
   "outputs": [
    {
     "name": "stdout",
     "output_type": "stream",
     "text": [
      "Percentil por estudiante: \n",
      "\n",
      "Estudiante\tPercentil 25\tPercentil 50\tPercentil 75\n",
      "Estudiante 1\t34.0\t\t40.0\t\t47.5\n",
      "Estudiante 2\t60.0\t\t68.0\t\t74.0\n",
      "Estudiante 3\t88.5\t\t92.0\t\t93.5\n",
      "Estudiante 4\t75.0\t\t75.0\t\t76.5\n",
      "Estudiante 5\t13.5\t\t17.0\t\t18.5\n",
      "Percentil por materia: \n",
      "\n",
      "Materia\t\tPercentil 25\tPercentil 50\tPercentil 75\n",
      "Matemáticas\t40.0\t\t68.0\t\t75.0\n",
      "Ciencias\t52.0\t\t55.0\t\t75.0\n",
      "Lenguaje\t28.0\t\t78.0\t\t80.0\n"
     ]
    }
   ],
   "source": [
    "def obtener_percentiles_por_estudiante(calificaciones):\n",
    "    print(\"Percentil por estudiante: \\n\")\n",
    "    print(\"Estudiante\\tPercentil 25\\tPercentil 50\\tPercentil 75\")\n",
    "\n",
    "    # Iteración sobre filas (Cada fila corresponde a un estudiante)\n",
    "    for idx, calificaciones_estudiante in enumerate(calificaciones):\n",
    "        percentil_25 = np.percentile(calificaciones_estudiante, 25)\n",
    "        percentil_50 = np.percentile(calificaciones_estudiante, 50)\n",
    "        percentil_75 = np.percentile(calificaciones_estudiante, 75)\n",
    "        print(f\"Estudiante {idx + 1}\\t{percentil_25}\\t\\t{percentil_50}\\t\\t{percentil_75}\")\n",
    "\n",
    "def obtener_percentiles_por_materia(calificaciones):\n",
    "    print(\"Percentil por materia: \\n\")\n",
    "    print(\"Materia\\t\\tPercentil 25\\tPercentil 50\\tPercentil 75\")\n",
    "    nombres_materias = [\"Matemáticas\", \"Ciencias\", \"Lenguaje\"]\n",
    "\n",
    "    # Iteración sobre columnas (Cada columna corresponde a una materia)\n",
    "    # Para iterar sobre las columnas, se usa la transpuesta (array.T)\n",
    "    # Datos de transpueta obtenidos del sgte. enlace: https://stackoverflow.com/a/10148855\n",
    "    for idx, calificaciones_materia in enumerate(calificaciones.T):\n",
    "        percentil_25 = np.percentile(calificaciones_materia, 25)\n",
    "        percentil_50 = np.percentile(calificaciones_materia, 50)\n",
    "        percentil_75 = np.percentile(calificaciones_materia, 75)\n",
    "        nombre_materia = nombres_materias[idx] if idx < len(nombres_materias) else f\"Materia {idx}\"\n",
    "        print(f\"{nombre_materia}\\t{percentil_25}\\t\\t{percentil_50}\\t\\t{percentil_75}\")\n",
    "\n",
    "\n",
    "obtener_percentiles_por_estudiante(calificaciones)\n",
    "obtener_percentiles_por_materia(calificaciones)"
   ]
  }
 ],
 "metadata": {
  "kernelspec": {
   "display_name": "base",
   "language": "python",
   "name": "python3"
  },
  "language_info": {
   "codemirror_mode": {
    "name": "ipython",
    "version": 3
   },
   "file_extension": ".py",
   "mimetype": "text/x-python",
   "name": "python",
   "nbconvert_exporter": "python",
   "pygments_lexer": "ipython3",
   "version": "3.12.2"
  }
 },
 "nbformat": 4,
 "nbformat_minor": 2
}
