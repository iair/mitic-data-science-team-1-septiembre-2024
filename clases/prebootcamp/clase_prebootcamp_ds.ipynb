{
 "cells": [
  {
   "cell_type": "markdown",
   "metadata": {},
   "source": [
    "# Bucles for: Básico 1 (Core)\n",
    "\n",
    "Objetivos\n",
    "\n",
    "1. Practicar el uso de sentencias básicas for en Python\n",
    "2. Poner en práctica los algoritmos básicos en Python\n",
    "3. Crea un archivo de Python llamado bucle_for_basico1.py y realiza lo presentado a continuación:"
   ]
  },
  {
   "cell_type": "markdown",
   "metadata": {},
   "source": [
    "### Básico: imprime todos los números enteros del 0 al 100"
   ]
  },
  {
   "cell_type": "code",
   "execution_count": 1,
   "metadata": {},
   "outputs": [
    {
     "name": "stdout",
     "output_type": "stream",
     "text": [
      "0\n"
     ]
    }
   ],
   "source": [
    "for i in range(101):\n",
    "    print(i)\n",
    "    break"
   ]
  },
  {
   "cell_type": "markdown",
   "metadata": {},
   "source": [
    "### Múltiplos de 2:imprime todos los números múltiplos de 2 entre 2 y 500"
   ]
  },
  {
   "cell_type": "code",
   "execution_count": 2,
   "metadata": {},
   "outputs": [
    {
     "name": "stdout",
     "output_type": "stream",
     "text": [
      "2\n",
      "-----\n",
      "la cantidad de iteraciones son:  1\n"
     ]
    }
   ],
   "source": [
    "count = 0\n",
    "for i in range(2,501,2):\n",
    "    count += 1\n",
    "    print(i)\n",
    "    break\n",
    "print(\"-----\")\n",
    "print(\"la cantidad de iteraciones son: \", count)"
   ]
  },
  {
   "cell_type": "markdown",
   "metadata": {},
   "source": [
    "### Contador dinámico: \n",
    "\n",
    "Establece tres variables: numInicial, numFinal y multiplo. Comenzando en numInicial y pasando por numFinal, imprime los números enteros que sean múltiplos de multiplo. Por ejemplo: si numInicial = 3, numFinal = 10, y multiplo = 2, el bucle debería de imprimir 4, 6, 8, 10 (en líneas sucesivas)."
   ]
  },
  {
   "cell_type": "markdown",
   "metadata": {},
   "source": [
    "#### La lógica"
   ]
  },
  {
   "cell_type": "code",
   "execution_count": 3,
   "metadata": {},
   "outputs": [],
   "source": [
    " # Ejemplo de uso:\n",
    "numInicial = 3\n",
    "numFinal = 10\n",
    "multiplo = 2"
   ]
  },
  {
   "cell_type": "code",
   "execution_count": 4,
   "metadata": {},
   "outputs": [
    {
     "name": "stdout",
     "output_type": "stream",
     "text": [
      "4\n",
      "6\n",
      "8\n",
      "10\n"
     ]
    }
   ],
   "source": [
    "for i in range(numInicial, numFinal+1):\n",
    "    # si el resto es 0 (lo que indica que es múltiplo)\n",
    "    if i % multiplo == 0:\n",
    "        # Si el número es múltiplo de multiplo, lo imprimimos\n",
    "        print(i)"
   ]
  },
  {
   "cell_type": "markdown",
   "metadata": {},
   "source": [
    "#### Como función"
   ]
  },
  {
   "cell_type": "code",
   "execution_count": 5,
   "metadata": {},
   "outputs": [],
   "source": [
    "# Contador dinámico con parámetros por default iguales a los del ejemplo\n",
    "def contador_dinamico(numInicial = 3, numFinal = 10, multiplo = 2):\n",
    "    ## acá va la lógica del código\n",
    "    for i in range(numInicial, numFinal+1):\n",
    "    # si el resto es 0 (lo que indica que es múltiplo)\n",
    "        if i % multiplo == 0:\n",
    "            # Si el número es múltiplo de multiplo, lo imprimimos\n",
    "            print(i)"
   ]
  },
  {
   "cell_type": "code",
   "execution_count": 6,
   "metadata": {},
   "outputs": [
    {
     "name": "stdout",
     "output_type": "stream",
     "text": [
      "4\n",
      "6\n",
      "8\n",
      "10\n"
     ]
    }
   ],
   "source": [
    "contador_dinamico()"
   ]
  },
  {
   "cell_type": "code",
   "execution_count": 7,
   "metadata": {},
   "outputs": [
    {
     "name": "stdout",
     "output_type": "stream",
     "text": [
      "2\n",
      "4\n",
      "6\n",
      "8\n",
      "10\n",
      "12\n",
      "14\n"
     ]
    }
   ],
   "source": [
    "contador_dinamico(numInicial = 2, numFinal = 14, multiplo = 2)"
   ]
  },
  {
   "cell_type": "markdown",
   "metadata": {},
   "source": [
    "#### calculadora con return "
   ]
  },
  {
   "cell_type": "code",
   "execution_count": 8,
   "metadata": {},
   "outputs": [],
   "source": [
    "# Contador dinámico con parámetros por default iguales a los del ejemplo\n",
    "def calculadora_multiplo(numero_1, numero_2, multiplo):\n",
    "    ## acá va la lógica del código\n",
    "    result = numero_1 + numero_2\n",
    "    if result % multiplo == 0:\n",
    "        # Si el número es múltiplo de multiplo, lo imprimimos\n",
    "        return True\n",
    "    else:\n",
    "        return False"
   ]
  },
  {
   "cell_type": "code",
   "execution_count": 9,
   "metadata": {},
   "outputs": [
    {
     "data": {
      "text/plain": [
       "True"
      ]
     },
     "execution_count": 9,
     "metadata": {},
     "output_type": "execute_result"
    }
   ],
   "source": [
    "numero_1 = 1\n",
    "numero_2 = 1\n",
    "multiplo = 2\n",
    "calculadora_multiplo(numero_1, numero_2, multiplo)"
   ]
  },
  {
   "cell_type": "code",
   "execution_count": 10,
   "metadata": {},
   "outputs": [
    {
     "data": {
      "text/plain": [
       "False"
      ]
     },
     "execution_count": 10,
     "metadata": {},
     "output_type": "execute_result"
    }
   ],
   "source": [
    "numero_1 = 2\n",
    "numero_2 = 1\n",
    "multiplo = 2\n",
    "calculadora_multiplo(numero_1, numero_2, multiplo)"
   ]
  }
 ],
 "metadata": {
  "kernelspec": {
   "display_name": "base",
   "language": "python",
   "name": "python3"
  },
  "language_info": {
   "codemirror_mode": {
    "name": "ipython",
    "version": 3
   },
   "file_extension": ".py",
   "mimetype": "text/x-python",
   "name": "python",
   "nbconvert_exporter": "python",
   "pygments_lexer": "ipython3",
   "version": "3.11.10"
  }
 },
 "nbformat": 4,
 "nbformat_minor": 2
}
