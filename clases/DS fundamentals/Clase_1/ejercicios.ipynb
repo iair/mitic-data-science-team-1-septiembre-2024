{
 "cells": [
  {
   "cell_type": "markdown",
   "metadata": {},
   "source": [
    "### Ejercicio 1: Verificar la edad para entrar en una fiesta\n",
    "\n",
    "Descripción: El programa debe solicitar al usuario su edad y, en función de la misma, mostrar un mensaje indicando si puede entrar a una fiesta. Las reglas son las siguientes:\n",
    "\n",
    "* Si el usuario tiene menos de 18 años, se mostrará un mensaje diciendo que no puede entrar.\n",
    "* Si el usuario tiene entre 18 y 25 años (inclusive), se le permitirá entrar con una bebida sin alcohol.\n",
    "* Si el usuario tiene más de 25 años, se le permitirá entrar con una bebida alcohólica.\n",
    "\n",
    "**Objetivo**\n",
    "\n",
    "* Repasar cómo tomar input del usuario.\n",
    "* Usar condicionales para determinar la salida.\n",
    "* Mostrar mensajes usando output."
   ]
  },
  {
   "cell_type": "markdown",
   "metadata": {},
   "source": [
    "Tareas:\n",
    "\n",
    "1. Tengo que generar un mecanismo por el cual pueda ingresar un valor\n",
    "2. Asignar el valor ingresado a una variable y ser capaz de identificar cuál de las 3 condiciones se cumple\n",
    "3. Entregar como output el valor correspondiente a la condición cumplida"
   ]
  },
  {
   "cell_type": "code",
   "execution_count": null,
   "metadata": {},
   "outputs": [],
   "source": [
    "# Pedir la edad al usuario\n",
    "edad = input(\"Por favor, introduce tu edad: \")\n",
    "if type(edad) == str:\n",
    "    edad = int(edad)\n",
    "\n",
    "# Condicionales para verificar la edad y mostrar el mensaje adecuado\n",
    "if edad < 0:\n",
    "    print(\"ingresaste un valor negativo, esto es incorrecto\")\n",
    "elif 0 <= edad < 18:\n",
    "    print(\"Lo siento, no puedes entrar a la fiesta.\")\n",
    "elif 18 <= edad <= 25:\n",
    "    print(\"Puedes entrar a la fiesta, pero solo con una bebida sin alcohol.\")\n",
    "elif 25 < edad < 140:\n",
    "    print(\"Puedes entrar a la fiesta y te ofrecemos una bebida alcohólica.\")\n",
    "else:\n",
    "    print(\"ingresaste un valor mayor que 140, esto es incorrecto\")\n"
   ]
  },
  {
   "cell_type": "markdown",
   "metadata": {},
   "source": [
    "### Ejercicio 2: Transformar frases\n",
    "\n",
    "Crea un código que tome la frase inicial entregada y la corrija de tal forma que quede igual a la frase final entregada. Donde:\n",
    "\n",
    "* frase inicial es \"hola, soMos el mejor cursó de de Data-Science de Coding_Dojo. yahoo!!!\"\n",
    "* frase final es \"hola, somos el mejor curso de Data Science de Coding Dojo\""
   ]
  },
  {
   "cell_type": "markdown",
   "metadata": {},
   "source": [
    "soluciones posibles:\n",
    "\n",
    "Solución 1:\n",
    "\n",
    "1. Apicar una función que pase a todo a minúscula\n",
    "2. En los casos particulares aplicamos mayúsculas\n",
    "2. Reemplaza los \"-\" y \"_\" por espacios en blanco\n",
    "3. Eliminamos todos los acentos\n",
    "4. Elimine si tengo palabras duplicadas de foma consecutiva\n",
    "5. Eliminar todo lo que viene después del punto o de la palabra Dojo"
   ]
  },
  {
   "cell_type": "code",
   "execution_count": 9,
   "metadata": {},
   "outputs": [],
   "source": [
    "import unicodedata\n",
    "\n",
    "# 1. Función para convertir a minúsculas\n",
    "def convertir_minusculas(frase):\n",
    "    return frase.lower()\n",
    "\n",
    "# 2. Función para capitalizar casos particulares\n",
    "def capitalizar_palabras_clave(frase):\n",
    "    frase = frase.replace(\"data science\", \"Data Science\")\n",
    "    frase = frase.replace(\"coding dojo\", \"Coding Dojo\")\n",
    "    frase = frase.replace(\"de de\", \"de\")\n",
    "    return frase\n",
    "\n",
    "# 3. Función para reemplazar \"-\" y \"_\" por espacios\n",
    "def reemplazar_guiones(frase):\n",
    "    frase = frase.replace(\"-\", \" \").replace(\"_\", \" \")\n",
    "    return frase\n",
    "\n",
    "# 4. Función para eliminar acentos\n",
    "def eliminar_acentos(frase):\n",
    "    # Utilizamos unicodedata para eliminar acentos\n",
    "    nfkd_form = unicodedata.normalize('NFKD', frase)\n",
    "    return \"\".join([c for c in nfkd_form if not unicodedata.combining(c)])\n",
    "\n",
    "# 5. Función para eliminar todo lo que viene después de un punto o de la palabra \"Dojo\"\n",
    "def eliminar_despues_de_punto_o_dojo(frase):\n",
    "    # Encontrar el punto o la palabra \"Dojo\"\n",
    "    indice_punto = frase.find(\".\")\n",
    "    indice_dojo = frase.find(\"Dojo\")\n",
    "    \n",
    "    # Determinar cuál índice usar\n",
    "    if indice_dojo != -1:\n",
    "        return frase[:indice_dojo + len(\"Dojo\")].strip()\n",
    "    elif indice_punto != -1:\n",
    "        return frase[:indice_punto].strip()\n",
    "    else:\n",
    "        return frase.strip()\n",
    "\n",
    "# Función principal que aplica todas las transformaciones\n",
    "def transformar_frase(frase_inicial):\n",
    "    frase = convertir_minusculas(frase_inicial)\n",
    "    frase = reemplazar_guiones(frase)\n",
    "    frase = eliminar_acentos(frase)\n",
    "    frase = eliminar_despues_de_punto_o_dojo(frase)\n",
    "    frase = capitalizar_palabras_clave(frase)\n",
    "    return frase"
   ]
  },
  {
   "cell_type": "code",
   "execution_count": 10,
   "metadata": {},
   "outputs": [
    {
     "data": {
      "text/plain": [
       "'hola, somos el mejor curso de Data Science de Coding Dojo'"
      ]
     },
     "execution_count": 11,
     "metadata": {},
     "output_type": "execute_result"
    }
   ],
   "source": [
    "# Ejemplo de uso\n",
    "frase_inicial = \"hola, soMos el mejor cursó de de Data-Science de Coding_Dojo. yahoo!!!\"\n",
    "frase_final = transformar_frase(frase_inicial)\n",
    "frase_final"
   ]
  },
  {
   "cell_type": "markdown",
   "metadata": {},
   "source": [
    "## Ejercicio 3 : Verificar la contraseña de un usuario\n",
    "\n",
    "Descripción: El programa debe pedir al usuario un nombre y una contraseña. Después de eso, verificará si la contraseña ingresada cumple con ciertos criterios:\n",
    "\n",
    "* La contraseña debe tener al menos 8 caracteres.\n",
    "* Debe contener al menos una letra mayúscula.\n",
    "* Debe contener al menos un número.\n",
    "* Si la contraseña cumple con todos los criterios, el programa dirá que el registro fue exitoso; si no, indicará qué condición no se cumplió y pedirá al usuario que lo intente nuevamente.\n",
    "\n",
    "Objetivos:\n",
    "\n",
    "* Repasar cómo definir y usar funciones.\n",
    "* Manejar input y output de manera dinámica.\n",
    "* Usar condicionales para verificar múltiples criterios.\n",
    "* Manipular cadenas de texto (uso de métodos como .isupper(), .isdigit(), etc.)."
   ]
  },
  {
   "cell_type": "markdown",
   "metadata": {},
   "source": [
    "### Solucion\n",
    "1. Realizar un input para ingresar la contraseña y guardar en una variable\n",
    "2. Generar una funcion para controlar las condiciones:\n",
    "3. Utilizar una condicion para saber la cantidad de caracteres que tiene el input (si es menor a 8, Imprimir \"ingrese una contraseña con 8 caracteres como minimo\")\n",
    "4. Utilizar una condicion para saber si dentro del input hay un numero (si no tiene ningun numero, imprimir \"Ingrese una contraseña con al menos 1 numero\" )\n",
    "5. Utilizar una condicion para saber si el input contiene una letra mayuscula (si no tiene una letra mayuscula, imprimir \"Ingrese una Letra mayuscula en su contraseña)\n",
    "6. Si cumple con todas las condiciones imprimir \"correcto\""
   ]
  },
  {
   "cell_type": "code",
   "execution_count": 16,
   "metadata": {},
   "outputs": [
    {
     "name": "stdout",
     "output_type": "stream",
     "text": [
      "Ingrese una letra mayúscula en su contraseña.\n"
     ]
    },
    {
     "data": {
      "text/plain": [
       "False"
      ]
     },
     "execution_count": 16,
     "metadata": {},
     "output_type": "execute_result"
    }
   ],
   "source": [
    "# Función para verificar la contraseña\n",
    "def verificar_contrasena(contrasena):\n",
    "    # Verificar longitud mínima de 8 caracteres\n",
    "    if len(contrasena) < 8:\n",
    "        print(\"Ingrese una contraseña con 8 caracteres como mínimo.\")\n",
    "        return False\n",
    "    \n",
    "    # Verificar que tenga al menos un número\n",
    "    if not any(char.isdigit() for char in contrasena):\n",
    "        print(\"Ingrese una contraseña con al menos 1 número.\")\n",
    "        return False\n",
    "    \n",
    "    # Verificar que tenga al menos una letra mayúscula\n",
    "    if not any(char.isupper() for char in contrasena):\n",
    "        print(\"Ingrese una letra mayúscula en su contraseña.\")\n",
    "        return False\n",
    "    \n",
    "    # Si cumple con todas las condiciones\n",
    "    print(\"El registro fue exitoso.\")\n",
    "    return True\n",
    "\n",
    "# Input de la contraseña\n",
    "contrasena = input(\"Ingrese su contraseña: \")\n",
    "\n",
    "# Llamar a la función para verificar la contraseña\n",
    "verificar_contrasena(contrasena)\n"
   ]
  },
  {
   "cell_type": "markdown",
   "metadata": {},
   "source": [
    "Ejercicio: Análisis de Calificaciones de Estudiantes\n",
    "\n",
    "**Descripción del problema** Supongamos que tenemos las calificaciones de un grupo de estudiantes en 3 materias: Matemáticas, Ciencias y Lenguaje. Queremos realizar varias operaciones utilizando arrays para analizar las calificaciones y calcular estadísticas.\n",
    "\n",
    "**Instrucciones:**\n",
    "\n",
    "* Creación de arrays: Crea un array bidimensional donde cada fila represente un estudiante y cada columna las calificaciones en Matemáticas, Ciencias y Lenguaje.\n",
    "* Propiedades y Métodos: Imprime las propiedades del array, como su forma (shape), número de elementos (size) y tipo de datos (dtype).\n",
    "* Operaciones básicas: Calcula la calificación promedio por materia y por estudiante.\n",
    "* Multiplicación y división: Multiplica las calificaciones de todos los estudiantes por 1.1 (simulando una mejora del 10% en todas las calificaciones) y divide las calificaciones de Ciencias por 2 (simulando que el peso de Ciencias es la mitad que el de otras materias).\n",
    "* Operaciones universales (ufuncs): Aplica una función universal (ufunc) como la raíz cuadrada de las calificaciones mejoradas.\n",
    "* Indexación y slicing: Extrae las calificaciones de Matemáticas de todos los estudiantes.\n",
    "* Suma y producto: Calcula la suma total y el producto de las calificaciones por estudiante.\n",
    "* Estadísticas básicas: Calcula el promedio, la desviación estándar y el máximo de las calificaciones en cada materia.\n",
    "* Agregaciones en arrays multidimensionales: Calcula la suma de las calificaciones por materia."
   ]
  },
  {
   "cell_type": "code",
   "execution_count": 18,
   "metadata": {},
   "outputs": [
    {
     "name": "stdout",
     "output_type": "stream",
     "text": [
      "Propiedades del array:\n",
      "Forma (shape): (5, 3)\n",
      "Número de elementos (size): 15\n",
      "Tipo de datos (dtype): int64\n",
      "\n",
      "\n"
     ]
    }
   ],
   "source": [
    "import numpy as np\n",
    "\n",
    "# 1. Creación de un array bidimensional con las calificaciones de los estudiantes\n",
    "calificaciones = np.array([\n",
    "    [40, 55, 28],  # Estudiante 1: Matemáticas, Ciencias, Lenguaje\n",
    "    [68, 52, 80],  # Estudiante 2\n",
    "    [92, 95, 85],  # Estudiante 3\n",
    "    [75, 75, 78],  # Estudiante 4\n",
    "    [20, 17, 10],  # Estudiante 5\n",
    "])\n",
    "\n",
    "# 2. Propiedades del array\n",
    "print(\"Propiedades del array:\")\n",
    "print(f\"Forma (shape): {calificaciones.shape}\")\n",
    "print(f\"Número de elementos (size): {calificaciones.size}\")\n",
    "print(f\"Tipo de datos (dtype): {calificaciones.dtype}\")\n",
    "print(\"\\n\")"
   ]
  },
  {
   "cell_type": "code",
   "execution_count": 13,
   "metadata": {},
   "outputs": [
    {
     "data": {
      "text/plain": [
       "array([[55, 28],\n",
       "       [52, 80],\n",
       "       [95, 85],\n",
       "       [75, 78],\n",
       "       [17, 10]])"
      ]
     },
     "execution_count": 13,
     "metadata": {},
     "output_type": "execute_result"
    }
   ],
   "source": [
    "calificaciones[0:,1:]"
   ]
  },
  {
   "cell_type": "code",
   "execution_count": null,
   "metadata": {},
   "outputs": [],
   "source": [
    "# 3. Operaciones básicas\n",
    "print(\"Operaciones básicas:\")\n",
    "suma_total = np.mean(calificaciones, axis=0)\n",
    "promedio_estudiante = np.mean(calificaciones, axis=1)\n",
    "print(f\"Suma total de las calificaciones: {suma_total}\")\n",
    "print(f\"Promedio de calificaciones por estudiante: {promedio_estudiante}\")\n",
    "print(\"\\n\")\n"
   ]
  },
  {
   "cell_type": "code",
   "execution_count": null,
   "metadata": {},
   "outputs": [],
   "source": [
    "# 4. Multiplicación y división\n",
    "print(\"Multiplicación y división:\")\n",
    "mejora_10_por_ciento = calificaciones * 1.1  # Mejora del 10% en todas las calificaciones\n",
    "#mejora_10_por_ciento_alumno_1 = calificaciones[0,0:] * 1.1 \n",
    "calificaciones_ciencias_mitad = calificaciones[:, 1] / 2  # División de Ciencias por 2\n",
    "#calificaciones_ciencias_mitad = calificaciones[:, 1:3] / 2  # División de Ciencias y lenguaje por 2\n",
    "print(f\"Calificaciones mejoradas (10%): \\n{mejora_10_por_ciento}\")\n",
    "print(f\"Calificaciones de Ciencias divididas por 2: {calificaciones_ciencias_mitad}\")\n",
    "print(\"\\n\")"
   ]
  },
  {
   "cell_type": "code",
   "execution_count": null,
   "metadata": {},
   "outputs": [],
   "source": [
    "# 5. Operaciones universales (ufuncs)\n",
    "print(\"Operaciones universales (ufuncs):\")\n",
    "raiz_calificaciones_mejoradas = np.sqrt(mejora_10_por_ciento)\n",
    "print(f\"Raíz cuadrada de las calificaciones mejoradas: \\n{raiz_calificaciones_mejoradas}\")\n",
    "print(\"\\n\")"
   ]
  },
  {
   "cell_type": "code",
   "execution_count": null,
   "metadata": {},
   "outputs": [],
   "source": [
    "# 6. Indexación y slicing\n",
    "print(\"Indexación y slicing:\")\n",
    "calificaciones_matematicas = calificaciones[:, 0]  # Extraer las calificaciones de Matemáticas\n",
    "print(f\"Calificaciones en Matemáticas de todos los estudiantes: {calificaciones_matematicas}\")\n",
    "print(\"\\n\")"
   ]
  },
  {
   "cell_type": "code",
   "execution_count": null,
   "metadata": {},
   "outputs": [],
   "source": [
    "# 7. Suma y producto\n",
    "print(\"Suma y producto:\")\n",
    "suma_por_estudiante = np.sum(calificaciones, axis=1)\n",
    "producto_por_estudiante = np.prod(calificaciones, axis=1)\n",
    "print(f\"Suma total de calificaciones por estudiante: {suma_por_estudiante}\")\n",
    "print(f\"Producto de calificaciones por estudiante: {producto_por_estudiante}\")\n",
    "print(\"\\n\")"
   ]
  },
  {
   "cell_type": "code",
   "execution_count": 15,
   "metadata": {},
   "outputs": [
    {
     "name": "stdout",
     "output_type": "stream",
     "text": [
      "Estadísticas básicas:\n",
      "Promedio de calificaciones por materia: [59.  58.8 56.2]\n",
      "Desviación estándar por materia: [25.72158627 26.00307674 30.98644865]\n",
      "Calificación mínima por materia: [20 17 10]\n",
      "Calificación máxima por materia: [92 95 85]\n",
      "Coeficiente de variacion: [43.59590892 44.22291963 55.13602963]\n",
      "\n",
      "\n"
     ]
    }
   ],
   "source": [
    "# 8. Estadísticas básicas\n",
    "print(\"Estadísticas básicas:\")\n",
    "promedio_materias = np.mean(calificaciones, axis=0)\n",
    "desviacion_estandar_materias = np.std(calificaciones, axis=0)\n",
    "minima_materias = np.min(calificaciones, axis=0)\n",
    "maximo_materias = np.max(calificaciones, axis=0)\n",
    "coeficiente_variacion = 100 * desviacion_estandar_materias/promedio_materias\n",
    "print(f\"Promedio de calificaciones por materia: {promedio_materias}\")\n",
    "print(f\"Desviación estándar por materia: {desviacion_estandar_materias}\")\n",
    "print(f\"Calificación mínima por materia: {minima_materias}\")\n",
    "print(f\"Calificación máxima por materia: {maximo_materias}\")\n",
    "print(f\"Coeficiente de variacion: {coeficiente_variacion}\")\n",
    "print(\"\\n\")"
   ]
  },
  {
   "cell_type": "code",
   "execution_count": null,
   "metadata": {},
   "outputs": [],
   "source": [
    "# 9. Agregaciones en arrays multidimensionales\n",
    "print(\"Agregaciones en arrays multidimensionales:\")\n",
    "suma_por_materia = np.sum(calificaciones, axis=0)\n",
    "print(f\"Suma total de calificaciones por materia: {suma_por_materia}\")"
   ]
  },
  {
   "cell_type": "markdown",
   "metadata": {},
   "source": [
    "Calcular percentil 25, 50, 75 sobre el arreglo de calificaciones:\n",
    "\n",
    "1. Para cada estudiante\n",
    "2. Para cada materia`"
   ]
  },
  {
   "cell_type": "code",
   "execution_count": 21,
   "metadata": {},
   "outputs": [
    {
     "name": "stdout",
     "output_type": "stream",
     "text": [
      "Percentiles por estudiante (25, 50, 75):\n",
      "Estudiante 1: Percentil 25 = 34.0, Percentil 50 = 40.0, Percentil 75 = 47.5\n",
      "Estudiante 2: Percentil 25 = 60.0, Percentil 50 = 68.0, Percentil 75 = 74.0\n",
      "Estudiante 3: Percentil 25 = 88.5, Percentil 50 = 92.0, Percentil 75 = 93.5\n",
      "Estudiante 4: Percentil 25 = 75.0, Percentil 50 = 75.0, Percentil 75 = 76.5\n",
      "Estudiante 5: Percentil 25 = 13.5, Percentil 50 = 17.0, Percentil 75 = 18.5\n",
      "\n",
      "Percentiles por materia (25, 50, 75):\n",
      "Matemáticas: Percentil 25 = 40.0, Percentil 50 = 68.0, Percentil 75 = 75.0\n",
      "Ciencias: Percentil 25 = 52.0, Percentil 50 = 55.0, Percentil 75 = 75.0\n",
      "Lenguaje: Percentil 25 = 28.0, Percentil 50 = 78.0, Percentil 75 = 80.0\n"
     ]
    }
   ],
   "source": [
    "\n",
    "# 1. Percentiles para cada estudiante (por filas)\n",
    "percentiles_estudiantes = np.percentile(calificaciones, [25, 50, 75], axis=1)\n",
    "\n",
    "print(\"Percentiles por estudiante (25, 50, 75):\")\n",
    "for i, percentiles in enumerate(percentiles_estudiantes.T, 1):\n",
    "    print(f\"Estudiante {i}: Percentil 25 = {percentiles[0]}, Percentil 50 = {percentiles[1]}, Percentil 75 = {percentiles[2]}\")\n",
    "\n",
    "# 2. Percentiles para cada materia (por columnas)\n",
    "percentiles_materias = np.percentile(calificaciones, [25, 50, 75], axis=0)\n",
    "\n",
    "print(\"\\nPercentiles por materia (25, 50, 75):\")\n",
    "materias = [\"Matemáticas\", \"Ciencias\", \"Lenguaje\"]\n",
    "for i, percentiles in enumerate(percentiles_materias.T):\n",
    "    print(f\"{materias[i]}: Percentil 25 = {percentiles[0]}, Percentil 50 = {percentiles[1]}, Percentil 75 = {percentiles[2]}\")\n"
   ]
  }
 ],
 "metadata": {
  "kernelspec": {
   "display_name": "Python 3",
   "language": "python",
   "name": "python3"
  },
  "language_info": {
   "codemirror_mode": {
    "name": "ipython",
    "version": 3
   },
   "file_extension": ".py",
   "mimetype": "text/x-python",
   "name": "python",
   "nbconvert_exporter": "python",
   "pygments_lexer": "ipython3",
   "version": "3.12.4"
  }
 },
 "nbformat": 4,
 "nbformat_minor": 2
}
