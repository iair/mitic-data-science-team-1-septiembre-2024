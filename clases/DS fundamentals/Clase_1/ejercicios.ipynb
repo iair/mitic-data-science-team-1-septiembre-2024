{
 "cells": [
  {
   "cell_type": "markdown",
   "metadata": {},
   "source": [
    "## Ejercicio 1: Verificar la edad para entrar en una fiesta\n",
    "**Descripción:** El programa debe solicitar al usuario su edad y, en función de la misma, mostrar un mensaje indicando si puede entrar a una fiesta. Las reglas son las siguientes:\n",
    "\n",
    "* Si el usuario tiene menos de 18 años, se mostrará un mensaje diciendo que no puede entrar.\n",
    "* Si el usuario tiene entre 18 y 25 años (inclusive), se le permitirá entrar con una bebida sin alcohol.\n",
    "* Si el usuario tiene más de 25 años, se le permitirá entrar con una bebida alcohólica.\n",
    "\n",
    "**Objetivo**\n",
    "\n",
    "* Repasar cómo tomar input del usuario.\n",
    "* Usar condicionales para determinar la salida.\n",
    "* Mostrar mensajes usando output."
   ]
  },
  {
   "cell_type": "markdown",
   "metadata": {},
   "source": [
    "**Tareas:**\n",
    "\n",
    "1. Tengo que generar un mecanismo por el cual pueda ingresar un valor\n",
    "2. Asignar el valor ingresado a una variable y ser capaz de identificar cuál de las 3 condiciones se cumple\n",
    "3. Entregar como output el valor correspondiente a la condición cumplida"
   ]
  },
  {
   "cell_type": "code",
   "execution_count": 2,
   "metadata": {},
   "outputs": [
    {
     "name": "stdout",
     "output_type": "stream",
     "text": [
      "Lo siento, no puedes entrar a la fiesta.\n"
     ]
    }
   ],
   "source": [
    "# Pedir la edad al usuario\n",
    "edad = input(\"Por favor, introduce tu edad: \")\n",
    "if type(edad) == str:\n",
    "    edad = int(edad)\n",
    "\n",
    "# Condicionales para verificar la edad y mostrar el mensaje adecuado\n",
    "if edad < 0:\n",
    "    print(\"ingresaste un valor negativo, esto es incorrecto\")\n",
    "elif 0 <= edad < 18:\n",
    "    print(\"Lo siento, no puedes entrar a la fiesta.\")\n",
    "elif 18 <= edad <= 25:\n",
    "    print(\"Puedes entrar a la fiesta, pero solo con una bebida sin alcohol.\")\n",
    "elif 25 < edad < 140:\n",
    "    print(\"Puedes entrar a la fiesta y te ofrecemos una bebida alcohólica.\")\n",
    "else:\n",
    "    print(\"ingresaste un valor mayor que 140, esto es incorrecto\")\n"
   ]
  },
  {
   "cell_type": "markdown",
   "metadata": {},
   "source": [
    "### Solución Propuesta para el Ejercicio 1"
   ]
  },
  {
   "cell_type": "markdown",
   "metadata": {},
   "source": [
    "1. Pedir al usuario que ingrese su edad.\n",
    "\n",
    "2. Intentar convertir la entrada del usuario a un número entero.\n",
    "\n",
    "3. Capturar la excepción si el valor ingresado no es un número válido.\n",
    "\n",
    "4. Mostrar un mensaje de error si el usuario no ingresa un número.\n",
    "\n",
    "5. Verificar si la edad ingresada es menor que 0.\n",
    "\n",
    "6. Mostrar un mensaje si la edad ingresada es negativa.\n",
    "\n",
    "7. Verificar si la edad está entre 0 y 18 años.\n",
    "\n",
    "8. Mostrar un mensaje indicando que no puede asistir a la fiesta si es menor de 18.\n",
    "\n",
    "9. Verificar si la edad está entre 18 y 25 años.\n",
    "\n",
    "10. Mostrar un mensaje permitiendo la entrada solo con bebidas sin alcohol si está en este rango.\n",
    "\n",
    "11. Verificar si la edad está entre 26 y 120 años.\n",
    "\n",
    "12. Mostrar un mensaje permitiendo la entrada con bebidas alcohólicas si está en este rango.\n",
    "\n",
    "13. Verificar si la edad es mayor a 120 años.\n",
    "\n",
    "14. Mostrar un mensaje indicando que la edad ingresada es irrelevante o incorrecta."
   ]
  },
  {
   "cell_type": "code",
   "execution_count": null,
   "metadata": {},
   "outputs": [],
   "source": [
    "# Pedir la edad al usuario\n",
    "\n",
    "'''\n",
    "Aquí podría usarse try-except para intentar \n",
    "convertir el valor ingresado a un número entero.\n",
    "\n",
    "En caso de que el usuario introduzca un caracter \n",
    "no numérico, se captura la excepción y se muestra \n",
    "un mensaje indicando que debe ingresar un número válido.\n",
    "'''\n",
    "\n",
    "try:\n",
    "    edad = int(input(\"Por favor, introduce tu edad: \"))  # Convertir a entero directamente\n",
    "except ValueError:\n",
    "    print(\"Por favor, introduce un número válido.\")\n",
    "else:\n",
    "    # Condicionales para verificar la edad y mostrar el mensaje adecuado\n",
    "    if edad < 0:\n",
    "        print(\"Ingresaste un valor negativo, esto es incorrecto.\")\n",
    "    elif 0 <= edad < 18:\n",
    "        print(\"Lo siento, no puedes entrar a la fiesta.\")\n",
    "    elif 18 <= edad <= 25:\n",
    "        print(\"Puedes entrar a la fiesta, pero solo con una bebida sin alcohol.\")\n",
    "    elif 25 < edad <= 120:\n",
    "        print(\"Puedes entrar a la fiesta y te ofrecemos una bebida alcohólica.\")\n",
    "    else:\n",
    "        print(\"Ingresaste un valor mayor que 120, esto es incorrecto.\")\n"
   ]
  },
  {
   "cell_type": "markdown",
   "metadata": {},
   "source": [
    "## Ejercicio 2: Transformar frases\n",
    "\n",
    "Crea un código que tome la frase inicial entregada y la corrija de tal forma que quede igual a la frase final entregada. Donde:\n",
    "\n",
    "* Frase inicial es \"hola, soMos el mejor cursó de de Data-Science de Coding_Dojo. yahoo!!!\"\n",
    "* Frase final es \"Hola, somos el mejor curso de Data Science de Coding Dojo\""
   ]
  },
  {
   "cell_type": "markdown",
   "metadata": {},
   "source": [
    "### Soluciones posibles:\n"
   ]
  },
  {
   "cell_type": "markdown",
   "metadata": {},
   "source": [
    "Solución 1:\n",
    "\n",
    "1. Apicar una función que pase a todo a minúscula\n",
    "2. En los casos particulares aplicamos mayúsculas\n",
    "2. Reemplaza los \"-\" y \"_\" por espacios en blanco\n",
    "3. Eliminamos todos los acentos\n",
    "4. Elimine si tengo palabras duplicadas de foma consecutiva\n",
    "5. Eliminar todo lo que viene después del punto o de la palabra Dojo"
   ]
  },
  {
   "cell_type": "code",
   "execution_count": 3,
   "metadata": {},
   "outputs": [],
   "source": [
    "import unicodedata\n",
    "\n",
    "# 1. Función para convertir a minúsculas\n",
    "def convertir_minusculas(frase):\n",
    "    return frase.lower()\n",
    "\n",
    "# 2. Función para capitalizar casos particulares\n",
    "def capitalizar_palabras_clave(frase):\n",
    "    frase = frase.replace(\"data science\", \"Data Science\")\n",
    "    frase = frase.replace(\"coding dojo\", \"Coding Dojo\")\n",
    "    frase = frase.replace(\"de de\", \"de\")\n",
    "    return frase\n",
    "\n",
    "# 3. Función para reemplazar \"-\" y \"_\" por espacios\n",
    "def reemplazar_guiones(frase):\n",
    "    frase = frase.replace(\"-\", \" \").replace(\"_\", \" \")\n",
    "    return frase\n",
    "\n",
    "# 4. Función para eliminar acentos\n",
    "def eliminar_acentos(frase):\n",
    "    # Utilizamos unicodedata para eliminar acentos\n",
    "    nfkd_form = unicodedata.normalize('NFKD', frase)\n",
    "    return \"\".join([c for c in nfkd_form if not unicodedata.combining(c)])\n",
    "\n",
    "# 5. Función para eliminar todo lo que viene después de un punto o de la palabra \"Dojo\"\n",
    "def eliminar_despues_de_punto_o_dojo(frase):\n",
    "    # Encontrar el punto o la palabra \"Dojo\"\n",
    "    indice_punto = frase.find(\".\")\n",
    "    indice_dojo = frase.find(\"Dojo\")\n",
    "    \n",
    "    # Determinar cuál índice usar\n",
    "    if indice_dojo != -1:\n",
    "        return frase[:indice_dojo + len(\"Dojo\")].strip()\n",
    "    elif indice_punto != -1:\n",
    "        return frase[:indice_punto].strip()\n",
    "    else:\n",
    "        return frase.strip()\n",
    "\n",
    "# Función principal que aplica todas las transformaciones\n",
    "def transformar_frase(frase_inicial):\n",
    "    frase = convertir_minusculas(frase_inicial)\n",
    "    frase = reemplazar_guiones(frase)\n",
    "    frase = eliminar_acentos(frase)\n",
    "    frase = eliminar_despues_de_punto_o_dojo(frase)\n",
    "    frase = capitalizar_palabras_clave(frase)\n",
    "    return frase"
   ]
  },
  {
   "cell_type": "markdown",
   "metadata": {},
   "source": [
    "### Solución Propuesta para el Ejercicio 2"
   ]
  },
  {
   "cell_type": "markdown",
   "metadata": {},
   "source": [
    "1. Se importa la libreria 're' que proporciona funciones para trabajar con expresiones regulares, utilizado para búsqueda, coincidencia y manipulación de patrones en cadenas de texto.\n",
    "\n",
    "2. Se define la función transformar_frase(), que toma por entrada dos argumentos: una frase inicial y una frase final esperada. El objetivo es transformar la frase inicial para que coincida lo más posible con la frase final, aplicando una serie de reglas.\n",
    "\n",
    "3. Se imprimen la frase inicial y la frase final esperada, para visualizar el punto de partida del proceso y a dónde va orientado el proceso de transformación.\n",
    "\n",
    "4. Se normalizan: los espacios múltiples y mal ubiucados, los caracteres alfabéticos innecesarios, las mayúsculas.\n",
    "\n",
    "5. Se eliminan palabras duplicadas.\n",
    "\n",
    "6. Se corrigen términos específicos.\n",
    "\n",
    "9. Se eliminan palabras no deseadas.\n",
    "\n",
    "10. Se corrige el acento.\n",
    "\n",
    "11. Se capitalizan las palabras de acuerdo a la frase final.\n",
    "\n",
    "12. Se asergura que se mantenga la primera coma.\n",
    "\n",
    "13. Se reconstruye la frase transformada.\n",
    "\n",
    "14. Se verifica si la frase transformada coincide con la frase final.\n",
    "\n",
    "15. Se solicita el input del usuario.\n",
    "\n",
    "16. Se llama a la función transformar_frase().\n",
    "\n",
    "\n",
    "**Obs.:** Tal vez sea innecesariamente complicada, pero mi visión era definir una función que pudiera tener un uso más generalizado, que finalmente no se cumple ya que tuve que proporcionar reglas algo \"arbitrarias\", específicas para la corrección de esta frase en particular.\n",
    "Pero, técnicamente, cumple con la premisa del ejercicio."
   ]
  },
  {
   "cell_type": "code",
   "execution_count": 7,
   "metadata": {},
   "outputs": [
    {
     "name": "stdout",
     "output_type": "stream",
     "text": [
      "\n",
      "Frase inicial: hola, soMos el mejor cursó de de Data-Science de Coding_Dojo. yahoo!!!\n",
      "Frase final esperada: Hola, somos el mejor curso de Data Science de Coding Dojo\n",
      "\n",
      "Frase transformada: Hola, somos el mejor curso de Data Science de Coding Dojo\n",
      "La frase fue transformada correctamente.\n"
     ]
    }
   ],
   "source": [
    "import re\n",
    "\n",
    "def transformar_frase(frase_inicial, frase_final):\n",
    "    # Mostrar las frases inicial y final\n",
    "    print(f\"\\nFrase inicial: {frase_inicial}\")\n",
    "    print(f\"Frase final esperada: {frase_final}\\n\")\n",
    "\n",
    "    # 1. Normalizar espacios múltiples a un solo espacio y eliminar espacios al inicio y al final\n",
    "    frase_inicial = re.sub(' +', ' ', frase_inicial.strip())\n",
    "    \n",
    "    # 2. Eliminar caracteres no alfabéticos innecesarios (excepto guiones y subrayados)\n",
    "    frase_inicial = re.sub(r'[^\\w\\s,-]', '', frase_inicial)\n",
    "\n",
    "    # 3. Normalizar a minúsculas\n",
    "    frase_inicial = frase_inicial.lower()\n",
    "\n",
    "    # 4. Corregir duplicados de palabras\n",
    "    palabras = frase_inicial.split()\n",
    "    palabras_unicas = []\n",
    "    for palabra in palabras:\n",
    "        if len(palabras_unicas) == 0 or palabras_unicas[-1] != palabra:\n",
    "            palabras_unicas.append(palabra)\n",
    "    frase_inicial = \" \".join(palabras_unicas)\n",
    "\n",
    "    # 5. Corregir términos específicos\n",
    "    frase_inicial = frase_inicial.replace(\"data-science\", \"Data Science\")\n",
    "    frase_inicial = frase_inicial.replace(\"coding_dojo\", \"Coding Dojo\")\n",
    "    \n",
    "    # 6. Eliminar palabras no deseadas como \"Yahoo\" (si no aparece en la frase final)\n",
    "    frase_inicial = frase_inicial.replace(\"yahoo\", \"\").strip()\n",
    "\n",
    "    # 7. Reemplazar \"cursó\" por \"curso\" antes de capitalizar\n",
    "    frase_inicial = frase_inicial.replace(\"cursó\", \"curso\")\n",
    "\n",
    "    # 8. Capitalizar correctamente las palabras que deben estar en mayúsculas según la frase final\n",
    "    palabras_final = frase_final.split()\n",
    "    palabras_inicial = frase_inicial.split()\n",
    "\n",
    "    # Ajuste de capitalización\n",
    "    for i in range(min(len(palabras_inicial), len(palabras_final))):\n",
    "        if palabras_final[i].istitle():  # Si la palabra en la frase final está en mayúscula\n",
    "            palabras_inicial[i] = palabras_inicial[i].capitalize()\n",
    "\n",
    "    # 9. Asegurar que la coma después de \"Hola\" esté presente si aparece en la frase final\n",
    "    if \"hola,\" in frase_final.lower():\n",
    "        palabras_inicial[0] = \"Hola,\"\n",
    "\n",
    "    # Reconstruir la frase transformada\n",
    "    frase_inicial = \" \".join(palabras_inicial)\n",
    "\n",
    "    # Mostrar el resultado\n",
    "    print(f\"Frase transformada: {frase_inicial}\")\n",
    "\n",
    "    # Comprobar si la transformación es correcta\n",
    "    if frase_inicial == frase_final:\n",
    "        print(\"La frase fue transformada correctamente.\")\n",
    "    else:\n",
    "        print(f\"La frase no coincide con la esperada.\\nFrase final obtenida: {frase_inicial}\\n\")\n",
    "        diferencias = [(f_in, f_fin) for f_in, f_fin in zip(palabras_inicial, palabras_final) if f_in != f_fin]\n",
    "        print(f\"Diferencias encontradas: {diferencias}\")\n",
    "    \n",
    "# Solicitar input del usuario\n",
    "frase_inicial_input = input(\"Ingresa la frase inicial: \")\n",
    "frase_final_input = input(\"Ingresa la frase final esperada: \")\n",
    "\n",
    "# Llamar a la función\n",
    "transformar_frase(frase_inicial_input, frase_final_input)\n"
   ]
  },
  {
   "cell_type": "markdown",
   "metadata": {},
   "source": [
    "### Solución Alternativa para el Ejercicio 2"
   ]
  },
  {
   "cell_type": "markdown",
   "metadata": {},
   "source": [
    "Más sencilla, legible, menos flexible a otros errores ortográficos.\n",
    "\n",
    "1. Imprimir la frase inicial.\n",
    "\n",
    "2. Eliminar todo después del punto: Si la frase tiene un punto, se elimina todo lo que esté después del primer punto.\n",
    "\n",
    "3. Eliminar espacios adicionales: Si hay espacios extra entre palabras, se reducen a un solo espacio.\n",
    "\n",
    "4. Eliminar caracteres no deseados: Quitamos cualquier signo de puntuación o símbolo, excepto comas, letras, números y guiones.\n",
    "\n",
    "5. Convertir a minúsculas: Convertimos toda la frase a minúsculas para facilitar la comparación y transformación.\n",
    "\n",
    "6. Eliminar palabras duplicadas consecutivas: Si una palabra se repite inmediatamente, como \"de de\", eliminamos la repetición.\n",
    "\n",
    "7. Corregir términos específicos: Arreglamos palabras o expresiones como \"data-science\", transformándolas en \"Data Science\", o \"Coding_Dojo\" a \"Coding Dojo\".\n",
    "\n",
    "8. Corregir errores ortográficos: Cambiamos errores ortográficos conocidos, como \"cursó\" a \"curso\".\n",
    "\n",
    "9. Capitalizar palabras importantes: Ponemos en mayúscula las palabras clave o nombres propios, como \"Hola\" o \"Data Science\". \n",
    "\n",
    "10. Reconstruir la frase final.\n",
    "\n",
    "11. Comprobar el resultado."
   ]
  },
  {
   "cell_type": "code",
   "execution_count": 24,
   "metadata": {},
   "outputs": [
    {
     "name": "stdout",
     "output_type": "stream",
     "text": [
      "Frase inicial: hola, soMos el mejor cursó de de Data-Science de Coding_Dojo. yahoo!!!\n",
      "Frase final corregida: Hola, somos el mejor curso de Data Science de Coding Dojo\n",
      "La frase corregida coincide con la frase final esperada.\n"
     ]
    }
   ],
   "source": [
    "import re\n",
    "\n",
    "def transformar_frase(frase_inicial):\n",
    "    # Imprimir la frase inicial\n",
    "    print(f\"Frase inicial: {frase_inicial}\")\n",
    "    \n",
    "    # 1. Eliminar todo lo que sigue después del primer punto\n",
    "    frase_inicial = re.split(r'\\.', frase_inicial)[0]\n",
    "    \n",
    "    # 2. Normalizar espacios y mantener comas (eliminar otros caracteres no deseados)\n",
    "    frase_inicial = re.sub(r'\\s+', ' ', frase_inicial.strip())  # Eliminar espacios adicionales\n",
    "    frase_inicial = re.sub(r'[^\\w\\s,-]', '', frase_inicial)  # Mantener comas y eliminar otros caracteres\n",
    "\n",
    "    # 3. Convertir todo a minúsculas para homogeneizar\n",
    "    frase_inicial = frase_inicial.lower()\n",
    "\n",
    "    # 4. Corregir duplicación de palabras (como \"de de\")\n",
    "    frase_inicial = re.sub(r'\\b(\\w+)\\s+\\1\\b', r'\\1', frase_inicial)\n",
    "\n",
    "    # 5. Corregir palabras específicas con formato incorrecto\n",
    "    frase_inicial = frase_inicial.replace(\"data-science\", \"Data Science\")  # Corregir \"Data Science\"\n",
    "    frase_inicial = frase_inicial.replace(\"coding_dojo\", \"Coding Dojo\")  # Corregir \"Coding Dojo\"\n",
    "\n",
    "    # 6. Corregir errores ortográficos o gramaticales\n",
    "    frase_inicial = frase_inicial.replace(\"cursó\", \"curso\")  # Cambiar \"cursó\" por \"curso\"\n",
    "\n",
    "    # 7. Ajustar capitalización de las palabras al principio de la oración y otras palabras importantes\n",
    "    palabras = frase_inicial.split()\n",
    "    palabras[0] = palabras[0].capitalize()  # Capitalizar la primera palabra\n",
    "    for i in range(len(palabras)):\n",
    "        if palabras[i] in [\"data\", \"science\", \"coding\", \"dojo\"]:  # Capitalizar palabras clave\n",
    "            palabras[i] = palabras[i].capitalize()\n",
    "\n",
    "    # Reconstruir la frase final\n",
    "    frase_final = \" \".join(palabras)\n",
    "    \n",
    "    # Resultado final esperado\n",
    "    return frase_final\n",
    "\n",
    "# Frase inicial para probar\n",
    "frase_inicial = \"hola, soMos el mejor cursó de de Data-Science de Coding_Dojo. yahoo!!!\"\n",
    "# Frase final esperada\n",
    "frase_final_esperada = \"Hola, somos el mejor curso de Data Science de Coding Dojo\"\n",
    "\n",
    "# Llamar a la función y mostrar el resultado final exacto\n",
    "frase_final_corregida = transformar_frase(frase_inicial)\n",
    "print(f\"Frase final corregida: {frase_final_corregida}\")\n",
    "\n",
    "# Comprobación\n",
    "if frase_final_corregida == frase_final_esperada:\n",
    "    print(\"La frase corregida coincide con la frase final esperada.\")\n",
    "else:\n",
    "    print(f\"La frase corregida no coincide con la frase final esperada. \\nFrase corregida: {frase_final_corregida}\")"
   ]
  },
  {
   "cell_type": "markdown",
   "metadata": {},
   "source": [
    "## Ejercicio 3 : Verificar la contraseña de un usuario\n",
    "\n",
    "**Descripción:** El programa debe pedir al usuario un nombre y una contraseña. Después de eso, verificará si la contraseña ingresada cumple con ciertos criterios:\n",
    "\n",
    "* La contraseña debe tener al menos 8 caracteres.\n",
    "* Debe contener al menos una letra mayúscula.\n",
    "* Debe contener al menos un número.\n",
    "* Si la contraseña cumple con todos los criterios, el programa dirá que el registro fue exitoso; si no, indicará qué condición no se cumplió y pedirá al usuario que lo intente nuevamente.\n",
    "\n",
    "**Objetivos:**\n",
    "\n",
    "* Repasar cómo definir y usar funciones.\n",
    "* Manejar input y output de manera dinámica.\n",
    "* Usar condicionales para verificar múltiples criterios.\n",
    "* Manipular cadenas de texto (uso de métodos como .isupper(), .isdigit(), etc.)."
   ]
  },
  {
   "cell_type": "markdown",
   "metadata": {},
   "source": [
    "### Lógica a seguir\n",
    "**1. Solicitar el nombre del usuario:**\n",
    "\n",
    "El código comienza pidiendo al usuario que introduzca su nombre. Esto se guarda para luego mostrar un mensaje de éxito cuando la contraseña sea válida.\n",
    "\n",
    "**2. Solicitar la contraseña:**\n",
    "\n",
    "En cada iteración, el código solicita al usuario que ingrese una contraseña. Este proceso continúa hasta que la contraseña sea válida.\n",
    "\n",
    "**3. Verificación de la longitud de la contraseña:**\n",
    "\n",
    "La primera condición que se verifica es si la contraseña tiene al menos 8 caracteres. Si la longitud es inferior, se muestra un mensaje informando al usuario de este error y se le pide que lo intente nuevamente.\n",
    "\n",
    "**4. Verificación de letras mayúsculas:**\n",
    "\n",
    "Si la contraseña tiene la longitud adecuada, el siguiente paso es comprobar si contiene al menos una letra mayúscula. Si no la contiene, el usuario recibe un mensaje indicando la falta de una letra mayúscula y se le pide que lo intente de nuevo.\n",
    "\n",
    "**5. Verificación de números:**\n",
    "\n",
    "Si la contraseña tiene al menos una letra mayúscula, el código procede a verificar si contiene al menos un número. Si no se encuentra un número, el usuario es informado y se le solicita que ingrese una nueva contraseña.\n",
    "\n",
    "**6. Mensajes de error por cada verificación fallida:**\n",
    "\n",
    "Por cada verificación fallida (longitud, mayúsculas o números), se muestra un mensaje de error específico. Tras cada mensaje de error, el programa solicita una nueva contraseña.\n",
    "\n",
    "**7. Registro exitoso:**\n",
    "\n",
    "Una vez que la contraseña cumple con todos los requisitos (longitud, mayúsculas y números), el código muestra un mensaje de \"Registro exitoso\" utilizando el nombre que el usuario introdujo al inicio."
   ]
  },
  {
   "cell_type": "code",
   "execution_count": 6,
   "metadata": {},
   "outputs": [
    {
     "name": "stdout",
     "output_type": "stream",
     "text": [
      "La contraseña debe tener al menos 8 caracteres.\n",
      "Por favor, intenta nuevamente.\n",
      "La contraseña debe contener al menos una letra mayúscula.\n",
      "Por favor, intenta nuevamente.\n",
      "La contraseña debe contener al menos un número.\n",
      "Por favor, intenta nuevamente.\n",
      "Registro exitoso, Andrea!\n"
     ]
    }
   ],
   "source": [
    "def verificar_contraseña(contraseña):\n",
    "    # Verificar si la longitud es al menos 8 caracteres\n",
    "    if len(contraseña) < 8:\n",
    "        print(\"La contraseña debe tener al menos 8 caracteres.\")\n",
    "        return False\n",
    "    \n",
    "    # Verificar si contiene al menos una letra mayúscula\n",
    "    if not any(letra.isupper() for letra in contraseña):\n",
    "        print(\"La contraseña debe contener al menos una letra mayúscula.\")\n",
    "        return False\n",
    "    \n",
    "    # Verificar si contiene al menos un número\n",
    "    if not any(letra.isdigit() for letra in contraseña):\n",
    "        print(\"La contraseña debe contener al menos un número.\")\n",
    "        return False\n",
    "    \n",
    "    # Si cumple con todos los criterios\n",
    "    return True\n",
    "\n",
    "def solicitar_datos_usuario():\n",
    "    nombre = input(\"Por favor, introduce tu nombre: \")\n",
    "    contraseña_valida = False\n",
    "    \n",
    "    while not contraseña_valida:\n",
    "        contraseña = input(\"Introduce tu contraseña: \")\n",
    "        # Solo llamar a verificar_contraseña una vez por ciclo\n",
    "        contraseña_valida = verificar_contraseña(contraseña)\n",
    "        if not contraseña_valida:\n",
    "            print(\"Por favor, intenta nuevamente.\")\n",
    "    \n",
    "    # Si la contraseña es válida, mostrar mensaje de registro exitoso\n",
    "    print(f\"Registro exitoso, {nombre}!\")\n",
    "\n",
    "# Iniciar el proceso de registro\n",
    "solicitar_datos_usuario()\n",
    "\n",
    "''' \n",
    "Para demostrar que el código funciona correctamente, \n",
    "se usaron una serie de entradas para verificar cada condición. \n",
    "Cuando se ingresa una contraseña demasiado corta (`abcD1`), \n",
    "el código muestra un mensaje de error indicando \n",
    "que debe tener al menos 8 caracteres. \n",
    "Si se proporciona una contraseña que no tiene mayúsculas (`abcd1234`), \n",
    "el sistema indica que debe incluir al menos una. \n",
    "Si no contiene un número (`Abcdefgh`), se informa que debe agregar uno. \n",
    "Finalmente, cuando se ingresa una contraseña válida (`Abcdefg1`), \n",
    "el registro es exitoso y se muestra un mensaje de confirmación.\n",
    "\n",
    "'''"
   ]
  },
  {
   "cell_type": "markdown",
   "metadata": {},
   "source": [
    "## Ejercicio 4: Análisis de Calificaciones de Estudiantes"
   ]
  },
  {
   "cell_type": "markdown",
   "metadata": {},
   "source": [
    "**Descripción del problema** Supongamos que tenemos las calificaciones de un grupo de estudiantes en 3 materias: Matemáticas, Ciencias y Lenguaje. Queremos realizar varias operaciones utilizando arrays para analizar las calificaciones y calcular estadísticas.\n",
    "\n",
    "**Instrucciones:**\n",
    "\n",
    "* Creación de arrays: Crea un array bidimensional donde cada fila represente un estudiante y cada columna las calificaciones en Matemáticas, Ciencias y Lenguaje.\n",
    "* Propiedades y Métodos: Imprime las propiedades del array, como su forma (shape), número de elementos (size) y tipo de datos (dtype).\n",
    "* Operaciones básicas: Calcula la calificación promedio por materia y por estudiante.\n",
    "* Multiplicación y división: Multiplica las calificaciones de todos los estudiantes por 1.1 (simulando una mejora del 10% en todas las calificaciones) y divide las calificaciones de Ciencias por 2 (simulando que el peso de Ciencias es la mitad que el de otras materias).\n",
    "* Operaciones universales (ufuncs): Aplica una función universal (ufunc) como la raíz cuadrada de las calificaciones mejoradas.\n",
    "* Indexación y slicing: Extrae las calificaciones de Matemáticas de todos los estudiantes.\n",
    "* Suma y producto: Calcula la suma total y el producto de las calificaciones por estudiante.\n",
    "* Estadísticas básicas: Calcula el promedio, la desviación estándar y el máximo de las calificaciones en cada materia.\n",
    "* Agregaciones en arrays multidimensionales: Calcula la suma de las calificaciones por materia."
   ]
  },
  {
   "cell_type": "code",
   "execution_count": 7,
   "metadata": {},
   "outputs": [
    {
     "name": "stdout",
     "output_type": "stream",
     "text": [
      "Propiedades del array:\n",
      "Forma (shape): (5, 3)\n",
      "Número de elementos (size): 15\n",
      "Tipo de datos (dtype): int64\n",
      "\n",
      "\n"
     ]
    }
   ],
   "source": [
    "import numpy as np\n",
    "\n",
    "# 1. Creación de un array bidimensional con las calificaciones de los estudiantes\n",
    "calificaciones = np.array([\n",
    "    [60, 70, 85],  # Estudiante 1: Matemáticas, Ciencias, Lenguaje\n",
    "    [78, 88, 91],  # Estudiante 2\n",
    "    [92, 90, 95],  # Estudiante 3\n",
    "    [85, 80, 88],  # Estudiante 4\n",
    "    [75, 82, 70]   # Estudiante 5\n",
    "])\n",
    "\n",
    "# 2. Propiedades del array\n",
    "print(\"Propiedades del array:\")\n",
    "print(f\"Forma (shape): {calificaciones.shape}\")\n",
    "print(f\"Número de elementos (size): {calificaciones.size}\")\n",
    "print(f\"Tipo de datos (dtype): {calificaciones.dtype}\")\n",
    "print(\"\\n\")"
   ]
  },
  {
   "cell_type": "code",
   "execution_count": 9,
   "metadata": {},
   "outputs": [
    {
     "name": "stdout",
     "output_type": "stream",
     "text": [
      "Operaciones básicas:\n",
      "Suma total de las calificaciones: [78.  82.  85.8]\n",
      "Promedio de calificaciones por estudiante: [71.66666667 85.66666667 92.33333333 84.33333333 75.66666667]\n",
      "\n",
      "\n"
     ]
    }
   ],
   "source": [
    "# 3. Operaciones básicas\n",
    "print(\"Operaciones básicas:\")\n",
    "suma_total = np.mean(calificaciones, axis=0)\n",
    "promedio_estudiante = np.mean(calificaciones, axis=1)\n",
    "print(f\"Suma total de las calificaciones: {suma_total}\")\n",
    "print(f\"Promedio de calificaciones por estudiante: {promedio_estudiante}\")\n",
    "print(\"\\n\")\n"
   ]
  },
  {
   "cell_type": "code",
   "execution_count": 10,
   "metadata": {},
   "outputs": [
    {
     "name": "stdout",
     "output_type": "stream",
     "text": [
      "Multiplicación y división:\n",
      "Calificaciones mejoradas (10%): \n",
      "[[ 66.   77.   93.5]\n",
      " [ 85.8  96.8 100.1]\n",
      " [101.2  99.  104.5]\n",
      " [ 93.5  88.   96.8]\n",
      " [ 82.5  90.2  77. ]]\n",
      "Calificaciones de Ciencias divididas por 2: [35. 44. 45. 40. 41.]\n",
      "\n",
      "\n"
     ]
    }
   ],
   "source": [
    "# 4. Multiplicación y división\n",
    "print(\"Multiplicación y división:\")\n",
    "mejora_10_por_ciento = calificaciones * 1.1  # Mejora del 10% en todas las calificaciones\n",
    "#mejora_10_por_ciento_alumno_1 = calificaciones[0,0:] * 1.1 \n",
    "calificaciones_ciencias_mitad = calificaciones[:, 1] / 2  # División de Ciencias por 2\n",
    "#calificaciones_ciencias_mitad = calificaciones[:, 1:3] / 2  # División de Ciencias y lenguaje por 2\n",
    "print(f\"Calificaciones mejoradas (10%): \\n{mejora_10_por_ciento}\")\n",
    "print(f\"Calificaciones de Ciencias divididas por 2: {calificaciones_ciencias_mitad}\")\n",
    "print(\"\\n\")"
   ]
  },
  {
   "cell_type": "code",
   "execution_count": 11,
   "metadata": {},
   "outputs": [
    {
     "name": "stdout",
     "output_type": "stream",
     "text": [
      "Operaciones universales (ufuncs):\n",
      "Raíz cuadrada de las calificaciones mejoradas: \n",
      "[[ 8.1240384   8.77496439  9.6695398 ]\n",
      " [ 9.26282894  9.8386991  10.00499875]\n",
      " [10.05982107  9.94987437 10.22252415]\n",
      " [ 9.6695398   9.38083152  9.8386991 ]\n",
      " [ 9.08295106  9.49736806  8.77496439]]\n",
      "\n",
      "\n"
     ]
    }
   ],
   "source": [
    "# 5. Operaciones universales (ufuncs)\n",
    "print(\"Operaciones universales (ufuncs):\")\n",
    "raiz_calificaciones_mejoradas = np.sqrt(mejora_10_por_ciento)\n",
    "print(f\"Raíz cuadrada de las calificaciones mejoradas: \\n{raiz_calificaciones_mejoradas}\")\n",
    "print(\"\\n\")"
   ]
  },
  {
   "cell_type": "code",
   "execution_count": 12,
   "metadata": {},
   "outputs": [
    {
     "name": "stdout",
     "output_type": "stream",
     "text": [
      "Indexación y slicing:\n",
      "Calificaciones en Matemáticas de todos los estudiantes: [60 78 92 85 75]\n",
      "\n",
      "\n"
     ]
    }
   ],
   "source": [
    "# 6. Indexación y slicing\n",
    "print(\"Indexación y slicing:\")\n",
    "calificaciones_matematicas = calificaciones[:, 0]  # Extraer las calificaciones de Matemáticas\n",
    "print(f\"Calificaciones en Matemáticas de todos los estudiantes: {calificaciones_matematicas}\")\n",
    "print(\"\\n\")"
   ]
  },
  {
   "cell_type": "code",
   "execution_count": 13,
   "metadata": {},
   "outputs": [
    {
     "name": "stdout",
     "output_type": "stream",
     "text": [
      "Suma y producto:\n",
      "Suma total de calificaciones por estudiante: [215 257 277 253 227]\n",
      "Producto de calificaciones por estudiante: [357000 624624 786600 598400 430500]\n",
      "\n",
      "\n"
     ]
    }
   ],
   "source": [
    "# 7. Suma y producto\n",
    "print(\"Suma y producto:\")\n",
    "suma_por_estudiante = np.sum(calificaciones, axis=1)\n",
    "producto_por_estudiante = np.prod(calificaciones, axis=1)\n",
    "print(f\"Suma total de calificaciones por estudiante: {suma_por_estudiante}\")\n",
    "print(f\"Producto de calificaciones por estudiante: {producto_por_estudiante}\")\n",
    "print(\"\\n\")"
   ]
  },
  {
   "cell_type": "code",
   "execution_count": 14,
   "metadata": {},
   "outputs": [
    {
     "name": "stdout",
     "output_type": "stream",
     "text": [
      "Estadísticas básicas:\n",
      "Promedio de calificaciones por materia: [78.  82.  85.8]\n",
      "Desviación estándar por materia: [10.75174404  7.04272674  8.56504524]\n",
      "Calificación mínima por materia: [60 70 70]\n",
      "Calificación máxima por materia: [92 90 95]\n",
      "Calificación máxima por materia: [13.78428724  8.58869115  9.98257021]\n",
      "\n",
      "\n"
     ]
    }
   ],
   "source": [
    "# 8. Estadísticas básicas\n",
    "print(\"Estadísticas básicas:\")\n",
    "promedio_materias = np.mean(calificaciones, axis=0)\n",
    "desviacion_estandar_materias = np.std(calificaciones, axis=0)\n",
    "minima_materias = np.min(calificaciones, axis=0)\n",
    "maximo_materias = np.max(calificaciones, axis=0)\n",
    "coeficiente_variacion = 100 * desviacion_estandar_materias/promedio_materias\n",
    "print(f\"Promedio de calificaciones por materia: {promedio_materias}\")\n",
    "print(f\"Desviación estándar por materia: {desviacion_estandar_materias}\")\n",
    "print(f\"Calificación mínima por materia: {minima_materias}\")\n",
    "print(f\"Calificación máxima por materia: {maximo_materias}\")\n",
    "print(f\"Calificación máxima por materia: {coeficiente_variacion}\")\n",
    "print(\"\\n\")"
   ]
  },
  {
   "cell_type": "code",
   "execution_count": 15,
   "metadata": {},
   "outputs": [
    {
     "name": "stdout",
     "output_type": "stream",
     "text": [
      "Agregaciones en arrays multidimensionales:\n",
      "Suma total de calificaciones por materia: [390 410 429]\n"
     ]
    }
   ],
   "source": [
    "# 9. Agregaciones en arrays multidimensionales\n",
    "print(\"Agregaciones en arrays multidimensionales:\")\n",
    "suma_por_materia = np.sum(calificaciones, axis=0)\n",
    "print(f\"Suma total de calificaciones por materia: {suma_por_materia}\")"
   ]
  },
  {
   "cell_type": "markdown",
   "metadata": {},
   "source": [
    "### Calcular percentil 25, 50, 75 sobre el arreglo de calificaciones:\n",
    "\n",
    "1. Para cada estudiante\n",
    "2. Para cada materia"
   ]
  },
  {
   "cell_type": "code",
   "execution_count": 16,
   "metadata": {},
   "outputs": [
    {
     "name": "stdout",
     "output_type": "stream",
     "text": [
      "Percentiles 25, 50, 75 para cada estudiante:\n",
      " [[65.  83.  91.  82.5 72.5]\n",
      " [70.  88.  92.  85.  75. ]\n",
      " [77.5 89.5 93.5 86.5 78.5]]\n",
      "\n",
      "Percentiles 25, 50, 75 para cada materia:\n",
      " [[75. 80. 85.]\n",
      " [78. 82. 88.]\n",
      " [85. 88. 91.]]\n"
     ]
    }
   ],
   "source": [
    "\n",
    "# Calcular percentiles 25, 50 y 75 para cada estudiante (axis 1)\n",
    "percentiles_estudiantes = np.percentile(calificaciones, [25, 50, 75], axis=1)\n",
    "\n",
    "# Calcular percentiles 25, 50 y 75 para cada materia (axis 0)\n",
    "percentiles_materias = np.percentile(calificaciones, [25, 50, 75], axis=0)\n",
    "\n",
    "# Mostrar los resultados\n",
    "print(\"Percentiles 25, 50, 75 para cada estudiante:\\n\", percentiles_estudiantes)\n",
    "print(\"\\nPercentiles 25, 50, 75 para cada materia:\\n\", percentiles_materias)\n"
   ]
  }
 ],
 "metadata": {
  "kernelspec": {
   "display_name": "base",
   "language": "python",
   "name": "python3"
  },
  "language_info": {
   "codemirror_mode": {
    "name": "ipython",
    "version": 3
   },
   "file_extension": ".py",
   "mimetype": "text/x-python",
   "name": "python",
   "nbconvert_exporter": "python",
   "pygments_lexer": "ipython3",
   "version": "3.12.2"
  }
 },
 "nbformat": 4,
 "nbformat_minor": 2
}
