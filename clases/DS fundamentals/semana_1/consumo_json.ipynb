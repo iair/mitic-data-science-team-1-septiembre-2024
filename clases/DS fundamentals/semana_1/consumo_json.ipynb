{
 "cells": [
  {
   "cell_type": "markdown",
   "metadata": {},
   "source": [
    "## Ejercicio para la casa optativo\n",
    "\n",
    "1. Consumir el json\n",
    "2. Imprimir con profundidad 2"
   ]
  },
  {
   "cell_type": "code",
   "execution_count": 4,
   "metadata": {},
   "outputs": [
    {
     "data": {
      "text/plain": [
       "{'nombre': 'Iair',\n",
       " 'apellidos': 'Linker',\n",
       " 'edad': 38,\n",
       " 'hobbies': ['leer', 'trail running', 'analizar datos', 'surf'],\n",
       " 'educacion': {'primaria': 'Colegio San Marcos',\n",
       "  'Universidad': 'Escuela B',\n",
       "  'universidad': 'Universidad C'},\n",
       " 'trabajos': {'Profesionales': {'data_science': 'Meta',\n",
       "   'data_engineer': 'Microsoft'},\n",
       "  'Docencia': 'Coding Dojo',\n",
       "  'Voluntariado': 'Ascesorias a junior'}}"
      ]
     },
     "execution_count": 4,
     "metadata": {},
     "output_type": "execute_result"
    }
   ],
   "source": [
    "import json\n",
    "# Cargar el JSON desde un archivo\n",
    "path = '../data/ejemplo.json'\n",
    "with open(path, 'r') as file:\n",
    "    data = json.load(file)\n",
    "data"
   ]
  },
  {
   "cell_type": "code",
   "execution_count": 3,
   "metadata": {},
   "outputs": [
    {
     "name": "stdout",
     "output_type": "stream",
     "text": [
      "{'apellidos': 'Linker',\n",
      " 'edad': 38,\n",
      " 'educacion': {'Universidad': 'Escuela B',\n",
      "               'primaria': 'Colegio San Marcos',\n",
      "               'universidad': 'Universidad C'},\n",
      " 'hobbies': ['leer', 'trail running', 'analizar datos', 'surf'],\n",
      " 'nombre': 'Iair',\n",
      " 'trabajos': {'Docencia': 'Coding Dojo',\n",
      "              'Profesionales': {...},\n",
      "              'Voluntariado': 'Ascesorias a junior'}}\n"
     ]
    }
   ],
   "source": [
    "from pprint import pprint\n",
    "# Usar pprint para imprimir el contenido con profundidad\n",
    "pprint(data, depth=2)"
   ]
  }
 ],
 "metadata": {
  "kernelspec": {
   "display_name": "base",
   "language": "python",
   "name": "python3"
  },
  "language_info": {
   "codemirror_mode": {
    "name": "ipython",
    "version": 3
   },
   "file_extension": ".py",
   "mimetype": "text/x-python",
   "name": "python",
   "nbconvert_exporter": "python",
   "pygments_lexer": "ipython3",
   "version": "3.12.2"
  }
 },
 "nbformat": 4,
 "nbformat_minor": 2
}
