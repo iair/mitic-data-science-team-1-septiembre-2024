{
 "cells": [
  {
   "cell_type": "code",
   "execution_count": 29,
   "metadata": {},
   "outputs": [],
   "source": [
    "import numpy as np\n",
    "import pandas as pd\n",
    "import matplotlib.pyplot as plt\n",
    "import time\n",
    "import pprint"
   ]
  },
  {
   "cell_type": "markdown",
   "metadata": {},
   "source": [
    "### Etapa 1: Operaciones columnares"
   ]
  },
  {
   "cell_type": "code",
   "execution_count": 2,
   "metadata": {},
   "outputs": [
    {
     "name": "stdout",
     "output_type": "stream",
     "text": [
      "(3051, 10)\n"
     ]
    },
    {
     "data": {
      "text/html": [
       "<div>\n",
       "<style scoped>\n",
       "    .dataframe tbody tr th:only-of-type {\n",
       "        vertical-align: middle;\n",
       "    }\n",
       "\n",
       "    .dataframe tbody tr th {\n",
       "        vertical-align: top;\n",
       "    }\n",
       "\n",
       "    .dataframe thead th {\n",
       "        text-align: right;\n",
       "    }\n",
       "</style>\n",
       "<table border=\"1\" class=\"dataframe\">\n",
       "  <thead>\n",
       "    <tr style=\"text-align: right;\">\n",
       "      <th></th>\n",
       "      <th>Division</th>\n",
       "      <th>Calendar_Week</th>\n",
       "      <th>Paid_Views</th>\n",
       "      <th>Organic_Views</th>\n",
       "      <th>Google_Impressions</th>\n",
       "      <th>Email_Impressions</th>\n",
       "      <th>Facebook_Impressions</th>\n",
       "      <th>Affiliate_Impressions</th>\n",
       "      <th>Overall_Views</th>\n",
       "      <th>Sales</th>\n",
       "    </tr>\n",
       "  </thead>\n",
       "  <tbody>\n",
       "    <tr>\n",
       "      <th>0</th>\n",
       "      <td>A</td>\n",
       "      <td>1/6/2018</td>\n",
       "      <td>392</td>\n",
       "      <td>422</td>\n",
       "      <td>408</td>\n",
       "      <td>349895.0107</td>\n",
       "      <td>73580</td>\n",
       "      <td>12072</td>\n",
       "      <td>682</td>\n",
       "      <td>59417</td>\n",
       "    </tr>\n",
       "    <tr>\n",
       "      <th>1</th>\n",
       "      <td>A</td>\n",
       "      <td>1/13/2018</td>\n",
       "      <td>787</td>\n",
       "      <td>904</td>\n",
       "      <td>110</td>\n",
       "      <td>506270.2176</td>\n",
       "      <td>11804</td>\n",
       "      <td>9499</td>\n",
       "      <td>853</td>\n",
       "      <td>56806</td>\n",
       "    </tr>\n",
       "  </tbody>\n",
       "</table>\n",
       "</div>"
      ],
      "text/plain": [
       "  Division Calendar_Week  Paid_Views  Organic_Views  Google_Impressions  \\\n",
       "0        A      1/6/2018         392            422                 408   \n",
       "1        A     1/13/2018         787            904                 110   \n",
       "\n",
       "   Email_Impressions  Facebook_Impressions  Affiliate_Impressions  \\\n",
       "0        349895.0107                 73580                  12072   \n",
       "1        506270.2176                 11804                   9499   \n",
       "\n",
       "   Overall_Views  Sales  \n",
       "0            682  59417  \n",
       "1            853  56806  "
      ]
     },
     "execution_count": 2,
     "metadata": {},
     "output_type": "execute_result"
    }
   ],
   "source": [
    "path = '../data/sample_media_spend.csv'\n",
    "df = pd.read_csv(filepath_or_buffer=path, sep= ',', header=0)\n",
    "print(df.shape)\n",
    "df.head(2)"
   ]
  },
  {
   "cell_type": "code",
   "execution_count": 5,
   "metadata": {},
   "outputs": [
    {
     "name": "stdout",
     "output_type": "stream",
     "text": [
      "0.009654045104980469\n"
     ]
    },
    {
     "data": {
      "text/html": [
       "<div>\n",
       "<style scoped>\n",
       "    .dataframe tbody tr th:only-of-type {\n",
       "        vertical-align: middle;\n",
       "    }\n",
       "\n",
       "    .dataframe tbody tr th {\n",
       "        vertical-align: top;\n",
       "    }\n",
       "\n",
       "    .dataframe thead th {\n",
       "        text-align: right;\n",
       "    }\n",
       "</style>\n",
       "<table border=\"1\" class=\"dataframe\">\n",
       "  <thead>\n",
       "    <tr style=\"text-align: right;\">\n",
       "      <th></th>\n",
       "      <th>Paid_Views</th>\n",
       "      <th>Organic_Views</th>\n",
       "      <th>Google_Impressions</th>\n",
       "      <th>Email_Impressions</th>\n",
       "      <th>Facebook_Impressions</th>\n",
       "      <th>Affiliate_Impressions</th>\n",
       "      <th>Overall_Views</th>\n",
       "      <th>Sales</th>\n",
       "    </tr>\n",
       "  </thead>\n",
       "  <tbody>\n",
       "    <tr>\n",
       "      <th>count</th>\n",
       "      <td>3051.000000</td>\n",
       "      <td>3051.000000</td>\n",
       "      <td>3.051000e+03</td>\n",
       "      <td>3.051000e+03</td>\n",
       "      <td>3.051000e+03</td>\n",
       "      <td>3051.000000</td>\n",
       "      <td>3051.000000</td>\n",
       "      <td>3.051000e+03</td>\n",
       "    </tr>\n",
       "    <tr>\n",
       "      <th>mean</th>\n",
       "      <td>15093.941658</td>\n",
       "      <td>13355.673222</td>\n",
       "      <td>8.861738e+05</td>\n",
       "      <td>7.605094e+05</td>\n",
       "      <td>2.691269e+05</td>\n",
       "      <td>22910.902655</td>\n",
       "      <td>27980.914127</td>\n",
       "      <td>1.859014e+05</td>\n",
       "    </tr>\n",
       "    <tr>\n",
       "      <th>std</th>\n",
       "      <td>30785.884979</td>\n",
       "      <td>24079.399689</td>\n",
       "      <td>1.355076e+06</td>\n",
       "      <td>6.260141e+05</td>\n",
       "      <td>4.665117e+05</td>\n",
       "      <td>21617.637497</td>\n",
       "      <td>52054.976687</td>\n",
       "      <td>2.322079e+05</td>\n",
       "    </tr>\n",
       "    <tr>\n",
       "      <th>min</th>\n",
       "      <td>1.000000</td>\n",
       "      <td>1.000000</td>\n",
       "      <td>7.000000e+00</td>\n",
       "      <td>4.089445e+04</td>\n",
       "      <td>2.900000e+01</td>\n",
       "      <td>910.000000</td>\n",
       "      <td>2.000000</td>\n",
       "      <td>1.543600e+04</td>\n",
       "    </tr>\n",
       "    <tr>\n",
       "      <th>25%</th>\n",
       "      <td>537.000000</td>\n",
       "      <td>712.500000</td>\n",
       "      <td>1.698280e+05</td>\n",
       "      <td>3.784969e+05</td>\n",
       "      <td>5.707350e+04</td>\n",
       "      <td>9127.000000</td>\n",
       "      <td>747.000000</td>\n",
       "      <td>7.339350e+04</td>\n",
       "    </tr>\n",
       "    <tr>\n",
       "      <th>50%</th>\n",
       "      <td>2699.000000</td>\n",
       "      <td>4110.000000</td>\n",
       "      <td>4.905310e+05</td>\n",
       "      <td>5.909708e+05</td>\n",
       "      <td>1.275230e+05</td>\n",
       "      <td>16658.000000</td>\n",
       "      <td>7879.000000</td>\n",
       "      <td>1.135730e+05</td>\n",
       "    </tr>\n",
       "    <tr>\n",
       "      <th>75%</th>\n",
       "      <td>17358.000000</td>\n",
       "      <td>16230.500000</td>\n",
       "      <td>1.022622e+06</td>\n",
       "      <td>9.622466e+05</td>\n",
       "      <td>2.835050e+05</td>\n",
       "      <td>27486.500000</td>\n",
       "      <td>34111.500000</td>\n",
       "      <td>2.029755e+05</td>\n",
       "    </tr>\n",
       "    <tr>\n",
       "      <th>max</th>\n",
       "      <td>518190.000000</td>\n",
       "      <td>270453.000000</td>\n",
       "      <td>1.715044e+07</td>\n",
       "      <td>7.317730e+06</td>\n",
       "      <td>7.558435e+06</td>\n",
       "      <td>175791.000000</td>\n",
       "      <td>635057.000000</td>\n",
       "      <td>3.575430e+06</td>\n",
       "    </tr>\n",
       "  </tbody>\n",
       "</table>\n",
       "</div>"
      ],
      "text/plain": [
       "          Paid_Views  Organic_Views  Google_Impressions  Email_Impressions  \\\n",
       "count    3051.000000    3051.000000        3.051000e+03       3.051000e+03   \n",
       "mean    15093.941658   13355.673222        8.861738e+05       7.605094e+05   \n",
       "std     30785.884979   24079.399689        1.355076e+06       6.260141e+05   \n",
       "min         1.000000       1.000000        7.000000e+00       4.089445e+04   \n",
       "25%       537.000000     712.500000        1.698280e+05       3.784969e+05   \n",
       "50%      2699.000000    4110.000000        4.905310e+05       5.909708e+05   \n",
       "75%     17358.000000   16230.500000        1.022622e+06       9.622466e+05   \n",
       "max    518190.000000  270453.000000        1.715044e+07       7.317730e+06   \n",
       "\n",
       "       Facebook_Impressions  Affiliate_Impressions  Overall_Views  \\\n",
       "count          3.051000e+03            3051.000000    3051.000000   \n",
       "mean           2.691269e+05           22910.902655   27980.914127   \n",
       "std            4.665117e+05           21617.637497   52054.976687   \n",
       "min            2.900000e+01             910.000000       2.000000   \n",
       "25%            5.707350e+04            9127.000000     747.000000   \n",
       "50%            1.275230e+05           16658.000000    7879.000000   \n",
       "75%            2.835050e+05           27486.500000   34111.500000   \n",
       "max            7.558435e+06          175791.000000  635057.000000   \n",
       "\n",
       "              Sales  \n",
       "count  3.051000e+03  \n",
       "mean   1.859014e+05  \n",
       "std    2.322079e+05  \n",
       "min    1.543600e+04  \n",
       "25%    7.339350e+04  \n",
       "50%    1.135730e+05  \n",
       "75%    2.029755e+05  \n",
       "max    3.575430e+06  "
      ]
     },
     "execution_count": 5,
     "metadata": {},
     "output_type": "execute_result"
    }
   ],
   "source": [
    "start_time = time.time()\n",
    "summary = df.describe()\n",
    "execution_time = time.time() - start_time\n",
    "print(execution_time)\n",
    "summary"
   ]
  },
  {
   "cell_type": "code",
   "execution_count": 8,
   "metadata": {},
   "outputs": [
    {
     "data": {
      "text/plain": [
       "Division                  object\n",
       "Calendar_Week             object\n",
       "Paid_Views                 int64\n",
       "Organic_Views              int64\n",
       "Google_Impressions         int64\n",
       "Email_Impressions        float64\n",
       "Facebook_Impressions       int64\n",
       "Affiliate_Impressions      int64\n",
       "Overall_Views              int64\n",
       "Sales                      int64\n",
       "dtype: object"
      ]
     },
     "execution_count": 8,
     "metadata": {},
     "output_type": "execute_result"
    }
   ],
   "source": [
    "df.dtypes"
   ]
  },
  {
   "cell_type": "code",
   "execution_count": 10,
   "metadata": {},
   "outputs": [
    {
     "data": {
      "text/plain": [
       "Paid_Views                15093.941658\n",
       "Organic_Views             13355.673222\n",
       "Google_Impressions       886173.830875\n",
       "Email_Impressions        760509.377761\n",
       "Facebook_Impressions     269126.887906\n",
       "Affiliate_Impressions     22910.902655\n",
       "Overall_Views             27980.914127\n",
       "Sales                    185901.396591\n",
       "dtype: float64"
      ]
     },
     "execution_count": 10,
     "metadata": {},
     "output_type": "execute_result"
    }
   ],
   "source": [
    "col_num = ['Paid_Views', 'Organic_Views','Google_Impressions', 'Email_Impressions', 'Facebook_Impressions',\n",
    "           'Affiliate_Impressions', 'Overall_Views', 'Sales']\n",
    "np.mean(df[col_num], axis=0)"
   ]
  },
  {
   "cell_type": "code",
   "execution_count": 27,
   "metadata": {},
   "outputs": [
    {
     "name": "stdout",
     "output_type": "stream",
     "text": [
      "0.007187843322753906\n"
     ]
    }
   ],
   "source": [
    "start_time = time.time()\n",
    "col_num = ['Paid_Views', 'Organic_Views','Google_Impressions', 'Email_Impressions', 'Facebook_Impressions',\n",
    "           'Affiliate_Impressions', 'Overall_Views', 'Sales']\n",
    "np_summary = {\n",
    "    'mean': np.mean(df[col_num], axis=0),\n",
    "    'std': np.std(df[col_num], axis=0),\n",
    "    'min': np.min(df[col_num], axis=0),\n",
    "    '25%': np.percentile(df[col_num], 25, axis=0),\n",
    "    '50%': np.percentile(df[col_num], 50, axis=0),\n",
    "    '75%': np.percentile(df[col_num], 75, axis=0),\n",
    "    'max': np.max(df[col_num], axis=0)\n",
    "}\n",
    "execution_time = time.time() - start_time\n",
    "print(execution_time)"
   ]
  },
  {
   "cell_type": "code",
   "execution_count": 37,
   "metadata": {},
   "outputs": [
    {
     "data": {
      "text/plain": [
       "1.3431073371367919"
      ]
     },
     "execution_count": 37,
     "metadata": {},
     "output_type": "execute_result"
    }
   ],
   "source": [
    "0.009654045104980469/0.007187843322753906"
   ]
  },
  {
   "cell_type": "code",
   "execution_count": 31,
   "metadata": {},
   "outputs": [
    {
     "data": {
      "text/plain": [
       "{'mean': Paid_Views                15093.941658\n",
       " Organic_Views             13355.673222\n",
       " Google_Impressions       886173.830875\n",
       " Email_Impressions        760509.377761\n",
       " Facebook_Impressions     269126.887906\n",
       " Affiliate_Impressions     22910.902655\n",
       " Overall_Views             27980.914127\n",
       " Sales                    185901.396591\n",
       " dtype: float64,\n",
       " 'std': Paid_Views               3.078084e+04\n",
       " Organic_Views            2.407545e+04\n",
       " Google_Impressions       1.354854e+06\n",
       " Email_Impressions        6.259115e+05\n",
       " Facebook_Impressions     4.664352e+05\n",
       " Affiliate_Impressions    2.161409e+04\n",
       " Overall_Views            5.204645e+04\n",
       " Sales                    2.321698e+05\n",
       " dtype: float64,\n",
       " 'min': Paid_Views                   1.00000\n",
       " Organic_Views                1.00000\n",
       " Google_Impressions           7.00000\n",
       " Email_Impressions        40894.44732\n",
       " Facebook_Impressions        29.00000\n",
       " Affiliate_Impressions      910.00000\n",
       " Overall_Views                2.00000\n",
       " Sales                    15436.00000\n",
       " dtype: float64,\n",
       " '25%': array([   537.    ,    712.5   , 169828.    , 378496.9247,  57073.5   ,\n",
       "          9127.    ,    747.    ,  73393.5   ]),\n",
       " '50%': array([  2699.   ,   4110.   , 490531.   , 590970.802, 127523.   ,\n",
       "         16658.   ,   7879.   , 113573.   ]),\n",
       " '75%': array([  17358.    ,   16230.5   , 1022621.5   ,  962246.6105,\n",
       "         283505.    ,   27486.5   ,   34111.5   ,  202975.5   ]),\n",
       " 'max': Paid_Views               5.181900e+05\n",
       " Organic_Views            2.704530e+05\n",
       " Google_Impressions       1.715044e+07\n",
       " Email_Impressions        7.317730e+06\n",
       " Facebook_Impressions     7.558435e+06\n",
       " Affiliate_Impressions    1.757910e+05\n",
       " Overall_Views            6.350570e+05\n",
       " Sales                    3.575430e+06\n",
       " dtype: float64}"
      ]
     },
     "execution_count": 31,
     "metadata": {},
     "output_type": "execute_result"
    }
   ],
   "source": [
    "np_summary"
   ]
  },
  {
   "cell_type": "code",
   "execution_count": 26,
   "metadata": {},
   "outputs": [
    {
     "data": {
      "text/plain": [
       "Paid_Views                15093.941658\n",
       "Organic_Views             13355.673222\n",
       "Google_Impressions       886173.830875\n",
       "Email_Impressions        760509.377761\n",
       "Facebook_Impressions     269126.887906\n",
       "Affiliate_Impressions     22910.902655\n",
       "Overall_Views             27980.914127\n",
       "Sales                    185901.396591\n",
       "dtype: float64"
      ]
     },
     "execution_count": 26,
     "metadata": {},
     "output_type": "execute_result"
    }
   ],
   "source": [
    "np_summary.get('mean')"
   ]
  },
  {
   "cell_type": "code",
   "execution_count": 34,
   "metadata": {},
   "outputs": [
    {
     "name": "stdout",
     "output_type": "stream",
     "text": [
      "0.2841949462890625\n"
     ]
    }
   ],
   "source": [
    "start_time = time.time()\n",
    "df['Paid_Views'].mean()\n",
    "execution_time = time.time() - start_time\n",
    "print(execution_time*1000)"
   ]
  },
  {
   "cell_type": "code",
   "execution_count": 35,
   "metadata": {},
   "outputs": [
    {
     "name": "stdout",
     "output_type": "stream",
     "text": [
      "0.19097328186035156\n"
     ]
    }
   ],
   "source": [
    "start_time = time.time()\n",
    "np.mean(df['Paid_Views'], axis=0)\n",
    "execution_time = time.time() - start_time\n",
    "print(execution_time*1000)"
   ]
  },
  {
   "cell_type": "code",
   "execution_count": 36,
   "metadata": {},
   "outputs": [
    {
     "data": {
      "text/plain": [
       "1.488139825218477"
      ]
     },
     "execution_count": 36,
     "metadata": {},
     "output_type": "execute_result"
    }
   ],
   "source": [
    "0.2841949462890625/0.19097328186035156"
   ]
  },
  {
   "cell_type": "markdown",
   "metadata": {},
   "source": [
    "### Etapa 2: Operaciones con agrupaciones"
   ]
  },
  {
   "cell_type": "code",
   "execution_count": 44,
   "metadata": {},
   "outputs": [
    {
     "name": "stdout",
     "output_type": "stream",
     "text": [
      "4.470109939575195\n"
     ]
    },
    {
     "data": {
      "text/html": [
       "<div>\n",
       "<style scoped>\n",
       "    .dataframe tbody tr th:only-of-type {\n",
       "        vertical-align: middle;\n",
       "    }\n",
       "\n",
       "    .dataframe tbody tr th {\n",
       "        vertical-align: top;\n",
       "    }\n",
       "\n",
       "    .dataframe thead th {\n",
       "        text-align: right;\n",
       "    }\n",
       "</style>\n",
       "<table border=\"1\" class=\"dataframe\">\n",
       "  <thead>\n",
       "    <tr style=\"text-align: right;\">\n",
       "      <th></th>\n",
       "      <th>Paid_Views</th>\n",
       "      <th>Organic_Views</th>\n",
       "      <th>Google_Impressions</th>\n",
       "      <th>Sales</th>\n",
       "    </tr>\n",
       "    <tr>\n",
       "      <th>Division</th>\n",
       "      <th></th>\n",
       "      <th></th>\n",
       "      <th></th>\n",
       "      <th></th>\n",
       "    </tr>\n",
       "  </thead>\n",
       "  <tbody>\n",
       "    <tr>\n",
       "      <th>A</th>\n",
       "      <td>9396.309735</td>\n",
       "      <td>8051.884956</td>\n",
       "      <td>4.902766e+05</td>\n",
       "      <td>103391.238938</td>\n",
       "    </tr>\n",
       "    <tr>\n",
       "      <th>B</th>\n",
       "      <td>66616.884956</td>\n",
       "      <td>57691.955752</td>\n",
       "      <td>4.058473e+06</td>\n",
       "      <td>876130.584071</td>\n",
       "    </tr>\n",
       "    <tr>\n",
       "      <th>C</th>\n",
       "      <td>959.530973</td>\n",
       "      <td>1202.610619</td>\n",
       "      <td>4.487434e+02</td>\n",
       "      <td>81640.008850</td>\n",
       "    </tr>\n",
       "    <tr>\n",
       "      <th>D</th>\n",
       "      <td>19809.823009</td>\n",
       "      <td>17954.194690</td>\n",
       "      <td>9.699456e+05</td>\n",
       "      <td>201645.442478</td>\n",
       "    </tr>\n",
       "    <tr>\n",
       "      <th>E</th>\n",
       "      <td>30452.601770</td>\n",
       "      <td>26485.849558</td>\n",
       "      <td>2.134733e+06</td>\n",
       "      <td>457977.734513</td>\n",
       "    </tr>\n",
       "  </tbody>\n",
       "</table>\n",
       "</div>"
      ],
      "text/plain": [
       "            Paid_Views  Organic_Views  Google_Impressions          Sales\n",
       "Division                                                                \n",
       "A          9396.309735    8051.884956        4.902766e+05  103391.238938\n",
       "B         66616.884956   57691.955752        4.058473e+06  876130.584071\n",
       "C           959.530973    1202.610619        4.487434e+02   81640.008850\n",
       "D         19809.823009   17954.194690        9.699456e+05  201645.442478\n",
       "E         30452.601770   26485.849558        2.134733e+06  457977.734513"
      ]
     },
     "execution_count": 44,
     "metadata": {},
     "output_type": "execute_result"
    }
   ],
   "source": [
    "start_time = time.time()\n",
    "pandas_groupby = df.groupby('Division').agg({\n",
    "    'Paid_Views': 'mean',\n",
    "    'Organic_Views': 'mean',\n",
    "    'Google_Impressions': 'mean',\n",
    "    'Sales': 'mean'\n",
    "})\n",
    "pandas_groupby_time = time.time() - start_time\n",
    "print(pandas_groupby_time*1000)\n",
    "pandas_groupby.head()"
   ]
  },
  {
   "cell_type": "code",
   "execution_count": 48,
   "metadata": {},
   "outputs": [
    {
     "name": "stdout",
     "output_type": "stream",
     "text": [
      "7.6122283935546875\n"
     ]
    },
    {
     "data": {
      "text/plain": [
       "{'Paid_Views': 9396.309734513274,\n",
       " 'Organic_Views': 8051.884955752213,\n",
       " 'Google_Impressions': 490276.62831858406,\n",
       " 'Sales': 103391.2389380531}"
      ]
     },
     "execution_count": 48,
     "metadata": {},
     "output_type": "execute_result"
    }
   ],
   "source": [
    "# Fixing the column indexing issue by correctly identifying indices for numeric columns\n",
    "numeric_data = df.select_dtypes(include=[np.number]).values\n",
    "numeric_cols = df.select_dtypes(include=[np.number]).columns\n",
    "numeric_col_indices = {col: idx for idx, col in enumerate(numeric_cols)}\n",
    "\n",
    "# Group by Division using NumPy (correcting the column indices)\n",
    "start_time = time.time()\n",
    "\n",
    "divisions = df['Division'].unique()\n",
    "numpy_groupby_fixed = {}\n",
    "for division in divisions:\n",
    "    division_mask = df['Division'] == division\n",
    "    division_data = numeric_data[division_mask]\n",
    "\n",
    "    numpy_groupby_fixed[division] = {\n",
    "        'Paid_Views': np.mean(division_data[:, numeric_col_indices['Paid_Views']]),\n",
    "        'Organic_Views': np.mean(division_data[:, numeric_col_indices['Organic_Views']]),\n",
    "        'Google_Impressions': np.mean(division_data[:, numeric_col_indices['Google_Impressions']]),\n",
    "        'Sales': np.mean(division_data[:, numeric_col_indices['Sales']])\n",
    "    }\n",
    "\n",
    "numpy_groupby_fixed_time = time.time() - start_time\n",
    "print(numpy_groupby_fixed_time*1000)\n",
    "numpy_groupby_fixed.get('A')"
   ]
  },
  {
   "cell_type": "code",
   "execution_count": 52,
   "metadata": {},
   "outputs": [
    {
     "data": {
      "text/plain": [
       "-412.77248809821424"
      ]
     },
     "execution_count": 52,
     "metadata": {},
     "output_type": "execute_result"
    }
   ],
   "source": [
    "1000*(4.470109939575195-7.6122283935546)/7.6122283935546"
   ]
  },
  {
   "cell_type": "markdown",
   "metadata": {},
   "source": [
    "### Etapa 3: Matriz de correlaciones"
   ]
  },
  {
   "cell_type": "code",
   "execution_count": 58,
   "metadata": {},
   "outputs": [
    {
     "name": "stdout",
     "output_type": "stream",
     "text": [
      "1.9159317016601562\n",
      "0.7190704345703125\n"
     ]
    }
   ],
   "source": [
    "start_time = time.time()\n",
    "pandas_corr = df[col_num].corr()\n",
    "pandas_corr_time = time.time() - start_time\n",
    "print(pandas_corr_time*1000)\n",
    "\n",
    "\n",
    "start_time = time.time()\n",
    "numpy_corr = np.corrcoef(numeric_data.T)\n",
    "numpy_corr_time = time.time() - start_time\n",
    "print(numpy_corr_time*1000)"
   ]
  },
  {
   "cell_type": "code",
   "execution_count": 56,
   "metadata": {},
   "outputs": [
    {
     "data": {
      "text/html": [
       "<div>\n",
       "<style scoped>\n",
       "    .dataframe tbody tr th:only-of-type {\n",
       "        vertical-align: middle;\n",
       "    }\n",
       "\n",
       "    .dataframe tbody tr th {\n",
       "        vertical-align: top;\n",
       "    }\n",
       "\n",
       "    .dataframe thead th {\n",
       "        text-align: right;\n",
       "    }\n",
       "</style>\n",
       "<table border=\"1\" class=\"dataframe\">\n",
       "  <thead>\n",
       "    <tr style=\"text-align: right;\">\n",
       "      <th></th>\n",
       "      <th>Paid_Views</th>\n",
       "      <th>Organic_Views</th>\n",
       "      <th>Google_Impressions</th>\n",
       "      <th>Email_Impressions</th>\n",
       "      <th>Facebook_Impressions</th>\n",
       "      <th>Affiliate_Impressions</th>\n",
       "      <th>Overall_Views</th>\n",
       "      <th>Sales</th>\n",
       "    </tr>\n",
       "  </thead>\n",
       "  <tbody>\n",
       "    <tr>\n",
       "      <th>Paid_Views</th>\n",
       "      <td>1.000000</td>\n",
       "      <td>0.798104</td>\n",
       "      <td>0.305230</td>\n",
       "      <td>0.290203</td>\n",
       "      <td>0.318325</td>\n",
       "      <td>0.215768</td>\n",
       "      <td>0.960312</td>\n",
       "      <td>0.289688</td>\n",
       "    </tr>\n",
       "    <tr>\n",
       "      <th>Organic_Views</th>\n",
       "      <td>0.798104</td>\n",
       "      <td>1.000000</td>\n",
       "      <td>0.429167</td>\n",
       "      <td>0.342697</td>\n",
       "      <td>0.410265</td>\n",
       "      <td>0.231719</td>\n",
       "      <td>0.934390</td>\n",
       "      <td>0.390960</td>\n",
       "    </tr>\n",
       "    <tr>\n",
       "      <th>Google_Impressions</th>\n",
       "      <td>0.305230</td>\n",
       "      <td>0.429167</td>\n",
       "      <td>1.000000</td>\n",
       "      <td>0.636719</td>\n",
       "      <td>0.728787</td>\n",
       "      <td>0.353054</td>\n",
       "      <td>0.379076</td>\n",
       "      <td>0.783338</td>\n",
       "    </tr>\n",
       "    <tr>\n",
       "      <th>Email_Impressions</th>\n",
       "      <td>0.290203</td>\n",
       "      <td>0.342697</td>\n",
       "      <td>0.636719</td>\n",
       "      <td>1.000000</td>\n",
       "      <td>0.515894</td>\n",
       "      <td>0.697002</td>\n",
       "      <td>0.330243</td>\n",
       "      <td>0.746729</td>\n",
       "    </tr>\n",
       "    <tr>\n",
       "      <th>Facebook_Impressions</th>\n",
       "      <td>0.318325</td>\n",
       "      <td>0.410265</td>\n",
       "      <td>0.728787</td>\n",
       "      <td>0.515894</td>\n",
       "      <td>1.000000</td>\n",
       "      <td>0.290033</td>\n",
       "      <td>0.378120</td>\n",
       "      <td>0.749133</td>\n",
       "    </tr>\n",
       "    <tr>\n",
       "      <th>Affiliate_Impressions</th>\n",
       "      <td>0.215768</td>\n",
       "      <td>0.231719</td>\n",
       "      <td>0.353054</td>\n",
       "      <td>0.697002</td>\n",
       "      <td>0.290033</td>\n",
       "      <td>1.000000</td>\n",
       "      <td>0.234696</td>\n",
       "      <td>0.440282</td>\n",
       "    </tr>\n",
       "    <tr>\n",
       "      <th>Overall_Views</th>\n",
       "      <td>0.960312</td>\n",
       "      <td>0.934390</td>\n",
       "      <td>0.379076</td>\n",
       "      <td>0.330243</td>\n",
       "      <td>0.378120</td>\n",
       "      <td>0.234696</td>\n",
       "      <td>1.000000</td>\n",
       "      <td>0.352200</td>\n",
       "    </tr>\n",
       "    <tr>\n",
       "      <th>Sales</th>\n",
       "      <td>0.289688</td>\n",
       "      <td>0.390960</td>\n",
       "      <td>0.783338</td>\n",
       "      <td>0.746729</td>\n",
       "      <td>0.749133</td>\n",
       "      <td>0.440282</td>\n",
       "      <td>0.352200</td>\n",
       "      <td>1.000000</td>\n",
       "    </tr>\n",
       "  </tbody>\n",
       "</table>\n",
       "</div>"
      ],
      "text/plain": [
       "                       Paid_Views  Organic_Views  Google_Impressions  \\\n",
       "Paid_Views               1.000000       0.798104            0.305230   \n",
       "Organic_Views            0.798104       1.000000            0.429167   \n",
       "Google_Impressions       0.305230       0.429167            1.000000   \n",
       "Email_Impressions        0.290203       0.342697            0.636719   \n",
       "Facebook_Impressions     0.318325       0.410265            0.728787   \n",
       "Affiliate_Impressions    0.215768       0.231719            0.353054   \n",
       "Overall_Views            0.960312       0.934390            0.379076   \n",
       "Sales                    0.289688       0.390960            0.783338   \n",
       "\n",
       "                       Email_Impressions  Facebook_Impressions  \\\n",
       "Paid_Views                      0.290203              0.318325   \n",
       "Organic_Views                   0.342697              0.410265   \n",
       "Google_Impressions              0.636719              0.728787   \n",
       "Email_Impressions               1.000000              0.515894   \n",
       "Facebook_Impressions            0.515894              1.000000   \n",
       "Affiliate_Impressions           0.697002              0.290033   \n",
       "Overall_Views                   0.330243              0.378120   \n",
       "Sales                           0.746729              0.749133   \n",
       "\n",
       "                       Affiliate_Impressions  Overall_Views     Sales  \n",
       "Paid_Views                          0.215768       0.960312  0.289688  \n",
       "Organic_Views                       0.231719       0.934390  0.390960  \n",
       "Google_Impressions                  0.353054       0.379076  0.783338  \n",
       "Email_Impressions                   0.697002       0.330243  0.746729  \n",
       "Facebook_Impressions                0.290033       0.378120  0.749133  \n",
       "Affiliate_Impressions               1.000000       0.234696  0.440282  \n",
       "Overall_Views                       0.234696       1.000000  0.352200  \n",
       "Sales                               0.440282       0.352200  1.000000  "
      ]
     },
     "execution_count": 56,
     "metadata": {},
     "output_type": "execute_result"
    }
   ],
   "source": [
    "pandas_corr"
   ]
  },
  {
   "cell_type": "code",
   "execution_count": 57,
   "metadata": {},
   "outputs": [
    {
     "data": {
      "text/plain": [
       "array([[1.        , 0.79810393, 0.30523006, 0.29020289, 0.31832511,\n",
       "        0.21576798, 0.96031194, 0.28968761],\n",
       "       [0.79810393, 1.        , 0.42916738, 0.34269745, 0.41026507,\n",
       "        0.23171856, 0.93438991, 0.39095972],\n",
       "       [0.30523006, 0.42916738, 1.        , 0.63671947, 0.72878706,\n",
       "        0.35305351, 0.37907575, 0.78333758],\n",
       "       [0.29020289, 0.34269745, 0.63671947, 1.        , 0.5158936 ,\n",
       "        0.69700161, 0.33024278, 0.74672924],\n",
       "       [0.31832511, 0.41026507, 0.72878706, 0.5158936 , 1.        ,\n",
       "        0.29003283, 0.37811961, 0.74913297],\n",
       "       [0.21576798, 0.23171856, 0.35305351, 0.69700161, 0.29003283,\n",
       "        1.        , 0.23469597, 0.44028204],\n",
       "       [0.96031194, 0.93438991, 0.37907575, 0.33024278, 0.37811961,\n",
       "        0.23469597, 1.        , 0.35220005],\n",
       "       [0.28968761, 0.39095972, 0.78333758, 0.74672924, 0.74913297,\n",
       "        0.44028204, 0.35220005, 1.        ]])"
      ]
     },
     "execution_count": 57,
     "metadata": {},
     "output_type": "execute_result"
    }
   ],
   "source": [
    "numpy_corr"
   ]
  },
  {
   "cell_type": "code",
   "execution_count": 59,
   "metadata": {},
   "outputs": [
    {
     "data": {
      "text/plain": [
       "2.6644562334217508"
      ]
     },
     "execution_count": 59,
     "metadata": {},
     "output_type": "execute_result"
    }
   ],
   "source": [
    "1.9159317016601562/0.7190704345703125"
   ]
  },
  {
   "cell_type": "markdown",
   "metadata": {},
   "source": [
    "Preguntas a contestar:\n",
    "\n",
    "    1. ¿Qué es la correlación?\n",
    "    2. ¿Por qué la correlación es 2.6 veces más lenta de calcular en Pandas que en Numpy?"
   ]
  }
 ],
 "metadata": {
  "kernelspec": {
   "display_name": "mitic-data-science-team-1-septiembre-2024",
   "language": "python",
   "name": "python3"
  },
  "language_info": {
   "codemirror_mode": {
    "name": "ipython",
    "version": 3
   },
   "file_extension": ".py",
   "mimetype": "text/x-python",
   "name": "python",
   "nbconvert_exporter": "python",
   "pygments_lexer": "ipython3",
   "version": "3.12.2"
  }
 },
 "nbformat": 4,
 "nbformat_minor": 2
}
