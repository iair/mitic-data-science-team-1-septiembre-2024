{
  "nbformat": 4,
  "nbformat_minor": 0,
  "metadata": {
    "colab": {
      "provenance": [],
      "authorship_tag": "ABX9TyMNDh6N3ew//JukmJdOQiNK",
      "include_colab_link": true
    },
    "kernelspec": {
      "name": "python3",
      "display_name": "Python 3"
    },
    "language_info": {
      "name": "python"
    }
  },
  "cells": [
    {
      "cell_type": "markdown",
      "metadata": {
        "id": "view-in-github",
        "colab_type": "text"
      },
      "source": [
        "<a href=\"https://colab.research.google.com/github/iair/mitic-data-science-team-1-septiembre-2024/blob/main/py_CienciadeDatos_manejo_de_cadenas.ipynb\" target=\"_parent\"><img src=\"https://colab.research.google.com/assets/colab-badge.svg\" alt=\"Open In Colab\"/></a>"
      ]
    },
    {
      "cell_type": "markdown",
      "source": [
        "## Manejo de cadena de datos\n",
        "\n"
      ],
      "metadata": {
        "id": "nyC-2w5sItet"
      }
    },
    {
      "cell_type": "markdown",
      "source": [
        "### Ejercicio 1: Saludo Personalizado\n",
        "\n",
        "Crea un programa que pida al usuario su nombre y edad, y luego imprima un saludo personalizado.\n",
        "\n",
        "Usa input para capturar el nombre y la edad.\n",
        "\n",
        "Usa print para mostrar el saludo.\n"
      ],
      "metadata": {
        "id": "4q9HBNxpI3Ar"
      }
    },
    {
      "cell_type": "code",
      "execution_count": null,
      "metadata": {
        "colab": {
          "base_uri": "https://localhost:8080/"
        },
        "id": "Nd8A7h7dIngn",
        "outputId": "0a68f13e-3326-448e-8b64-359b0c5b9d6e"
      },
      "outputs": [
        {
          "output_type": "stream",
          "name": "stdout",
          "text": [
            "Hola, como te llamas? Diego\n",
            "Cuantos años tienes? 29\n",
            "Hola Diego tienes 29 años\n"
          ]
        }
      ],
      "source": [
        "name = input(\"Hola, como te llamas? \")\n",
        "edad = input(\"Cuantos años tienes? \")\n",
        "print(\"Hola\", name, \"tienes\", edad, \"años\")"
      ]
    },
    {
      "cell_type": "markdown",
      "source": [
        "### Ejercicio 2: Manipulación de Cadenas\n",
        "\n",
        "Crea una cadena con tu nombre completo.\n",
        "\n",
        "Usa los métodos de cadenas para:\n",
        "\n",
        "  - Convertir el nombre a mayúsculas y minúsculas.\n",
        "\n",
        "  - Contar el número de letras en tu nombre.\n",
        "\n",
        "  - Reemplazar tu primer nombre por otro nombre."
      ],
      "metadata": {
        "id": "zYVIWxe7JrrP"
      }
    },
    {
      "cell_type": "code",
      "source": [
        "nombre = \"Diego Nicolas Jara Villalba\"\n",
        "print(nombre.upper())\n",
        "print(nombre.lower())\n",
        "print(len(nombre))\n",
        "print(nombre.replace(\"Diego\", \"Juan\"))"
      ],
      "metadata": {
        "colab": {
          "base_uri": "https://localhost:8080/"
        },
        "id": "DFhIRDSQJ4fQ",
        "outputId": "4a76e6c2-6cd3-4f78-a881-376b5d1af5f7"
      },
      "execution_count": null,
      "outputs": [
        {
          "output_type": "stream",
          "name": "stdout",
          "text": [
            "DIEGO NICOLAS JARA VILLALBA\n",
            "diego nicolas jara villalba\n",
            "27\n",
            "Juan Nicolas Jara Villalba\n"
          ]
        }
      ]
    },
    {
      "cell_type": "markdown",
      "source": [
        "### Ejercicio 3: Lista de Nombres\n",
        "\n",
        "Pide al usuario que ingrese una lista de nombres separados por comas.\n",
        "\n",
        "Usa split para convertir esta cadena en una lista de nombres.\n",
        "\n",
        "Imprime cada nombre en una línea separada."
      ],
      "metadata": {
        "id": "oV3GK1lCKHxU"
      }
    },
    {
      "cell_type": "code",
      "source": [
        "lista_nombres = input(\"Ingrese una lista de nombres separados por comas: \")\n",
        "lista_nombres = lista_nombres.split(\",\")\n",
        "for nombre in lista_nombres:\n",
        "  print(nombre.strip())"
      ],
      "metadata": {
        "colab": {
          "base_uri": "https://localhost:8080/"
        },
        "id": "AGONZoD9KPsh",
        "outputId": "8371ab12-8c20-433c-fc48-79ee0558c2b5"
      },
      "execution_count": null,
      "outputs": [
        {
          "output_type": "stream",
          "name": "stdout",
          "text": [
            "Ingrese una lista de nombres separados por comas: Diego, Nicolas, Jara, Villalba\n",
            "Diego\n",
            "Nicolas\n",
            "Jara\n",
            "Villalba\n"
          ]
        }
      ]
    }
  ]
}